{
 "cells": [
  {
   "cell_type": "code",
   "execution_count": 1,
   "metadata": {},
   "outputs": [],
   "source": [
    "import numpy as np\n",
    "import pandas as pd\n",
    "import matplotlib.pyplot as plt\n",
    "import seaborn as sns\n",
    "import plotly.express as px\n"
   ]
  },
  {
   "cell_type": "code",
   "execution_count": 2,
   "metadata": {},
   "outputs": [],
   "source": [
    "%matplotlib inline"
   ]
  },
  {
   "cell_type": "code",
   "execution_count": 3,
   "metadata": {},
   "outputs": [
    {
     "data": {
      "text/html": [
       "<div>\n",
       "<style scoped>\n",
       "    .dataframe tbody tr th:only-of-type {\n",
       "        vertical-align: middle;\n",
       "    }\n",
       "\n",
       "    .dataframe tbody tr th {\n",
       "        vertical-align: top;\n",
       "    }\n",
       "\n",
       "    .dataframe thead th {\n",
       "        text-align: right;\n",
       "    }\n",
       "</style>\n",
       "<table border=\"1\" class=\"dataframe\">\n",
       "  <thead>\n",
       "    <tr style=\"text-align: right;\">\n",
       "      <th></th>\n",
       "      <th>Time</th>\n",
       "      <th>Conv_time</th>\n",
       "    </tr>\n",
       "  </thead>\n",
       "  <tbody>\n",
       "    <tr>\n",
       "      <th>0</th>\n",
       "      <td>6</td>\n",
       "      <td>06:00 AM</td>\n",
       "    </tr>\n",
       "    <tr>\n",
       "      <th>1</th>\n",
       "      <td>8:45</td>\n",
       "      <td>08:45 AM</td>\n",
       "    </tr>\n",
       "    <tr>\n",
       "      <th>2</th>\n",
       "      <td>7:00 AM</td>\n",
       "      <td>07:00 AM</td>\n",
       "    </tr>\n",
       "    <tr>\n",
       "      <th>3</th>\n",
       "      <td>6</td>\n",
       "      <td>06:00 AM</td>\n",
       "    </tr>\n",
       "    <tr>\n",
       "      <th>4</th>\n",
       "      <td>7:30</td>\n",
       "      <td>07:30 AM</td>\n",
       "    </tr>\n",
       "  </tbody>\n",
       "</table>\n",
       "</div>"
      ],
      "text/plain": [
       "      Time Conv_time\n",
       "0        6  06:00 AM\n",
       "1     8:45  08:45 AM\n",
       "2  7:00 AM  07:00 AM\n",
       "3        6  06:00 AM\n",
       "4     7:30  07:30 AM"
      ]
     },
     "execution_count": 3,
     "metadata": {},
     "output_type": "execute_result"
    }
   ],
   "source": [
    "times = pd.read_csv('wakeuptime.csv')\n",
    "times = times.copy().drop(columns=['Unnamed: 2', 'Unnamed: 3'])\n",
    "times.head()"
   ]
  },
  {
   "cell_type": "code",
   "execution_count": 4,
   "metadata": {},
   "outputs": [
    {
     "data": {
      "text/plain": [
       "Time         object\n",
       "Conv_time    object\n",
       "dtype: object"
      ]
     },
     "execution_count": 4,
     "metadata": {},
     "output_type": "execute_result"
    }
   ],
   "source": [
    "times.dtypes"
   ]
  },
  {
   "cell_type": "code",
   "execution_count": 5,
   "metadata": {},
   "outputs": [],
   "source": [
    "times['Conv_time'] = pd.to_datetime(times['Conv_time'])\n",
    "times['count'] = 1\n",
    "times['H:M'] = 1"
   ]
  },
  {
   "cell_type": "code",
   "execution_count": 11,
   "metadata": {},
   "outputs": [],
   "source": [
    "L = []\n",
    "for h,i in enumerate(times['Conv_time']):\n",
    "    L.append(i.time())\n",
    "    \n",
    "times['H:M'] = L"
   ]
  },
  {
   "cell_type": "code",
   "execution_count": 13,
   "metadata": {},
   "outputs": [
    {
     "data": {
      "text/html": [
       "<div>\n",
       "<style scoped>\n",
       "    .dataframe tbody tr th:only-of-type {\n",
       "        vertical-align: middle;\n",
       "    }\n",
       "\n",
       "    .dataframe tbody tr th {\n",
       "        vertical-align: top;\n",
       "    }\n",
       "\n",
       "    .dataframe thead th {\n",
       "        text-align: right;\n",
       "    }\n",
       "</style>\n",
       "<table border=\"1\" class=\"dataframe\">\n",
       "  <thead>\n",
       "    <tr style=\"text-align: right;\">\n",
       "      <th></th>\n",
       "      <th>Time</th>\n",
       "      <th>Conv_time</th>\n",
       "      <th>count</th>\n",
       "      <th>H:M</th>\n",
       "    </tr>\n",
       "  </thead>\n",
       "  <tbody>\n",
       "    <tr>\n",
       "      <th>0</th>\n",
       "      <td>6</td>\n",
       "      <td>2021-01-29 06:00:00</td>\n",
       "      <td>1</td>\n",
       "      <td>06:00:00</td>\n",
       "    </tr>\n",
       "    <tr>\n",
       "      <th>1</th>\n",
       "      <td>8:45</td>\n",
       "      <td>2021-01-29 08:45:00</td>\n",
       "      <td>1</td>\n",
       "      <td>08:45:00</td>\n",
       "    </tr>\n",
       "    <tr>\n",
       "      <th>2</th>\n",
       "      <td>7:00 AM</td>\n",
       "      <td>2021-01-29 07:00:00</td>\n",
       "      <td>1</td>\n",
       "      <td>07:00:00</td>\n",
       "    </tr>\n",
       "    <tr>\n",
       "      <th>3</th>\n",
       "      <td>6</td>\n",
       "      <td>2021-01-29 06:00:00</td>\n",
       "      <td>1</td>\n",
       "      <td>06:00:00</td>\n",
       "    </tr>\n",
       "    <tr>\n",
       "      <th>4</th>\n",
       "      <td>7:30</td>\n",
       "      <td>2021-01-29 07:30:00</td>\n",
       "      <td>1</td>\n",
       "      <td>07:30:00</td>\n",
       "    </tr>\n",
       "  </tbody>\n",
       "</table>\n",
       "</div>"
      ],
      "text/plain": [
       "      Time           Conv_time  count       H:M\n",
       "0        6 2021-01-29 06:00:00      1  06:00:00\n",
       "1     8:45 2021-01-29 08:45:00      1  08:45:00\n",
       "2  7:00 AM 2021-01-29 07:00:00      1  07:00:00\n",
       "3        6 2021-01-29 06:00:00      1  06:00:00\n",
       "4     7:30 2021-01-29 07:30:00      1  07:30:00"
      ]
     },
     "execution_count": 13,
     "metadata": {},
     "output_type": "execute_result"
    }
   ],
   "source": [
    "times.head()"
   ]
  },
  {
   "cell_type": "code",
   "execution_count": 14,
   "metadata": {},
   "outputs": [],
   "source": [
    "time_gr = times.groupby(by='H:M', as_index=False).count()\n",
    "time_gr = time_gr.sort_values(by='H:M')"
   ]
  },
  {
   "cell_type": "code",
   "execution_count": 15,
   "metadata": {},
   "outputs": [
    {
     "data": {
      "application/vnd.plotly.v1+json": {
       "config": {
        "plotlyServerURL": "https://plotly.com"
       },
       "data": [
        {
         "branchvalues": "total",
         "customdata": [
          [
           "00:00:00",
           11
          ],
          [
           "01:00:00",
           4
          ],
          [
           "02:00:00",
           3
          ],
          [
           "03:00:00",
           1
          ],
          [
           "04:00:00",
           10
          ],
          [
           "04:30:00",
           3
          ],
          [
           "04:36:00",
           1
          ],
          [
           "04:45:00",
           2
          ],
          [
           "05:00:00",
           56
          ],
          [
           "05:15:00",
           3
          ],
          [
           "05:20:00",
           2
          ],
          [
           "05:28:00",
           2
          ],
          [
           "05:30:00",
           16
          ],
          [
           "05:35:00",
           1
          ],
          [
           "05:45:00",
           8
          ],
          [
           "05:50:00",
           1
          ],
          [
           "06:00:00",
           98
          ],
          [
           "06:10:00",
           1
          ],
          [
           "06:15:00",
           4
          ],
          [
           "06:20:00",
           2
          ],
          [
           "06:25:00",
           1
          ],
          [
           "06:30:00",
           34
          ],
          [
           "06:40:00",
           2
          ],
          [
           "06:45:00",
           6
          ],
          [
           "06:50:00",
           3
          ],
          [
           "06:52:00",
           1
          ],
          [
           "07:00:00",
           165
          ],
          [
           "07:05:00",
           1
          ],
          [
           "07:10:00",
           3
          ],
          [
           "07:15:00",
           10
          ],
          [
           "07:20:00",
           2
          ],
          [
           "07:23:00",
           1
          ],
          [
           "07:30:00",
           39
          ],
          [
           "07:40:00",
           2
          ],
          [
           "07:45:00",
           6
          ],
          [
           "07:50:00",
           2
          ],
          [
           "07:55:00",
           1
          ],
          [
           "07:56:00",
           1
          ],
          [
           "08:00:00",
           78
          ],
          [
           "08:10:00",
           2
          ],
          [
           "08:15:00",
           3
          ],
          [
           "08:20:00",
           1
          ],
          [
           "08:25:00",
           1
          ],
          [
           "08:30:00",
           14
          ],
          [
           "08:45:00",
           1
          ],
          [
           "08:50:00",
           1
          ],
          [
           "09:00:00",
           12
          ],
          [
           "09:30:00",
           2
          ],
          [
           "09:40:00",
           1
          ],
          [
           "10:00:00",
           8
          ],
          [
           "11:00:00",
           2
          ],
          [
           "11:30:00",
           1
          ],
          [
           "12:00:00",
           4
          ],
          [
           "18:00:00",
           2
          ],
          [
           "19:00:00",
           1
          ],
          [
           "20:00:00",
           1
          ],
          [
           "21:00:00",
           2
          ],
          [
           "22:00:00",
           1
          ],
          [
           "23:00:00",
           1
          ],
          [
           "23:30:00",
           1
          ]
         ],
         "domain": {
          "x": [
           0,
           1
          ],
          "y": [
           0,
           1
          ]
         },
         "hovertemplate": "labels=%{label}<br>count_sum=%{value}<br>parent=%{parent}<br>id=%{id}<br>H:M=%{customdata[0]}<br>count=%{color}<extra></extra>",
         "ids": [
          "00:00:00",
          "01:00:00",
          "02:00:00",
          "03:00:00",
          "04:00:00",
          "04:30:00",
          "04:36:00",
          "04:45:00",
          "05:00:00",
          "05:15:00",
          "05:20:00",
          "05:28:00",
          "05:30:00",
          "05:35:00",
          "05:45:00",
          "05:50:00",
          "06:00:00",
          "06:10:00",
          "06:15:00",
          "06:20:00",
          "06:25:00",
          "06:30:00",
          "06:40:00",
          "06:45:00",
          "06:50:00",
          "06:52:00",
          "07:00:00",
          "07:05:00",
          "07:10:00",
          "07:15:00",
          "07:20:00",
          "07:23:00",
          "07:30:00",
          "07:40:00",
          "07:45:00",
          "07:50:00",
          "07:55:00",
          "07:56:00",
          "08:00:00",
          "08:10:00",
          "08:15:00",
          "08:20:00",
          "08:25:00",
          "08:30:00",
          "08:45:00",
          "08:50:00",
          "09:00:00",
          "09:30:00",
          "09:40:00",
          "10:00:00",
          "11:00:00",
          "11:30:00",
          "12:00:00",
          "18:00:00",
          "19:00:00",
          "20:00:00",
          "21:00:00",
          "22:00:00",
          "23:00:00",
          "23:30:00"
         ],
         "labels": [
          "00:00:00",
          "01:00:00",
          "02:00:00",
          "03:00:00",
          "04:00:00",
          "04:30:00",
          "04:36:00",
          "04:45:00",
          "05:00:00",
          "05:15:00",
          "05:20:00",
          "05:28:00",
          "05:30:00",
          "05:35:00",
          "05:45:00",
          "05:50:00",
          "06:00:00",
          "06:10:00",
          "06:15:00",
          "06:20:00",
          "06:25:00",
          "06:30:00",
          "06:40:00",
          "06:45:00",
          "06:50:00",
          "06:52:00",
          "07:00:00",
          "07:05:00",
          "07:10:00",
          "07:15:00",
          "07:20:00",
          "07:23:00",
          "07:30:00",
          "07:40:00",
          "07:45:00",
          "07:50:00",
          "07:55:00",
          "07:56:00",
          "08:00:00",
          "08:10:00",
          "08:15:00",
          "08:20:00",
          "08:25:00",
          "08:30:00",
          "08:45:00",
          "08:50:00",
          "09:00:00",
          "09:30:00",
          "09:40:00",
          "10:00:00",
          "11:00:00",
          "11:30:00",
          "12:00:00",
          "18:00:00",
          "19:00:00",
          "20:00:00",
          "21:00:00",
          "22:00:00",
          "23:00:00",
          "23:30:00"
         ],
         "marker": {
          "coloraxis": "coloraxis",
          "colors": [
           11,
           4,
           3,
           1,
           10,
           3,
           1,
           2,
           56,
           3,
           2,
           2,
           16,
           1,
           8,
           1,
           98,
           1,
           4,
           2,
           1,
           34,
           2,
           6,
           3,
           1,
           165,
           1,
           3,
           10,
           2,
           1,
           39,
           2,
           6,
           2,
           1,
           1,
           78,
           2,
           3,
           1,
           1,
           14,
           1,
           1,
           12,
           2,
           1,
           8,
           2,
           1,
           4,
           2,
           1,
           1,
           2,
           1,
           1,
           1
          ]
         },
         "name": "",
         "parents": [
          "",
          "",
          "",
          "",
          "",
          "",
          "",
          "",
          "",
          "",
          "",
          "",
          "",
          "",
          "",
          "",
          "",
          "",
          "",
          "",
          "",
          "",
          "",
          "",
          "",
          "",
          "",
          "",
          "",
          "",
          "",
          "",
          "",
          "",
          "",
          "",
          "",
          "",
          "",
          "",
          "",
          "",
          "",
          "",
          "",
          "",
          "",
          "",
          "",
          "",
          "",
          "",
          "",
          "",
          "",
          "",
          "",
          "",
          "",
          ""
         ],
         "type": "sunburst",
         "values": [
          11,
          4,
          3,
          1,
          10,
          3,
          1,
          2,
          56,
          3,
          2,
          2,
          16,
          1,
          8,
          1,
          98,
          1,
          4,
          2,
          1,
          34,
          2,
          6,
          3,
          1,
          165,
          1,
          3,
          10,
          2,
          1,
          39,
          2,
          6,
          2,
          1,
          1,
          78,
          2,
          3,
          1,
          1,
          14,
          1,
          1,
          12,
          2,
          1,
          8,
          2,
          1,
          4,
          2,
          1,
          1,
          2,
          1,
          1,
          1
         ]
        }
       ],
       "layout": {
        "coloraxis": {
         "colorbar": {
          "title": {
           "text": "count"
          }
         },
         "colorscale": [
          [
           0,
           "rgb(0,0,255)"
          ],
          [
           1,
           "rgb(255,0,0)"
          ]
         ]
        },
        "legend": {
         "tracegroupgap": 0
        },
        "margin": {
         "t": 60
        },
        "template": {
         "data": {
          "bar": [
           {
            "error_x": {
             "color": "#2a3f5f"
            },
            "error_y": {
             "color": "#2a3f5f"
            },
            "marker": {
             "line": {
              "color": "#E5ECF6",
              "width": 0.5
             }
            },
            "type": "bar"
           }
          ],
          "barpolar": [
           {
            "marker": {
             "line": {
              "color": "#E5ECF6",
              "width": 0.5
             }
            },
            "type": "barpolar"
           }
          ],
          "carpet": [
           {
            "aaxis": {
             "endlinecolor": "#2a3f5f",
             "gridcolor": "white",
             "linecolor": "white",
             "minorgridcolor": "white",
             "startlinecolor": "#2a3f5f"
            },
            "baxis": {
             "endlinecolor": "#2a3f5f",
             "gridcolor": "white",
             "linecolor": "white",
             "minorgridcolor": "white",
             "startlinecolor": "#2a3f5f"
            },
            "type": "carpet"
           }
          ],
          "choropleth": [
           {
            "colorbar": {
             "outlinewidth": 0,
             "ticks": ""
            },
            "type": "choropleth"
           }
          ],
          "contour": [
           {
            "colorbar": {
             "outlinewidth": 0,
             "ticks": ""
            },
            "colorscale": [
             [
              0,
              "#0d0887"
             ],
             [
              0.1111111111111111,
              "#46039f"
             ],
             [
              0.2222222222222222,
              "#7201a8"
             ],
             [
              0.3333333333333333,
              "#9c179e"
             ],
             [
              0.4444444444444444,
              "#bd3786"
             ],
             [
              0.5555555555555556,
              "#d8576b"
             ],
             [
              0.6666666666666666,
              "#ed7953"
             ],
             [
              0.7777777777777778,
              "#fb9f3a"
             ],
             [
              0.8888888888888888,
              "#fdca26"
             ],
             [
              1,
              "#f0f921"
             ]
            ],
            "type": "contour"
           }
          ],
          "contourcarpet": [
           {
            "colorbar": {
             "outlinewidth": 0,
             "ticks": ""
            },
            "type": "contourcarpet"
           }
          ],
          "heatmap": [
           {
            "colorbar": {
             "outlinewidth": 0,
             "ticks": ""
            },
            "colorscale": [
             [
              0,
              "#0d0887"
             ],
             [
              0.1111111111111111,
              "#46039f"
             ],
             [
              0.2222222222222222,
              "#7201a8"
             ],
             [
              0.3333333333333333,
              "#9c179e"
             ],
             [
              0.4444444444444444,
              "#bd3786"
             ],
             [
              0.5555555555555556,
              "#d8576b"
             ],
             [
              0.6666666666666666,
              "#ed7953"
             ],
             [
              0.7777777777777778,
              "#fb9f3a"
             ],
             [
              0.8888888888888888,
              "#fdca26"
             ],
             [
              1,
              "#f0f921"
             ]
            ],
            "type": "heatmap"
           }
          ],
          "heatmapgl": [
           {
            "colorbar": {
             "outlinewidth": 0,
             "ticks": ""
            },
            "colorscale": [
             [
              0,
              "#0d0887"
             ],
             [
              0.1111111111111111,
              "#46039f"
             ],
             [
              0.2222222222222222,
              "#7201a8"
             ],
             [
              0.3333333333333333,
              "#9c179e"
             ],
             [
              0.4444444444444444,
              "#bd3786"
             ],
             [
              0.5555555555555556,
              "#d8576b"
             ],
             [
              0.6666666666666666,
              "#ed7953"
             ],
             [
              0.7777777777777778,
              "#fb9f3a"
             ],
             [
              0.8888888888888888,
              "#fdca26"
             ],
             [
              1,
              "#f0f921"
             ]
            ],
            "type": "heatmapgl"
           }
          ],
          "histogram": [
           {
            "marker": {
             "colorbar": {
              "outlinewidth": 0,
              "ticks": ""
             }
            },
            "type": "histogram"
           }
          ],
          "histogram2d": [
           {
            "colorbar": {
             "outlinewidth": 0,
             "ticks": ""
            },
            "colorscale": [
             [
              0,
              "#0d0887"
             ],
             [
              0.1111111111111111,
              "#46039f"
             ],
             [
              0.2222222222222222,
              "#7201a8"
             ],
             [
              0.3333333333333333,
              "#9c179e"
             ],
             [
              0.4444444444444444,
              "#bd3786"
             ],
             [
              0.5555555555555556,
              "#d8576b"
             ],
             [
              0.6666666666666666,
              "#ed7953"
             ],
             [
              0.7777777777777778,
              "#fb9f3a"
             ],
             [
              0.8888888888888888,
              "#fdca26"
             ],
             [
              1,
              "#f0f921"
             ]
            ],
            "type": "histogram2d"
           }
          ],
          "histogram2dcontour": [
           {
            "colorbar": {
             "outlinewidth": 0,
             "ticks": ""
            },
            "colorscale": [
             [
              0,
              "#0d0887"
             ],
             [
              0.1111111111111111,
              "#46039f"
             ],
             [
              0.2222222222222222,
              "#7201a8"
             ],
             [
              0.3333333333333333,
              "#9c179e"
             ],
             [
              0.4444444444444444,
              "#bd3786"
             ],
             [
              0.5555555555555556,
              "#d8576b"
             ],
             [
              0.6666666666666666,
              "#ed7953"
             ],
             [
              0.7777777777777778,
              "#fb9f3a"
             ],
             [
              0.8888888888888888,
              "#fdca26"
             ],
             [
              1,
              "#f0f921"
             ]
            ],
            "type": "histogram2dcontour"
           }
          ],
          "mesh3d": [
           {
            "colorbar": {
             "outlinewidth": 0,
             "ticks": ""
            },
            "type": "mesh3d"
           }
          ],
          "parcoords": [
           {
            "line": {
             "colorbar": {
              "outlinewidth": 0,
              "ticks": ""
             }
            },
            "type": "parcoords"
           }
          ],
          "pie": [
           {
            "automargin": true,
            "type": "pie"
           }
          ],
          "scatter": [
           {
            "marker": {
             "colorbar": {
              "outlinewidth": 0,
              "ticks": ""
             }
            },
            "type": "scatter"
           }
          ],
          "scatter3d": [
           {
            "line": {
             "colorbar": {
              "outlinewidth": 0,
              "ticks": ""
             }
            },
            "marker": {
             "colorbar": {
              "outlinewidth": 0,
              "ticks": ""
             }
            },
            "type": "scatter3d"
           }
          ],
          "scattercarpet": [
           {
            "marker": {
             "colorbar": {
              "outlinewidth": 0,
              "ticks": ""
             }
            },
            "type": "scattercarpet"
           }
          ],
          "scattergeo": [
           {
            "marker": {
             "colorbar": {
              "outlinewidth": 0,
              "ticks": ""
             }
            },
            "type": "scattergeo"
           }
          ],
          "scattergl": [
           {
            "marker": {
             "colorbar": {
              "outlinewidth": 0,
              "ticks": ""
             }
            },
            "type": "scattergl"
           }
          ],
          "scattermapbox": [
           {
            "marker": {
             "colorbar": {
              "outlinewidth": 0,
              "ticks": ""
             }
            },
            "type": "scattermapbox"
           }
          ],
          "scatterpolar": [
           {
            "marker": {
             "colorbar": {
              "outlinewidth": 0,
              "ticks": ""
             }
            },
            "type": "scatterpolar"
           }
          ],
          "scatterpolargl": [
           {
            "marker": {
             "colorbar": {
              "outlinewidth": 0,
              "ticks": ""
             }
            },
            "type": "scatterpolargl"
           }
          ],
          "scatterternary": [
           {
            "marker": {
             "colorbar": {
              "outlinewidth": 0,
              "ticks": ""
             }
            },
            "type": "scatterternary"
           }
          ],
          "surface": [
           {
            "colorbar": {
             "outlinewidth": 0,
             "ticks": ""
            },
            "colorscale": [
             [
              0,
              "#0d0887"
             ],
             [
              0.1111111111111111,
              "#46039f"
             ],
             [
              0.2222222222222222,
              "#7201a8"
             ],
             [
              0.3333333333333333,
              "#9c179e"
             ],
             [
              0.4444444444444444,
              "#bd3786"
             ],
             [
              0.5555555555555556,
              "#d8576b"
             ],
             [
              0.6666666666666666,
              "#ed7953"
             ],
             [
              0.7777777777777778,
              "#fb9f3a"
             ],
             [
              0.8888888888888888,
              "#fdca26"
             ],
             [
              1,
              "#f0f921"
             ]
            ],
            "type": "surface"
           }
          ],
          "table": [
           {
            "cells": {
             "fill": {
              "color": "#EBF0F8"
             },
             "line": {
              "color": "white"
             }
            },
            "header": {
             "fill": {
              "color": "#C8D4E3"
             },
             "line": {
              "color": "white"
             }
            },
            "type": "table"
           }
          ]
         },
         "layout": {
          "annotationdefaults": {
           "arrowcolor": "#2a3f5f",
           "arrowhead": 0,
           "arrowwidth": 1
          },
          "coloraxis": {
           "colorbar": {
            "outlinewidth": 0,
            "ticks": ""
           }
          },
          "colorscale": {
           "diverging": [
            [
             0,
             "#8e0152"
            ],
            [
             0.1,
             "#c51b7d"
            ],
            [
             0.2,
             "#de77ae"
            ],
            [
             0.3,
             "#f1b6da"
            ],
            [
             0.4,
             "#fde0ef"
            ],
            [
             0.5,
             "#f7f7f7"
            ],
            [
             0.6,
             "#e6f5d0"
            ],
            [
             0.7,
             "#b8e186"
            ],
            [
             0.8,
             "#7fbc41"
            ],
            [
             0.9,
             "#4d9221"
            ],
            [
             1,
             "#276419"
            ]
           ],
           "sequential": [
            [
             0,
             "#0d0887"
            ],
            [
             0.1111111111111111,
             "#46039f"
            ],
            [
             0.2222222222222222,
             "#7201a8"
            ],
            [
             0.3333333333333333,
             "#9c179e"
            ],
            [
             0.4444444444444444,
             "#bd3786"
            ],
            [
             0.5555555555555556,
             "#d8576b"
            ],
            [
             0.6666666666666666,
             "#ed7953"
            ],
            [
             0.7777777777777778,
             "#fb9f3a"
            ],
            [
             0.8888888888888888,
             "#fdca26"
            ],
            [
             1,
             "#f0f921"
            ]
           ],
           "sequentialminus": [
            [
             0,
             "#0d0887"
            ],
            [
             0.1111111111111111,
             "#46039f"
            ],
            [
             0.2222222222222222,
             "#7201a8"
            ],
            [
             0.3333333333333333,
             "#9c179e"
            ],
            [
             0.4444444444444444,
             "#bd3786"
            ],
            [
             0.5555555555555556,
             "#d8576b"
            ],
            [
             0.6666666666666666,
             "#ed7953"
            ],
            [
             0.7777777777777778,
             "#fb9f3a"
            ],
            [
             0.8888888888888888,
             "#fdca26"
            ],
            [
             1,
             "#f0f921"
            ]
           ]
          },
          "colorway": [
           "#636efa",
           "#EF553B",
           "#00cc96",
           "#ab63fa",
           "#FFA15A",
           "#19d3f3",
           "#FF6692",
           "#B6E880",
           "#FF97FF",
           "#FECB52"
          ],
          "font": {
           "color": "#2a3f5f"
          },
          "geo": {
           "bgcolor": "white",
           "lakecolor": "white",
           "landcolor": "#E5ECF6",
           "showlakes": true,
           "showland": true,
           "subunitcolor": "white"
          },
          "hoverlabel": {
           "align": "left"
          },
          "hovermode": "closest",
          "mapbox": {
           "style": "light"
          },
          "paper_bgcolor": "white",
          "plot_bgcolor": "#E5ECF6",
          "polar": {
           "angularaxis": {
            "gridcolor": "white",
            "linecolor": "white",
            "ticks": ""
           },
           "bgcolor": "#E5ECF6",
           "radialaxis": {
            "gridcolor": "white",
            "linecolor": "white",
            "ticks": ""
           }
          },
          "scene": {
           "xaxis": {
            "backgroundcolor": "#E5ECF6",
            "gridcolor": "white",
            "gridwidth": 2,
            "linecolor": "white",
            "showbackground": true,
            "ticks": "",
            "zerolinecolor": "white"
           },
           "yaxis": {
            "backgroundcolor": "#E5ECF6",
            "gridcolor": "white",
            "gridwidth": 2,
            "linecolor": "white",
            "showbackground": true,
            "ticks": "",
            "zerolinecolor": "white"
           },
           "zaxis": {
            "backgroundcolor": "#E5ECF6",
            "gridcolor": "white",
            "gridwidth": 2,
            "linecolor": "white",
            "showbackground": true,
            "ticks": "",
            "zerolinecolor": "white"
           }
          },
          "shapedefaults": {
           "line": {
            "color": "#2a3f5f"
           }
          },
          "ternary": {
           "aaxis": {
            "gridcolor": "white",
            "linecolor": "white",
            "ticks": ""
           },
           "baxis": {
            "gridcolor": "white",
            "linecolor": "white",
            "ticks": ""
           },
           "bgcolor": "#E5ECF6",
           "caxis": {
            "gridcolor": "white",
            "linecolor": "white",
            "ticks": ""
           }
          },
          "title": {
           "x": 0.05
          },
          "xaxis": {
           "automargin": true,
           "gridcolor": "white",
           "linecolor": "white",
           "ticks": "",
           "title": {
            "standoff": 15
           },
           "zerolinecolor": "white",
           "zerolinewidth": 2
          },
          "yaxis": {
           "automargin": true,
           "gridcolor": "white",
           "linecolor": "white",
           "ticks": "",
           "title": {
            "standoff": 15
           },
           "zerolinecolor": "white",
           "zerolinewidth": 2
          }
         }
        }
       }
      },
      "text/html": [
       "<div>                            <div id=\"95e38f07-fb00-4c83-b4bd-76dfb475a41a\" class=\"plotly-graph-div\" style=\"height:525px; width:100%;\"></div>            <script type=\"text/javascript\">                require([\"plotly\"], function(Plotly) {                    window.PLOTLYENV=window.PLOTLYENV || {};                                    if (document.getElementById(\"95e38f07-fb00-4c83-b4bd-76dfb475a41a\")) {                    Plotly.newPlot(                        \"95e38f07-fb00-4c83-b4bd-76dfb475a41a\",                        [{\"branchvalues\": \"total\", \"customdata\": [[\"00:00:00\", 11], [\"01:00:00\", 4], [\"02:00:00\", 3], [\"03:00:00\", 1], [\"04:00:00\", 10], [\"04:30:00\", 3], [\"04:36:00\", 1], [\"04:45:00\", 2], [\"05:00:00\", 56], [\"05:15:00\", 3], [\"05:20:00\", 2], [\"05:28:00\", 2], [\"05:30:00\", 16], [\"05:35:00\", 1], [\"05:45:00\", 8], [\"05:50:00\", 1], [\"06:00:00\", 98], [\"06:10:00\", 1], [\"06:15:00\", 4], [\"06:20:00\", 2], [\"06:25:00\", 1], [\"06:30:00\", 34], [\"06:40:00\", 2], [\"06:45:00\", 6], [\"06:50:00\", 3], [\"06:52:00\", 1], [\"07:00:00\", 165], [\"07:05:00\", 1], [\"07:10:00\", 3], [\"07:15:00\", 10], [\"07:20:00\", 2], [\"07:23:00\", 1], [\"07:30:00\", 39], [\"07:40:00\", 2], [\"07:45:00\", 6], [\"07:50:00\", 2], [\"07:55:00\", 1], [\"07:56:00\", 1], [\"08:00:00\", 78], [\"08:10:00\", 2], [\"08:15:00\", 3], [\"08:20:00\", 1], [\"08:25:00\", 1], [\"08:30:00\", 14], [\"08:45:00\", 1], [\"08:50:00\", 1], [\"09:00:00\", 12], [\"09:30:00\", 2], [\"09:40:00\", 1], [\"10:00:00\", 8], [\"11:00:00\", 2], [\"11:30:00\", 1], [\"12:00:00\", 4], [\"18:00:00\", 2], [\"19:00:00\", 1], [\"20:00:00\", 1], [\"21:00:00\", 2], [\"22:00:00\", 1], [\"23:00:00\", 1], [\"23:30:00\", 1]], \"domain\": {\"x\": [0.0, 1.0], \"y\": [0.0, 1.0]}, \"hovertemplate\": \"labels=%{label}<br>count_sum=%{value}<br>parent=%{parent}<br>id=%{id}<br>H:M=%{customdata[0]}<br>count=%{color}<extra></extra>\", \"ids\": [\"00:00:00\", \"01:00:00\", \"02:00:00\", \"03:00:00\", \"04:00:00\", \"04:30:00\", \"04:36:00\", \"04:45:00\", \"05:00:00\", \"05:15:00\", \"05:20:00\", \"05:28:00\", \"05:30:00\", \"05:35:00\", \"05:45:00\", \"05:50:00\", \"06:00:00\", \"06:10:00\", \"06:15:00\", \"06:20:00\", \"06:25:00\", \"06:30:00\", \"06:40:00\", \"06:45:00\", \"06:50:00\", \"06:52:00\", \"07:00:00\", \"07:05:00\", \"07:10:00\", \"07:15:00\", \"07:20:00\", \"07:23:00\", \"07:30:00\", \"07:40:00\", \"07:45:00\", \"07:50:00\", \"07:55:00\", \"07:56:00\", \"08:00:00\", \"08:10:00\", \"08:15:00\", \"08:20:00\", \"08:25:00\", \"08:30:00\", \"08:45:00\", \"08:50:00\", \"09:00:00\", \"09:30:00\", \"09:40:00\", \"10:00:00\", \"11:00:00\", \"11:30:00\", \"12:00:00\", \"18:00:00\", \"19:00:00\", \"20:00:00\", \"21:00:00\", \"22:00:00\", \"23:00:00\", \"23:30:00\"], \"labels\": [\"00:00:00\", \"01:00:00\", \"02:00:00\", \"03:00:00\", \"04:00:00\", \"04:30:00\", \"04:36:00\", \"04:45:00\", \"05:00:00\", \"05:15:00\", \"05:20:00\", \"05:28:00\", \"05:30:00\", \"05:35:00\", \"05:45:00\", \"05:50:00\", \"06:00:00\", \"06:10:00\", \"06:15:00\", \"06:20:00\", \"06:25:00\", \"06:30:00\", \"06:40:00\", \"06:45:00\", \"06:50:00\", \"06:52:00\", \"07:00:00\", \"07:05:00\", \"07:10:00\", \"07:15:00\", \"07:20:00\", \"07:23:00\", \"07:30:00\", \"07:40:00\", \"07:45:00\", \"07:50:00\", \"07:55:00\", \"07:56:00\", \"08:00:00\", \"08:10:00\", \"08:15:00\", \"08:20:00\", \"08:25:00\", \"08:30:00\", \"08:45:00\", \"08:50:00\", \"09:00:00\", \"09:30:00\", \"09:40:00\", \"10:00:00\", \"11:00:00\", \"11:30:00\", \"12:00:00\", \"18:00:00\", \"19:00:00\", \"20:00:00\", \"21:00:00\", \"22:00:00\", \"23:00:00\", \"23:30:00\"], \"marker\": {\"coloraxis\": \"coloraxis\", \"colors\": [11, 4, 3, 1, 10, 3, 1, 2, 56, 3, 2, 2, 16, 1, 8, 1, 98, 1, 4, 2, 1, 34, 2, 6, 3, 1, 165, 1, 3, 10, 2, 1, 39, 2, 6, 2, 1, 1, 78, 2, 3, 1, 1, 14, 1, 1, 12, 2, 1, 8, 2, 1, 4, 2, 1, 1, 2, 1, 1, 1]}, \"name\": \"\", \"parents\": [\"\", \"\", \"\", \"\", \"\", \"\", \"\", \"\", \"\", \"\", \"\", \"\", \"\", \"\", \"\", \"\", \"\", \"\", \"\", \"\", \"\", \"\", \"\", \"\", \"\", \"\", \"\", \"\", \"\", \"\", \"\", \"\", \"\", \"\", \"\", \"\", \"\", \"\", \"\", \"\", \"\", \"\", \"\", \"\", \"\", \"\", \"\", \"\", \"\", \"\", \"\", \"\", \"\", \"\", \"\", \"\", \"\", \"\", \"\", \"\"], \"type\": \"sunburst\", \"values\": [11, 4, 3, 1, 10, 3, 1, 2, 56, 3, 2, 2, 16, 1, 8, 1, 98, 1, 4, 2, 1, 34, 2, 6, 3, 1, 165, 1, 3, 10, 2, 1, 39, 2, 6, 2, 1, 1, 78, 2, 3, 1, 1, 14, 1, 1, 12, 2, 1, 8, 2, 1, 4, 2, 1, 1, 2, 1, 1, 1]}],                        {\"coloraxis\": {\"colorbar\": {\"title\": {\"text\": \"count\"}}, \"colorscale\": [[0.0, \"rgb(0,0,255)\"], [1.0, \"rgb(255,0,0)\"]]}, \"legend\": {\"tracegroupgap\": 0}, \"margin\": {\"t\": 60}, \"template\": {\"data\": {\"bar\": [{\"error_x\": {\"color\": \"#2a3f5f\"}, \"error_y\": {\"color\": \"#2a3f5f\"}, \"marker\": {\"line\": {\"color\": \"#E5ECF6\", \"width\": 0.5}}, \"type\": \"bar\"}], \"barpolar\": [{\"marker\": {\"line\": {\"color\": \"#E5ECF6\", \"width\": 0.5}}, \"type\": \"barpolar\"}], \"carpet\": [{\"aaxis\": {\"endlinecolor\": \"#2a3f5f\", \"gridcolor\": \"white\", \"linecolor\": \"white\", \"minorgridcolor\": \"white\", \"startlinecolor\": \"#2a3f5f\"}, \"baxis\": {\"endlinecolor\": \"#2a3f5f\", \"gridcolor\": \"white\", \"linecolor\": \"white\", \"minorgridcolor\": \"white\", \"startlinecolor\": \"#2a3f5f\"}, \"type\": \"carpet\"}], \"choropleth\": [{\"colorbar\": {\"outlinewidth\": 0, \"ticks\": \"\"}, \"type\": \"choropleth\"}], \"contour\": [{\"colorbar\": {\"outlinewidth\": 0, \"ticks\": \"\"}, \"colorscale\": [[0.0, \"#0d0887\"], [0.1111111111111111, \"#46039f\"], [0.2222222222222222, \"#7201a8\"], [0.3333333333333333, \"#9c179e\"], [0.4444444444444444, \"#bd3786\"], [0.5555555555555556, \"#d8576b\"], [0.6666666666666666, \"#ed7953\"], [0.7777777777777778, \"#fb9f3a\"], [0.8888888888888888, \"#fdca26\"], [1.0, \"#f0f921\"]], \"type\": \"contour\"}], \"contourcarpet\": [{\"colorbar\": {\"outlinewidth\": 0, \"ticks\": \"\"}, \"type\": \"contourcarpet\"}], \"heatmap\": [{\"colorbar\": {\"outlinewidth\": 0, \"ticks\": \"\"}, \"colorscale\": [[0.0, \"#0d0887\"], [0.1111111111111111, \"#46039f\"], [0.2222222222222222, \"#7201a8\"], [0.3333333333333333, \"#9c179e\"], [0.4444444444444444, \"#bd3786\"], [0.5555555555555556, \"#d8576b\"], [0.6666666666666666, \"#ed7953\"], [0.7777777777777778, \"#fb9f3a\"], [0.8888888888888888, \"#fdca26\"], [1.0, \"#f0f921\"]], \"type\": \"heatmap\"}], \"heatmapgl\": [{\"colorbar\": {\"outlinewidth\": 0, \"ticks\": \"\"}, \"colorscale\": [[0.0, \"#0d0887\"], [0.1111111111111111, \"#46039f\"], [0.2222222222222222, \"#7201a8\"], [0.3333333333333333, \"#9c179e\"], [0.4444444444444444, \"#bd3786\"], [0.5555555555555556, \"#d8576b\"], [0.6666666666666666, \"#ed7953\"], [0.7777777777777778, \"#fb9f3a\"], [0.8888888888888888, \"#fdca26\"], [1.0, \"#f0f921\"]], \"type\": \"heatmapgl\"}], \"histogram\": [{\"marker\": {\"colorbar\": {\"outlinewidth\": 0, \"ticks\": \"\"}}, \"type\": \"histogram\"}], \"histogram2d\": [{\"colorbar\": {\"outlinewidth\": 0, \"ticks\": \"\"}, \"colorscale\": [[0.0, \"#0d0887\"], [0.1111111111111111, \"#46039f\"], [0.2222222222222222, \"#7201a8\"], [0.3333333333333333, \"#9c179e\"], [0.4444444444444444, \"#bd3786\"], [0.5555555555555556, \"#d8576b\"], [0.6666666666666666, \"#ed7953\"], [0.7777777777777778, \"#fb9f3a\"], [0.8888888888888888, \"#fdca26\"], [1.0, \"#f0f921\"]], \"type\": \"histogram2d\"}], \"histogram2dcontour\": [{\"colorbar\": {\"outlinewidth\": 0, \"ticks\": \"\"}, \"colorscale\": [[0.0, \"#0d0887\"], [0.1111111111111111, \"#46039f\"], [0.2222222222222222, \"#7201a8\"], [0.3333333333333333, \"#9c179e\"], [0.4444444444444444, \"#bd3786\"], [0.5555555555555556, \"#d8576b\"], [0.6666666666666666, \"#ed7953\"], [0.7777777777777778, \"#fb9f3a\"], [0.8888888888888888, \"#fdca26\"], [1.0, \"#f0f921\"]], \"type\": \"histogram2dcontour\"}], \"mesh3d\": [{\"colorbar\": {\"outlinewidth\": 0, \"ticks\": \"\"}, \"type\": \"mesh3d\"}], \"parcoords\": [{\"line\": {\"colorbar\": {\"outlinewidth\": 0, \"ticks\": \"\"}}, \"type\": \"parcoords\"}], \"pie\": [{\"automargin\": true, \"type\": \"pie\"}], \"scatter\": [{\"marker\": {\"colorbar\": {\"outlinewidth\": 0, \"ticks\": \"\"}}, \"type\": \"scatter\"}], \"scatter3d\": [{\"line\": {\"colorbar\": {\"outlinewidth\": 0, \"ticks\": \"\"}}, \"marker\": {\"colorbar\": {\"outlinewidth\": 0, \"ticks\": \"\"}}, \"type\": \"scatter3d\"}], \"scattercarpet\": [{\"marker\": {\"colorbar\": {\"outlinewidth\": 0, \"ticks\": \"\"}}, \"type\": \"scattercarpet\"}], \"scattergeo\": [{\"marker\": {\"colorbar\": {\"outlinewidth\": 0, \"ticks\": \"\"}}, \"type\": \"scattergeo\"}], \"scattergl\": [{\"marker\": {\"colorbar\": {\"outlinewidth\": 0, \"ticks\": \"\"}}, \"type\": \"scattergl\"}], \"scattermapbox\": [{\"marker\": {\"colorbar\": {\"outlinewidth\": 0, \"ticks\": \"\"}}, \"type\": \"scattermapbox\"}], \"scatterpolar\": [{\"marker\": {\"colorbar\": {\"outlinewidth\": 0, \"ticks\": \"\"}}, \"type\": \"scatterpolar\"}], \"scatterpolargl\": [{\"marker\": {\"colorbar\": {\"outlinewidth\": 0, \"ticks\": \"\"}}, \"type\": \"scatterpolargl\"}], \"scatterternary\": [{\"marker\": {\"colorbar\": {\"outlinewidth\": 0, \"ticks\": \"\"}}, \"type\": \"scatterternary\"}], \"surface\": [{\"colorbar\": {\"outlinewidth\": 0, \"ticks\": \"\"}, \"colorscale\": [[0.0, \"#0d0887\"], [0.1111111111111111, \"#46039f\"], [0.2222222222222222, \"#7201a8\"], [0.3333333333333333, \"#9c179e\"], [0.4444444444444444, \"#bd3786\"], [0.5555555555555556, \"#d8576b\"], [0.6666666666666666, \"#ed7953\"], [0.7777777777777778, \"#fb9f3a\"], [0.8888888888888888, \"#fdca26\"], [1.0, \"#f0f921\"]], \"type\": \"surface\"}], \"table\": [{\"cells\": {\"fill\": {\"color\": \"#EBF0F8\"}, \"line\": {\"color\": \"white\"}}, \"header\": {\"fill\": {\"color\": \"#C8D4E3\"}, \"line\": {\"color\": \"white\"}}, \"type\": \"table\"}]}, \"layout\": {\"annotationdefaults\": {\"arrowcolor\": \"#2a3f5f\", \"arrowhead\": 0, \"arrowwidth\": 1}, \"coloraxis\": {\"colorbar\": {\"outlinewidth\": 0, \"ticks\": \"\"}}, \"colorscale\": {\"diverging\": [[0, \"#8e0152\"], [0.1, \"#c51b7d\"], [0.2, \"#de77ae\"], [0.3, \"#f1b6da\"], [0.4, \"#fde0ef\"], [0.5, \"#f7f7f7\"], [0.6, \"#e6f5d0\"], [0.7, \"#b8e186\"], [0.8, \"#7fbc41\"], [0.9, \"#4d9221\"], [1, \"#276419\"]], \"sequential\": [[0.0, \"#0d0887\"], [0.1111111111111111, \"#46039f\"], [0.2222222222222222, \"#7201a8\"], [0.3333333333333333, \"#9c179e\"], [0.4444444444444444, \"#bd3786\"], [0.5555555555555556, \"#d8576b\"], [0.6666666666666666, \"#ed7953\"], [0.7777777777777778, \"#fb9f3a\"], [0.8888888888888888, \"#fdca26\"], [1.0, \"#f0f921\"]], \"sequentialminus\": [[0.0, \"#0d0887\"], [0.1111111111111111, \"#46039f\"], [0.2222222222222222, \"#7201a8\"], [0.3333333333333333, \"#9c179e\"], [0.4444444444444444, \"#bd3786\"], [0.5555555555555556, \"#d8576b\"], [0.6666666666666666, \"#ed7953\"], [0.7777777777777778, \"#fb9f3a\"], [0.8888888888888888, \"#fdca26\"], [1.0, \"#f0f921\"]]}, \"colorway\": [\"#636efa\", \"#EF553B\", \"#00cc96\", \"#ab63fa\", \"#FFA15A\", \"#19d3f3\", \"#FF6692\", \"#B6E880\", \"#FF97FF\", \"#FECB52\"], \"font\": {\"color\": \"#2a3f5f\"}, \"geo\": {\"bgcolor\": \"white\", \"lakecolor\": \"white\", \"landcolor\": \"#E5ECF6\", \"showlakes\": true, \"showland\": true, \"subunitcolor\": \"white\"}, \"hoverlabel\": {\"align\": \"left\"}, \"hovermode\": \"closest\", \"mapbox\": {\"style\": \"light\"}, \"paper_bgcolor\": \"white\", \"plot_bgcolor\": \"#E5ECF6\", \"polar\": {\"angularaxis\": {\"gridcolor\": \"white\", \"linecolor\": \"white\", \"ticks\": \"\"}, \"bgcolor\": \"#E5ECF6\", \"radialaxis\": {\"gridcolor\": \"white\", \"linecolor\": \"white\", \"ticks\": \"\"}}, \"scene\": {\"xaxis\": {\"backgroundcolor\": \"#E5ECF6\", \"gridcolor\": \"white\", \"gridwidth\": 2, \"linecolor\": \"white\", \"showbackground\": true, \"ticks\": \"\", \"zerolinecolor\": \"white\"}, \"yaxis\": {\"backgroundcolor\": \"#E5ECF6\", \"gridcolor\": \"white\", \"gridwidth\": 2, \"linecolor\": \"white\", \"showbackground\": true, \"ticks\": \"\", \"zerolinecolor\": \"white\"}, \"zaxis\": {\"backgroundcolor\": \"#E5ECF6\", \"gridcolor\": \"white\", \"gridwidth\": 2, \"linecolor\": \"white\", \"showbackground\": true, \"ticks\": \"\", \"zerolinecolor\": \"white\"}}, \"shapedefaults\": {\"line\": {\"color\": \"#2a3f5f\"}}, \"ternary\": {\"aaxis\": {\"gridcolor\": \"white\", \"linecolor\": \"white\", \"ticks\": \"\"}, \"baxis\": {\"gridcolor\": \"white\", \"linecolor\": \"white\", \"ticks\": \"\"}, \"bgcolor\": \"#E5ECF6\", \"caxis\": {\"gridcolor\": \"white\", \"linecolor\": \"white\", \"ticks\": \"\"}}, \"title\": {\"x\": 0.05}, \"xaxis\": {\"automargin\": true, \"gridcolor\": \"white\", \"linecolor\": \"white\", \"ticks\": \"\", \"title\": {\"standoff\": 15}, \"zerolinecolor\": \"white\", \"zerolinewidth\": 2}, \"yaxis\": {\"automargin\": true, \"gridcolor\": \"white\", \"linecolor\": \"white\", \"ticks\": \"\", \"title\": {\"standoff\": 15}, \"zerolinecolor\": \"white\", \"zerolinewidth\": 2}}}},                        {\"responsive\": true}                    ).then(function(){\n",
       "                            \n",
       "var gd = document.getElementById('95e38f07-fb00-4c83-b4bd-76dfb475a41a');\n",
       "var x = new MutationObserver(function (mutations, observer) {{\n",
       "        var display = window.getComputedStyle(gd).display;\n",
       "        if (!display || display === 'none') {{\n",
       "            console.log([gd, 'removed!']);\n",
       "            Plotly.purge(gd);\n",
       "            observer.disconnect();\n",
       "        }}\n",
       "}});\n",
       "\n",
       "// Listen for the removal of the full notebook cells\n",
       "var notebookContainer = gd.closest('#notebook-container');\n",
       "if (notebookContainer) {{\n",
       "    x.observe(notebookContainer, {childList: true});\n",
       "}}\n",
       "\n",
       "// Listen for the clearing of the current output cell\n",
       "var outputEl = gd.closest('.output');\n",
       "if (outputEl) {{\n",
       "    x.observe(outputEl, {childList: true});\n",
       "}}\n",
       "\n",
       "                        })                };                });            </script>        </div>"
      ]
     },
     "metadata": {},
     "output_type": "display_data"
    }
   ],
   "source": [
    "fig = px.sunburst(time_gr, path=['H:M'], values='count',\n",
    "                  color='count', hover_data=['H:M'],\n",
    "                  color_continuous_scale='bluered')\n",
    "fig.show()"
   ]
  },
  {
   "cell_type": "code",
   "execution_count": 17,
   "metadata": {},
   "outputs": [
    {
     "data": {
      "application/vnd.plotly.v1+json": {
       "config": {
        "plotlyServerURL": "https://plotly.com"
       },
       "data": [
        {
         "alignmentgroup": "True",
         "bingroup": "x",
         "hovertemplate": "H:M=%{x}<br>count=%{y}<extra></extra>",
         "legendgroup": "",
         "marker": {
          "color": "#636efa"
         },
         "name": "",
         "offsetgroup": "",
         "orientation": "v",
         "showlegend": false,
         "type": "histogram",
         "x": [
          "00:00:00",
          "00:00:00",
          "00:00:00",
          "00:00:00",
          "00:00:00",
          "00:00:00",
          "00:00:00",
          "00:00:00",
          "00:00:00",
          "00:00:00",
          "00:00:00",
          "01:00:00",
          "01:00:00",
          "01:00:00",
          "01:00:00",
          "02:00:00",
          "02:00:00",
          "02:00:00",
          "03:00:00",
          "04:00:00",
          "04:00:00",
          "04:00:00",
          "04:00:00",
          "04:00:00",
          "04:00:00",
          "04:00:00",
          "04:00:00",
          "04:00:00",
          "04:00:00",
          "04:30:00",
          "04:30:00",
          "04:30:00",
          "04:36:00",
          "04:45:00",
          "04:45:00",
          "05:00:00",
          "05:00:00",
          "05:00:00",
          "05:00:00",
          "05:00:00",
          "05:00:00",
          "05:00:00",
          "05:00:00",
          "05:00:00",
          "05:00:00",
          "05:00:00",
          "05:00:00",
          "05:00:00",
          "05:00:00",
          "05:00:00",
          "05:00:00",
          "05:00:00",
          "05:00:00",
          "05:00:00",
          "05:00:00",
          "05:00:00",
          "05:00:00",
          "05:00:00",
          "05:00:00",
          "05:00:00",
          "05:00:00",
          "05:00:00",
          "05:00:00",
          "05:00:00",
          "05:00:00",
          "05:00:00",
          "05:00:00",
          "05:00:00",
          "05:00:00",
          "05:00:00",
          "05:00:00",
          "05:00:00",
          "05:00:00",
          "05:00:00",
          "05:00:00",
          "05:00:00",
          "05:00:00",
          "05:00:00",
          "05:00:00",
          "05:00:00",
          "05:00:00",
          "05:00:00",
          "05:00:00",
          "05:00:00",
          "05:00:00",
          "05:00:00",
          "05:00:00",
          "05:00:00",
          "05:00:00",
          "05:00:00",
          "05:00:00",
          "05:15:00",
          "05:15:00",
          "05:15:00",
          "05:20:00",
          "05:20:00",
          "05:28:00",
          "05:28:00",
          "05:30:00",
          "05:30:00",
          "05:30:00",
          "05:30:00",
          "05:30:00",
          "05:30:00",
          "05:30:00",
          "05:30:00",
          "05:30:00",
          "05:30:00",
          "05:30:00",
          "05:30:00",
          "05:30:00",
          "05:30:00",
          "05:30:00",
          "05:30:00",
          "05:35:00",
          "05:45:00",
          "05:45:00",
          "05:45:00",
          "05:45:00",
          "05:45:00",
          "05:45:00",
          "05:45:00",
          "05:45:00",
          "05:50:00",
          "06:00:00",
          "06:00:00",
          "06:00:00",
          "06:00:00",
          "06:00:00",
          "06:00:00",
          "06:00:00",
          "06:00:00",
          "06:00:00",
          "06:00:00",
          "06:00:00",
          "06:00:00",
          "06:00:00",
          "06:00:00",
          "06:00:00",
          "06:00:00",
          "06:00:00",
          "06:00:00",
          "06:00:00",
          "06:00:00",
          "06:00:00",
          "06:00:00",
          "06:00:00",
          "06:00:00",
          "06:00:00",
          "06:00:00",
          "06:00:00",
          "06:00:00",
          "06:00:00",
          "06:00:00",
          "06:00:00",
          "06:00:00",
          "06:00:00",
          "06:00:00",
          "06:00:00",
          "06:00:00",
          "06:00:00",
          "06:00:00",
          "06:00:00",
          "06:00:00",
          "06:00:00",
          "06:00:00",
          "06:00:00",
          "06:00:00",
          "06:00:00",
          "06:00:00",
          "06:00:00",
          "06:00:00",
          "06:00:00",
          "06:00:00",
          "06:00:00",
          "06:00:00",
          "06:00:00",
          "06:00:00",
          "06:00:00",
          "06:00:00",
          "06:00:00",
          "06:00:00",
          "06:00:00",
          "06:00:00",
          "06:00:00",
          "06:00:00",
          "06:00:00",
          "06:00:00",
          "06:00:00",
          "06:00:00",
          "06:00:00",
          "06:00:00",
          "06:00:00",
          "06:00:00",
          "06:00:00",
          "06:00:00",
          "06:00:00",
          "06:00:00",
          "06:00:00",
          "06:00:00",
          "06:00:00",
          "06:00:00",
          "06:00:00",
          "06:00:00",
          "06:00:00",
          "06:00:00",
          "06:00:00",
          "06:00:00",
          "06:00:00",
          "06:00:00",
          "06:00:00",
          "06:00:00",
          "06:00:00",
          "06:00:00",
          "06:00:00",
          "06:00:00",
          "06:00:00",
          "06:00:00",
          "06:00:00",
          "06:00:00",
          "06:00:00",
          "06:00:00",
          "06:10:00",
          "06:15:00",
          "06:15:00",
          "06:15:00",
          "06:15:00",
          "06:20:00",
          "06:20:00",
          "06:25:00",
          "06:30:00",
          "06:30:00",
          "06:30:00",
          "06:30:00",
          "06:30:00",
          "06:30:00",
          "06:30:00",
          "06:30:00",
          "06:30:00",
          "06:30:00",
          "06:30:00",
          "06:30:00",
          "06:30:00",
          "06:30:00",
          "06:30:00",
          "06:30:00",
          "06:30:00",
          "06:30:00",
          "06:30:00",
          "06:30:00",
          "06:30:00",
          "06:30:00",
          "06:30:00",
          "06:30:00",
          "06:30:00",
          "06:30:00",
          "06:30:00",
          "06:30:00",
          "06:30:00",
          "06:30:00",
          "06:30:00",
          "06:30:00",
          "06:30:00",
          "06:30:00",
          "06:40:00",
          "06:40:00",
          "06:45:00",
          "06:45:00",
          "06:45:00",
          "06:45:00",
          "06:45:00",
          "06:45:00",
          "06:50:00",
          "06:50:00",
          "06:50:00",
          "06:52:00",
          "07:00:00",
          "07:00:00",
          "07:00:00",
          "07:00:00",
          "07:00:00",
          "07:00:00",
          "07:00:00",
          "07:00:00",
          "07:00:00",
          "07:00:00",
          "07:00:00",
          "07:00:00",
          "07:00:00",
          "07:00:00",
          "07:00:00",
          "07:00:00",
          "07:00:00",
          "07:00:00",
          "07:00:00",
          "07:00:00",
          "07:00:00",
          "07:00:00",
          "07:00:00",
          "07:00:00",
          "07:00:00",
          "07:00:00",
          "07:00:00",
          "07:00:00",
          "07:00:00",
          "07:00:00",
          "07:00:00",
          "07:00:00",
          "07:00:00",
          "07:00:00",
          "07:00:00",
          "07:00:00",
          "07:00:00",
          "07:00:00",
          "07:00:00",
          "07:00:00",
          "07:00:00",
          "07:00:00",
          "07:00:00",
          "07:00:00",
          "07:00:00",
          "07:00:00",
          "07:00:00",
          "07:00:00",
          "07:00:00",
          "07:00:00",
          "07:00:00",
          "07:00:00",
          "07:00:00",
          "07:00:00",
          "07:00:00",
          "07:00:00",
          "07:00:00",
          "07:00:00",
          "07:00:00",
          "07:00:00",
          "07:00:00",
          "07:00:00",
          "07:00:00",
          "07:00:00",
          "07:00:00",
          "07:00:00",
          "07:00:00",
          "07:00:00",
          "07:00:00",
          "07:00:00",
          "07:00:00",
          "07:00:00",
          "07:00:00",
          "07:00:00",
          "07:00:00",
          "07:00:00",
          "07:00:00",
          "07:00:00",
          "07:00:00",
          "07:00:00",
          "07:00:00",
          "07:00:00",
          "07:00:00",
          "07:00:00",
          "07:00:00",
          "07:00:00",
          "07:00:00",
          "07:00:00",
          "07:00:00",
          "07:00:00",
          "07:00:00",
          "07:00:00",
          "07:00:00",
          "07:00:00",
          "07:00:00",
          "07:00:00",
          "07:00:00",
          "07:00:00",
          "07:00:00",
          "07:00:00",
          "07:00:00",
          "07:00:00",
          "07:00:00",
          "07:00:00",
          "07:00:00",
          "07:00:00",
          "07:00:00",
          "07:00:00",
          "07:00:00",
          "07:00:00",
          "07:00:00",
          "07:00:00",
          "07:00:00",
          "07:00:00",
          "07:00:00",
          "07:00:00",
          "07:00:00",
          "07:00:00",
          "07:00:00",
          "07:00:00",
          "07:00:00",
          "07:00:00",
          "07:00:00",
          "07:00:00",
          "07:00:00",
          "07:00:00",
          "07:00:00",
          "07:00:00",
          "07:00:00",
          "07:00:00",
          "07:00:00",
          "07:00:00",
          "07:00:00",
          "07:00:00",
          "07:00:00",
          "07:00:00",
          "07:00:00",
          "07:00:00",
          "07:00:00",
          "07:00:00",
          "07:00:00",
          "07:00:00",
          "07:00:00",
          "07:00:00",
          "07:00:00",
          "07:00:00",
          "07:00:00",
          "07:00:00",
          "07:00:00",
          "07:00:00",
          "07:00:00",
          "07:00:00",
          "07:00:00",
          "07:00:00",
          "07:00:00",
          "07:00:00",
          "07:00:00",
          "07:00:00",
          "07:00:00",
          "07:00:00",
          "07:00:00",
          "07:00:00",
          "07:00:00",
          "07:00:00",
          "07:00:00",
          "07:05:00",
          "07:10:00",
          "07:10:00",
          "07:10:00",
          "07:15:00",
          "07:15:00",
          "07:15:00",
          "07:15:00",
          "07:15:00",
          "07:15:00",
          "07:15:00",
          "07:15:00",
          "07:15:00",
          "07:15:00",
          "07:20:00",
          "07:20:00",
          "07:23:00",
          "07:30:00",
          "07:30:00",
          "07:30:00",
          "07:30:00",
          "07:30:00",
          "07:30:00",
          "07:30:00",
          "07:30:00",
          "07:30:00",
          "07:30:00",
          "07:30:00",
          "07:30:00",
          "07:30:00",
          "07:30:00",
          "07:30:00",
          "07:30:00",
          "07:30:00",
          "07:30:00",
          "07:30:00",
          "07:30:00",
          "07:30:00",
          "07:30:00",
          "07:30:00",
          "07:30:00",
          "07:30:00",
          "07:30:00",
          "07:30:00",
          "07:30:00",
          "07:30:00",
          "07:30:00",
          "07:30:00",
          "07:30:00",
          "07:30:00",
          "07:30:00",
          "07:30:00",
          "07:30:00",
          "07:30:00",
          "07:30:00",
          "07:30:00",
          "07:40:00",
          "07:40:00",
          "07:45:00",
          "07:45:00",
          "07:45:00",
          "07:45:00",
          "07:45:00",
          "07:45:00",
          "07:50:00",
          "07:50:00",
          "07:55:00",
          "07:56:00",
          "08:00:00",
          "08:00:00",
          "08:00:00",
          "08:00:00",
          "08:00:00",
          "08:00:00",
          "08:00:00",
          "08:00:00",
          "08:00:00",
          "08:00:00",
          "08:00:00",
          "08:00:00",
          "08:00:00",
          "08:00:00",
          "08:00:00",
          "08:00:00",
          "08:00:00",
          "08:00:00",
          "08:00:00",
          "08:00:00",
          "08:00:00",
          "08:00:00",
          "08:00:00",
          "08:00:00",
          "08:00:00",
          "08:00:00",
          "08:00:00",
          "08:00:00",
          "08:00:00",
          "08:00:00",
          "08:00:00",
          "08:00:00",
          "08:00:00",
          "08:00:00",
          "08:00:00",
          "08:00:00",
          "08:00:00",
          "08:00:00",
          "08:00:00",
          "08:00:00",
          "08:00:00",
          "08:00:00",
          "08:00:00",
          "08:00:00",
          "08:00:00",
          "08:00:00",
          "08:00:00",
          "08:00:00",
          "08:00:00",
          "08:00:00",
          "08:00:00",
          "08:00:00",
          "08:00:00",
          "08:00:00",
          "08:00:00",
          "08:00:00",
          "08:00:00",
          "08:00:00",
          "08:00:00",
          "08:00:00",
          "08:00:00",
          "08:00:00",
          "08:00:00",
          "08:00:00",
          "08:00:00",
          "08:00:00",
          "08:00:00",
          "08:00:00",
          "08:00:00",
          "08:00:00",
          "08:00:00",
          "08:00:00",
          "08:00:00",
          "08:00:00",
          "08:00:00",
          "08:00:00",
          "08:00:00",
          "08:00:00",
          "08:10:00",
          "08:10:00",
          "08:15:00",
          "08:15:00",
          "08:15:00",
          "08:20:00",
          "08:25:00",
          "08:30:00",
          "08:30:00",
          "08:30:00",
          "08:30:00",
          "08:30:00",
          "08:30:00",
          "08:30:00",
          "08:30:00",
          "08:30:00",
          "08:30:00",
          "08:30:00",
          "08:30:00",
          "08:30:00",
          "08:30:00",
          "08:45:00",
          "08:50:00",
          "09:00:00",
          "09:00:00",
          "09:00:00",
          "09:00:00",
          "09:00:00",
          "09:00:00",
          "09:00:00",
          "09:00:00",
          "09:00:00",
          "09:00:00",
          "09:00:00",
          "09:00:00",
          "09:30:00",
          "09:30:00",
          "09:40:00",
          "10:00:00",
          "10:00:00",
          "10:00:00",
          "10:00:00",
          "10:00:00",
          "10:00:00",
          "10:00:00",
          "10:00:00",
          "11:00:00",
          "11:00:00",
          "11:30:00",
          "12:00:00",
          "12:00:00",
          "12:00:00",
          "12:00:00",
          "18:00:00",
          "18:00:00",
          "19:00:00",
          "20:00:00",
          "21:00:00",
          "21:00:00",
          "22:00:00",
          "23:00:00",
          "23:30:00"
         ],
         "xaxis": "x",
         "yaxis": "y"
        }
       ],
       "layout": {
        "barmode": "relative",
        "legend": {
         "tracegroupgap": 0
        },
        "margin": {
         "t": 60
        },
        "template": {
         "data": {
          "bar": [
           {
            "error_x": {
             "color": "#2a3f5f"
            },
            "error_y": {
             "color": "#2a3f5f"
            },
            "marker": {
             "line": {
              "color": "#E5ECF6",
              "width": 0.5
             }
            },
            "type": "bar"
           }
          ],
          "barpolar": [
           {
            "marker": {
             "line": {
              "color": "#E5ECF6",
              "width": 0.5
             }
            },
            "type": "barpolar"
           }
          ],
          "carpet": [
           {
            "aaxis": {
             "endlinecolor": "#2a3f5f",
             "gridcolor": "white",
             "linecolor": "white",
             "minorgridcolor": "white",
             "startlinecolor": "#2a3f5f"
            },
            "baxis": {
             "endlinecolor": "#2a3f5f",
             "gridcolor": "white",
             "linecolor": "white",
             "minorgridcolor": "white",
             "startlinecolor": "#2a3f5f"
            },
            "type": "carpet"
           }
          ],
          "choropleth": [
           {
            "colorbar": {
             "outlinewidth": 0,
             "ticks": ""
            },
            "type": "choropleth"
           }
          ],
          "contour": [
           {
            "colorbar": {
             "outlinewidth": 0,
             "ticks": ""
            },
            "colorscale": [
             [
              0,
              "#0d0887"
             ],
             [
              0.1111111111111111,
              "#46039f"
             ],
             [
              0.2222222222222222,
              "#7201a8"
             ],
             [
              0.3333333333333333,
              "#9c179e"
             ],
             [
              0.4444444444444444,
              "#bd3786"
             ],
             [
              0.5555555555555556,
              "#d8576b"
             ],
             [
              0.6666666666666666,
              "#ed7953"
             ],
             [
              0.7777777777777778,
              "#fb9f3a"
             ],
             [
              0.8888888888888888,
              "#fdca26"
             ],
             [
              1,
              "#f0f921"
             ]
            ],
            "type": "contour"
           }
          ],
          "contourcarpet": [
           {
            "colorbar": {
             "outlinewidth": 0,
             "ticks": ""
            },
            "type": "contourcarpet"
           }
          ],
          "heatmap": [
           {
            "colorbar": {
             "outlinewidth": 0,
             "ticks": ""
            },
            "colorscale": [
             [
              0,
              "#0d0887"
             ],
             [
              0.1111111111111111,
              "#46039f"
             ],
             [
              0.2222222222222222,
              "#7201a8"
             ],
             [
              0.3333333333333333,
              "#9c179e"
             ],
             [
              0.4444444444444444,
              "#bd3786"
             ],
             [
              0.5555555555555556,
              "#d8576b"
             ],
             [
              0.6666666666666666,
              "#ed7953"
             ],
             [
              0.7777777777777778,
              "#fb9f3a"
             ],
             [
              0.8888888888888888,
              "#fdca26"
             ],
             [
              1,
              "#f0f921"
             ]
            ],
            "type": "heatmap"
           }
          ],
          "heatmapgl": [
           {
            "colorbar": {
             "outlinewidth": 0,
             "ticks": ""
            },
            "colorscale": [
             [
              0,
              "#0d0887"
             ],
             [
              0.1111111111111111,
              "#46039f"
             ],
             [
              0.2222222222222222,
              "#7201a8"
             ],
             [
              0.3333333333333333,
              "#9c179e"
             ],
             [
              0.4444444444444444,
              "#bd3786"
             ],
             [
              0.5555555555555556,
              "#d8576b"
             ],
             [
              0.6666666666666666,
              "#ed7953"
             ],
             [
              0.7777777777777778,
              "#fb9f3a"
             ],
             [
              0.8888888888888888,
              "#fdca26"
             ],
             [
              1,
              "#f0f921"
             ]
            ],
            "type": "heatmapgl"
           }
          ],
          "histogram": [
           {
            "marker": {
             "colorbar": {
              "outlinewidth": 0,
              "ticks": ""
             }
            },
            "type": "histogram"
           }
          ],
          "histogram2d": [
           {
            "colorbar": {
             "outlinewidth": 0,
             "ticks": ""
            },
            "colorscale": [
             [
              0,
              "#0d0887"
             ],
             [
              0.1111111111111111,
              "#46039f"
             ],
             [
              0.2222222222222222,
              "#7201a8"
             ],
             [
              0.3333333333333333,
              "#9c179e"
             ],
             [
              0.4444444444444444,
              "#bd3786"
             ],
             [
              0.5555555555555556,
              "#d8576b"
             ],
             [
              0.6666666666666666,
              "#ed7953"
             ],
             [
              0.7777777777777778,
              "#fb9f3a"
             ],
             [
              0.8888888888888888,
              "#fdca26"
             ],
             [
              1,
              "#f0f921"
             ]
            ],
            "type": "histogram2d"
           }
          ],
          "histogram2dcontour": [
           {
            "colorbar": {
             "outlinewidth": 0,
             "ticks": ""
            },
            "colorscale": [
             [
              0,
              "#0d0887"
             ],
             [
              0.1111111111111111,
              "#46039f"
             ],
             [
              0.2222222222222222,
              "#7201a8"
             ],
             [
              0.3333333333333333,
              "#9c179e"
             ],
             [
              0.4444444444444444,
              "#bd3786"
             ],
             [
              0.5555555555555556,
              "#d8576b"
             ],
             [
              0.6666666666666666,
              "#ed7953"
             ],
             [
              0.7777777777777778,
              "#fb9f3a"
             ],
             [
              0.8888888888888888,
              "#fdca26"
             ],
             [
              1,
              "#f0f921"
             ]
            ],
            "type": "histogram2dcontour"
           }
          ],
          "mesh3d": [
           {
            "colorbar": {
             "outlinewidth": 0,
             "ticks": ""
            },
            "type": "mesh3d"
           }
          ],
          "parcoords": [
           {
            "line": {
             "colorbar": {
              "outlinewidth": 0,
              "ticks": ""
             }
            },
            "type": "parcoords"
           }
          ],
          "pie": [
           {
            "automargin": true,
            "type": "pie"
           }
          ],
          "scatter": [
           {
            "marker": {
             "colorbar": {
              "outlinewidth": 0,
              "ticks": ""
             }
            },
            "type": "scatter"
           }
          ],
          "scatter3d": [
           {
            "line": {
             "colorbar": {
              "outlinewidth": 0,
              "ticks": ""
             }
            },
            "marker": {
             "colorbar": {
              "outlinewidth": 0,
              "ticks": ""
             }
            },
            "type": "scatter3d"
           }
          ],
          "scattercarpet": [
           {
            "marker": {
             "colorbar": {
              "outlinewidth": 0,
              "ticks": ""
             }
            },
            "type": "scattercarpet"
           }
          ],
          "scattergeo": [
           {
            "marker": {
             "colorbar": {
              "outlinewidth": 0,
              "ticks": ""
             }
            },
            "type": "scattergeo"
           }
          ],
          "scattergl": [
           {
            "marker": {
             "colorbar": {
              "outlinewidth": 0,
              "ticks": ""
             }
            },
            "type": "scattergl"
           }
          ],
          "scattermapbox": [
           {
            "marker": {
             "colorbar": {
              "outlinewidth": 0,
              "ticks": ""
             }
            },
            "type": "scattermapbox"
           }
          ],
          "scatterpolar": [
           {
            "marker": {
             "colorbar": {
              "outlinewidth": 0,
              "ticks": ""
             }
            },
            "type": "scatterpolar"
           }
          ],
          "scatterpolargl": [
           {
            "marker": {
             "colorbar": {
              "outlinewidth": 0,
              "ticks": ""
             }
            },
            "type": "scatterpolargl"
           }
          ],
          "scatterternary": [
           {
            "marker": {
             "colorbar": {
              "outlinewidth": 0,
              "ticks": ""
             }
            },
            "type": "scatterternary"
           }
          ],
          "surface": [
           {
            "colorbar": {
             "outlinewidth": 0,
             "ticks": ""
            },
            "colorscale": [
             [
              0,
              "#0d0887"
             ],
             [
              0.1111111111111111,
              "#46039f"
             ],
             [
              0.2222222222222222,
              "#7201a8"
             ],
             [
              0.3333333333333333,
              "#9c179e"
             ],
             [
              0.4444444444444444,
              "#bd3786"
             ],
             [
              0.5555555555555556,
              "#d8576b"
             ],
             [
              0.6666666666666666,
              "#ed7953"
             ],
             [
              0.7777777777777778,
              "#fb9f3a"
             ],
             [
              0.8888888888888888,
              "#fdca26"
             ],
             [
              1,
              "#f0f921"
             ]
            ],
            "type": "surface"
           }
          ],
          "table": [
           {
            "cells": {
             "fill": {
              "color": "#EBF0F8"
             },
             "line": {
              "color": "white"
             }
            },
            "header": {
             "fill": {
              "color": "#C8D4E3"
             },
             "line": {
              "color": "white"
             }
            },
            "type": "table"
           }
          ]
         },
         "layout": {
          "annotationdefaults": {
           "arrowcolor": "#2a3f5f",
           "arrowhead": 0,
           "arrowwidth": 1
          },
          "coloraxis": {
           "colorbar": {
            "outlinewidth": 0,
            "ticks": ""
           }
          },
          "colorscale": {
           "diverging": [
            [
             0,
             "#8e0152"
            ],
            [
             0.1,
             "#c51b7d"
            ],
            [
             0.2,
             "#de77ae"
            ],
            [
             0.3,
             "#f1b6da"
            ],
            [
             0.4,
             "#fde0ef"
            ],
            [
             0.5,
             "#f7f7f7"
            ],
            [
             0.6,
             "#e6f5d0"
            ],
            [
             0.7,
             "#b8e186"
            ],
            [
             0.8,
             "#7fbc41"
            ],
            [
             0.9,
             "#4d9221"
            ],
            [
             1,
             "#276419"
            ]
           ],
           "sequential": [
            [
             0,
             "#0d0887"
            ],
            [
             0.1111111111111111,
             "#46039f"
            ],
            [
             0.2222222222222222,
             "#7201a8"
            ],
            [
             0.3333333333333333,
             "#9c179e"
            ],
            [
             0.4444444444444444,
             "#bd3786"
            ],
            [
             0.5555555555555556,
             "#d8576b"
            ],
            [
             0.6666666666666666,
             "#ed7953"
            ],
            [
             0.7777777777777778,
             "#fb9f3a"
            ],
            [
             0.8888888888888888,
             "#fdca26"
            ],
            [
             1,
             "#f0f921"
            ]
           ],
           "sequentialminus": [
            [
             0,
             "#0d0887"
            ],
            [
             0.1111111111111111,
             "#46039f"
            ],
            [
             0.2222222222222222,
             "#7201a8"
            ],
            [
             0.3333333333333333,
             "#9c179e"
            ],
            [
             0.4444444444444444,
             "#bd3786"
            ],
            [
             0.5555555555555556,
             "#d8576b"
            ],
            [
             0.6666666666666666,
             "#ed7953"
            ],
            [
             0.7777777777777778,
             "#fb9f3a"
            ],
            [
             0.8888888888888888,
             "#fdca26"
            ],
            [
             1,
             "#f0f921"
            ]
           ]
          },
          "colorway": [
           "#636efa",
           "#EF553B",
           "#00cc96",
           "#ab63fa",
           "#FFA15A",
           "#19d3f3",
           "#FF6692",
           "#B6E880",
           "#FF97FF",
           "#FECB52"
          ],
          "font": {
           "color": "#2a3f5f"
          },
          "geo": {
           "bgcolor": "white",
           "lakecolor": "white",
           "landcolor": "#E5ECF6",
           "showlakes": true,
           "showland": true,
           "subunitcolor": "white"
          },
          "hoverlabel": {
           "align": "left"
          },
          "hovermode": "closest",
          "mapbox": {
           "style": "light"
          },
          "paper_bgcolor": "white",
          "plot_bgcolor": "#E5ECF6",
          "polar": {
           "angularaxis": {
            "gridcolor": "white",
            "linecolor": "white",
            "ticks": ""
           },
           "bgcolor": "#E5ECF6",
           "radialaxis": {
            "gridcolor": "white",
            "linecolor": "white",
            "ticks": ""
           }
          },
          "scene": {
           "xaxis": {
            "backgroundcolor": "#E5ECF6",
            "gridcolor": "white",
            "gridwidth": 2,
            "linecolor": "white",
            "showbackground": true,
            "ticks": "",
            "zerolinecolor": "white"
           },
           "yaxis": {
            "backgroundcolor": "#E5ECF6",
            "gridcolor": "white",
            "gridwidth": 2,
            "linecolor": "white",
            "showbackground": true,
            "ticks": "",
            "zerolinecolor": "white"
           },
           "zaxis": {
            "backgroundcolor": "#E5ECF6",
            "gridcolor": "white",
            "gridwidth": 2,
            "linecolor": "white",
            "showbackground": true,
            "ticks": "",
            "zerolinecolor": "white"
           }
          },
          "shapedefaults": {
           "line": {
            "color": "#2a3f5f"
           }
          },
          "ternary": {
           "aaxis": {
            "gridcolor": "white",
            "linecolor": "white",
            "ticks": ""
           },
           "baxis": {
            "gridcolor": "white",
            "linecolor": "white",
            "ticks": ""
           },
           "bgcolor": "#E5ECF6",
           "caxis": {
            "gridcolor": "white",
            "linecolor": "white",
            "ticks": ""
           }
          },
          "title": {
           "x": 0.05
          },
          "xaxis": {
           "automargin": true,
           "gridcolor": "white",
           "linecolor": "white",
           "ticks": "",
           "title": {
            "standoff": 15
           },
           "zerolinecolor": "white",
           "zerolinewidth": 2
          },
          "yaxis": {
           "automargin": true,
           "gridcolor": "white",
           "linecolor": "white",
           "ticks": "",
           "title": {
            "standoff": 15
           },
           "zerolinecolor": "white",
           "zerolinewidth": 2
          }
         }
        },
        "xaxis": {
         "anchor": "y",
         "domain": [
          0,
          1
         ],
         "title": {
          "text": "H:M"
         }
        },
        "yaxis": {
         "anchor": "x",
         "domain": [
          0,
          1
         ],
         "title": {
          "text": "count"
         }
        }
       }
      },
      "text/html": [
       "<div>                            <div id=\"c229a121-cccf-45f0-9063-8026cdb20639\" class=\"plotly-graph-div\" style=\"height:525px; width:100%;\"></div>            <script type=\"text/javascript\">                require([\"plotly\"], function(Plotly) {                    window.PLOTLYENV=window.PLOTLYENV || {};                                    if (document.getElementById(\"c229a121-cccf-45f0-9063-8026cdb20639\")) {                    Plotly.newPlot(                        \"c229a121-cccf-45f0-9063-8026cdb20639\",                        [{\"alignmentgroup\": \"True\", \"bingroup\": \"x\", \"hovertemplate\": \"H:M=%{x}<br>count=%{y}<extra></extra>\", \"legendgroup\": \"\", \"marker\": {\"color\": \"#636efa\"}, \"name\": \"\", \"offsetgroup\": \"\", \"orientation\": \"v\", \"showlegend\": false, \"type\": \"histogram\", \"x\": [\"00:00:00\", \"00:00:00\", \"00:00:00\", \"00:00:00\", \"00:00:00\", \"00:00:00\", \"00:00:00\", \"00:00:00\", \"00:00:00\", \"00:00:00\", \"00:00:00\", \"01:00:00\", \"01:00:00\", \"01:00:00\", \"01:00:00\", \"02:00:00\", \"02:00:00\", \"02:00:00\", \"03:00:00\", \"04:00:00\", \"04:00:00\", \"04:00:00\", \"04:00:00\", \"04:00:00\", \"04:00:00\", \"04:00:00\", \"04:00:00\", \"04:00:00\", \"04:00:00\", \"04:30:00\", \"04:30:00\", \"04:30:00\", \"04:36:00\", \"04:45:00\", \"04:45:00\", \"05:00:00\", \"05:00:00\", \"05:00:00\", \"05:00:00\", \"05:00:00\", \"05:00:00\", \"05:00:00\", \"05:00:00\", \"05:00:00\", \"05:00:00\", \"05:00:00\", \"05:00:00\", \"05:00:00\", \"05:00:00\", \"05:00:00\", \"05:00:00\", \"05:00:00\", \"05:00:00\", \"05:00:00\", \"05:00:00\", \"05:00:00\", \"05:00:00\", \"05:00:00\", \"05:00:00\", \"05:00:00\", \"05:00:00\", \"05:00:00\", \"05:00:00\", \"05:00:00\", \"05:00:00\", \"05:00:00\", \"05:00:00\", \"05:00:00\", \"05:00:00\", \"05:00:00\", \"05:00:00\", \"05:00:00\", \"05:00:00\", \"05:00:00\", \"05:00:00\", \"05:00:00\", \"05:00:00\", \"05:00:00\", \"05:00:00\", \"05:00:00\", \"05:00:00\", \"05:00:00\", \"05:00:00\", \"05:00:00\", \"05:00:00\", \"05:00:00\", \"05:00:00\", \"05:00:00\", \"05:00:00\", \"05:00:00\", \"05:00:00\", \"05:15:00\", \"05:15:00\", \"05:15:00\", \"05:20:00\", \"05:20:00\", \"05:28:00\", \"05:28:00\", \"05:30:00\", \"05:30:00\", \"05:30:00\", \"05:30:00\", \"05:30:00\", \"05:30:00\", \"05:30:00\", \"05:30:00\", \"05:30:00\", \"05:30:00\", \"05:30:00\", \"05:30:00\", \"05:30:00\", \"05:30:00\", \"05:30:00\", \"05:30:00\", \"05:35:00\", \"05:45:00\", \"05:45:00\", \"05:45:00\", \"05:45:00\", \"05:45:00\", \"05:45:00\", \"05:45:00\", \"05:45:00\", \"05:50:00\", \"06:00:00\", \"06:00:00\", \"06:00:00\", \"06:00:00\", \"06:00:00\", \"06:00:00\", \"06:00:00\", \"06:00:00\", \"06:00:00\", \"06:00:00\", \"06:00:00\", \"06:00:00\", \"06:00:00\", \"06:00:00\", \"06:00:00\", \"06:00:00\", \"06:00:00\", \"06:00:00\", \"06:00:00\", \"06:00:00\", \"06:00:00\", \"06:00:00\", \"06:00:00\", \"06:00:00\", \"06:00:00\", \"06:00:00\", \"06:00:00\", \"06:00:00\", \"06:00:00\", \"06:00:00\", \"06:00:00\", \"06:00:00\", \"06:00:00\", \"06:00:00\", \"06:00:00\", \"06:00:00\", \"06:00:00\", \"06:00:00\", \"06:00:00\", \"06:00:00\", \"06:00:00\", \"06:00:00\", \"06:00:00\", \"06:00:00\", \"06:00:00\", \"06:00:00\", \"06:00:00\", \"06:00:00\", \"06:00:00\", \"06:00:00\", \"06:00:00\", \"06:00:00\", \"06:00:00\", \"06:00:00\", \"06:00:00\", \"06:00:00\", \"06:00:00\", \"06:00:00\", \"06:00:00\", \"06:00:00\", \"06:00:00\", \"06:00:00\", \"06:00:00\", \"06:00:00\", \"06:00:00\", \"06:00:00\", \"06:00:00\", \"06:00:00\", \"06:00:00\", \"06:00:00\", \"06:00:00\", \"06:00:00\", \"06:00:00\", \"06:00:00\", \"06:00:00\", \"06:00:00\", \"06:00:00\", \"06:00:00\", \"06:00:00\", \"06:00:00\", \"06:00:00\", \"06:00:00\", \"06:00:00\", \"06:00:00\", \"06:00:00\", \"06:00:00\", \"06:00:00\", \"06:00:00\", \"06:00:00\", \"06:00:00\", \"06:00:00\", \"06:00:00\", \"06:00:00\", \"06:00:00\", \"06:00:00\", \"06:00:00\", \"06:00:00\", \"06:00:00\", \"06:10:00\", \"06:15:00\", \"06:15:00\", \"06:15:00\", \"06:15:00\", \"06:20:00\", \"06:20:00\", \"06:25:00\", \"06:30:00\", \"06:30:00\", \"06:30:00\", \"06:30:00\", \"06:30:00\", \"06:30:00\", \"06:30:00\", \"06:30:00\", \"06:30:00\", \"06:30:00\", \"06:30:00\", \"06:30:00\", \"06:30:00\", \"06:30:00\", \"06:30:00\", \"06:30:00\", \"06:30:00\", \"06:30:00\", \"06:30:00\", \"06:30:00\", \"06:30:00\", \"06:30:00\", \"06:30:00\", \"06:30:00\", \"06:30:00\", \"06:30:00\", \"06:30:00\", \"06:30:00\", \"06:30:00\", \"06:30:00\", \"06:30:00\", \"06:30:00\", \"06:30:00\", \"06:30:00\", \"06:40:00\", \"06:40:00\", \"06:45:00\", \"06:45:00\", \"06:45:00\", \"06:45:00\", \"06:45:00\", \"06:45:00\", \"06:50:00\", \"06:50:00\", \"06:50:00\", \"06:52:00\", \"07:00:00\", \"07:00:00\", \"07:00:00\", \"07:00:00\", \"07:00:00\", \"07:00:00\", \"07:00:00\", \"07:00:00\", \"07:00:00\", \"07:00:00\", \"07:00:00\", \"07:00:00\", \"07:00:00\", \"07:00:00\", \"07:00:00\", \"07:00:00\", \"07:00:00\", \"07:00:00\", \"07:00:00\", \"07:00:00\", \"07:00:00\", \"07:00:00\", \"07:00:00\", \"07:00:00\", \"07:00:00\", \"07:00:00\", \"07:00:00\", \"07:00:00\", \"07:00:00\", \"07:00:00\", \"07:00:00\", \"07:00:00\", \"07:00:00\", \"07:00:00\", \"07:00:00\", \"07:00:00\", \"07:00:00\", \"07:00:00\", \"07:00:00\", \"07:00:00\", \"07:00:00\", \"07:00:00\", \"07:00:00\", \"07:00:00\", \"07:00:00\", \"07:00:00\", \"07:00:00\", \"07:00:00\", \"07:00:00\", \"07:00:00\", \"07:00:00\", \"07:00:00\", \"07:00:00\", \"07:00:00\", \"07:00:00\", \"07:00:00\", \"07:00:00\", \"07:00:00\", \"07:00:00\", \"07:00:00\", \"07:00:00\", \"07:00:00\", \"07:00:00\", \"07:00:00\", \"07:00:00\", \"07:00:00\", \"07:00:00\", \"07:00:00\", \"07:00:00\", \"07:00:00\", \"07:00:00\", \"07:00:00\", \"07:00:00\", \"07:00:00\", \"07:00:00\", \"07:00:00\", \"07:00:00\", \"07:00:00\", \"07:00:00\", \"07:00:00\", \"07:00:00\", \"07:00:00\", \"07:00:00\", \"07:00:00\", \"07:00:00\", \"07:00:00\", \"07:00:00\", \"07:00:00\", \"07:00:00\", \"07:00:00\", \"07:00:00\", \"07:00:00\", \"07:00:00\", \"07:00:00\", \"07:00:00\", \"07:00:00\", \"07:00:00\", \"07:00:00\", \"07:00:00\", \"07:00:00\", \"07:00:00\", \"07:00:00\", \"07:00:00\", \"07:00:00\", \"07:00:00\", \"07:00:00\", \"07:00:00\", \"07:00:00\", \"07:00:00\", \"07:00:00\", \"07:00:00\", \"07:00:00\", \"07:00:00\", \"07:00:00\", \"07:00:00\", \"07:00:00\", \"07:00:00\", \"07:00:00\", \"07:00:00\", \"07:00:00\", \"07:00:00\", \"07:00:00\", \"07:00:00\", \"07:00:00\", \"07:00:00\", \"07:00:00\", \"07:00:00\", \"07:00:00\", \"07:00:00\", \"07:00:00\", \"07:00:00\", \"07:00:00\", \"07:00:00\", \"07:00:00\", \"07:00:00\", \"07:00:00\", \"07:00:00\", \"07:00:00\", \"07:00:00\", \"07:00:00\", \"07:00:00\", \"07:00:00\", \"07:00:00\", \"07:00:00\", \"07:00:00\", \"07:00:00\", \"07:00:00\", \"07:00:00\", \"07:00:00\", \"07:00:00\", \"07:00:00\", \"07:00:00\", \"07:00:00\", \"07:00:00\", \"07:00:00\", \"07:00:00\", \"07:00:00\", \"07:00:00\", \"07:00:00\", \"07:00:00\", \"07:00:00\", \"07:00:00\", \"07:00:00\", \"07:00:00\", \"07:00:00\", \"07:05:00\", \"07:10:00\", \"07:10:00\", \"07:10:00\", \"07:15:00\", \"07:15:00\", \"07:15:00\", \"07:15:00\", \"07:15:00\", \"07:15:00\", \"07:15:00\", \"07:15:00\", \"07:15:00\", \"07:15:00\", \"07:20:00\", \"07:20:00\", \"07:23:00\", \"07:30:00\", \"07:30:00\", \"07:30:00\", \"07:30:00\", \"07:30:00\", \"07:30:00\", \"07:30:00\", \"07:30:00\", \"07:30:00\", \"07:30:00\", \"07:30:00\", \"07:30:00\", \"07:30:00\", \"07:30:00\", \"07:30:00\", \"07:30:00\", \"07:30:00\", \"07:30:00\", \"07:30:00\", \"07:30:00\", \"07:30:00\", \"07:30:00\", \"07:30:00\", \"07:30:00\", \"07:30:00\", \"07:30:00\", \"07:30:00\", \"07:30:00\", \"07:30:00\", \"07:30:00\", \"07:30:00\", \"07:30:00\", \"07:30:00\", \"07:30:00\", \"07:30:00\", \"07:30:00\", \"07:30:00\", \"07:30:00\", \"07:30:00\", \"07:40:00\", \"07:40:00\", \"07:45:00\", \"07:45:00\", \"07:45:00\", \"07:45:00\", \"07:45:00\", \"07:45:00\", \"07:50:00\", \"07:50:00\", \"07:55:00\", \"07:56:00\", \"08:00:00\", \"08:00:00\", \"08:00:00\", \"08:00:00\", \"08:00:00\", \"08:00:00\", \"08:00:00\", \"08:00:00\", \"08:00:00\", \"08:00:00\", \"08:00:00\", \"08:00:00\", \"08:00:00\", \"08:00:00\", \"08:00:00\", \"08:00:00\", \"08:00:00\", \"08:00:00\", \"08:00:00\", \"08:00:00\", \"08:00:00\", \"08:00:00\", \"08:00:00\", \"08:00:00\", \"08:00:00\", \"08:00:00\", \"08:00:00\", \"08:00:00\", \"08:00:00\", \"08:00:00\", \"08:00:00\", \"08:00:00\", \"08:00:00\", \"08:00:00\", \"08:00:00\", \"08:00:00\", \"08:00:00\", \"08:00:00\", \"08:00:00\", \"08:00:00\", \"08:00:00\", \"08:00:00\", \"08:00:00\", \"08:00:00\", \"08:00:00\", \"08:00:00\", \"08:00:00\", \"08:00:00\", \"08:00:00\", \"08:00:00\", \"08:00:00\", \"08:00:00\", \"08:00:00\", \"08:00:00\", \"08:00:00\", \"08:00:00\", \"08:00:00\", \"08:00:00\", \"08:00:00\", \"08:00:00\", \"08:00:00\", \"08:00:00\", \"08:00:00\", \"08:00:00\", \"08:00:00\", \"08:00:00\", \"08:00:00\", \"08:00:00\", \"08:00:00\", \"08:00:00\", \"08:00:00\", \"08:00:00\", \"08:00:00\", \"08:00:00\", \"08:00:00\", \"08:00:00\", \"08:00:00\", \"08:00:00\", \"08:10:00\", \"08:10:00\", \"08:15:00\", \"08:15:00\", \"08:15:00\", \"08:20:00\", \"08:25:00\", \"08:30:00\", \"08:30:00\", \"08:30:00\", \"08:30:00\", \"08:30:00\", \"08:30:00\", \"08:30:00\", \"08:30:00\", \"08:30:00\", \"08:30:00\", \"08:30:00\", \"08:30:00\", \"08:30:00\", \"08:30:00\", \"08:45:00\", \"08:50:00\", \"09:00:00\", \"09:00:00\", \"09:00:00\", \"09:00:00\", \"09:00:00\", \"09:00:00\", \"09:00:00\", \"09:00:00\", \"09:00:00\", \"09:00:00\", \"09:00:00\", \"09:00:00\", \"09:30:00\", \"09:30:00\", \"09:40:00\", \"10:00:00\", \"10:00:00\", \"10:00:00\", \"10:00:00\", \"10:00:00\", \"10:00:00\", \"10:00:00\", \"10:00:00\", \"11:00:00\", \"11:00:00\", \"11:30:00\", \"12:00:00\", \"12:00:00\", \"12:00:00\", \"12:00:00\", \"18:00:00\", \"18:00:00\", \"19:00:00\", \"20:00:00\", \"21:00:00\", \"21:00:00\", \"22:00:00\", \"23:00:00\", \"23:30:00\"], \"xaxis\": \"x\", \"yaxis\": \"y\"}],                        {\"barmode\": \"relative\", \"legend\": {\"tracegroupgap\": 0}, \"margin\": {\"t\": 60}, \"template\": {\"data\": {\"bar\": [{\"error_x\": {\"color\": \"#2a3f5f\"}, \"error_y\": {\"color\": \"#2a3f5f\"}, \"marker\": {\"line\": {\"color\": \"#E5ECF6\", \"width\": 0.5}}, \"type\": \"bar\"}], \"barpolar\": [{\"marker\": {\"line\": {\"color\": \"#E5ECF6\", \"width\": 0.5}}, \"type\": \"barpolar\"}], \"carpet\": [{\"aaxis\": {\"endlinecolor\": \"#2a3f5f\", \"gridcolor\": \"white\", \"linecolor\": \"white\", \"minorgridcolor\": \"white\", \"startlinecolor\": \"#2a3f5f\"}, \"baxis\": {\"endlinecolor\": \"#2a3f5f\", \"gridcolor\": \"white\", \"linecolor\": \"white\", \"minorgridcolor\": \"white\", \"startlinecolor\": \"#2a3f5f\"}, \"type\": \"carpet\"}], \"choropleth\": [{\"colorbar\": {\"outlinewidth\": 0, \"ticks\": \"\"}, \"type\": \"choropleth\"}], \"contour\": [{\"colorbar\": {\"outlinewidth\": 0, \"ticks\": \"\"}, \"colorscale\": [[0.0, \"#0d0887\"], [0.1111111111111111, \"#46039f\"], [0.2222222222222222, \"#7201a8\"], [0.3333333333333333, \"#9c179e\"], [0.4444444444444444, \"#bd3786\"], [0.5555555555555556, \"#d8576b\"], [0.6666666666666666, \"#ed7953\"], [0.7777777777777778, \"#fb9f3a\"], [0.8888888888888888, \"#fdca26\"], [1.0, \"#f0f921\"]], \"type\": \"contour\"}], \"contourcarpet\": [{\"colorbar\": {\"outlinewidth\": 0, \"ticks\": \"\"}, \"type\": \"contourcarpet\"}], \"heatmap\": [{\"colorbar\": {\"outlinewidth\": 0, \"ticks\": \"\"}, \"colorscale\": [[0.0, \"#0d0887\"], [0.1111111111111111, \"#46039f\"], [0.2222222222222222, \"#7201a8\"], [0.3333333333333333, \"#9c179e\"], [0.4444444444444444, \"#bd3786\"], [0.5555555555555556, \"#d8576b\"], [0.6666666666666666, \"#ed7953\"], [0.7777777777777778, \"#fb9f3a\"], [0.8888888888888888, \"#fdca26\"], [1.0, \"#f0f921\"]], \"type\": \"heatmap\"}], \"heatmapgl\": [{\"colorbar\": {\"outlinewidth\": 0, \"ticks\": \"\"}, \"colorscale\": [[0.0, \"#0d0887\"], [0.1111111111111111, \"#46039f\"], [0.2222222222222222, \"#7201a8\"], [0.3333333333333333, \"#9c179e\"], [0.4444444444444444, \"#bd3786\"], [0.5555555555555556, \"#d8576b\"], [0.6666666666666666, \"#ed7953\"], [0.7777777777777778, \"#fb9f3a\"], [0.8888888888888888, \"#fdca26\"], [1.0, \"#f0f921\"]], \"type\": \"heatmapgl\"}], \"histogram\": [{\"marker\": {\"colorbar\": {\"outlinewidth\": 0, \"ticks\": \"\"}}, \"type\": \"histogram\"}], \"histogram2d\": [{\"colorbar\": {\"outlinewidth\": 0, \"ticks\": \"\"}, \"colorscale\": [[0.0, \"#0d0887\"], [0.1111111111111111, \"#46039f\"], [0.2222222222222222, \"#7201a8\"], [0.3333333333333333, \"#9c179e\"], [0.4444444444444444, \"#bd3786\"], [0.5555555555555556, \"#d8576b\"], [0.6666666666666666, \"#ed7953\"], [0.7777777777777778, \"#fb9f3a\"], [0.8888888888888888, \"#fdca26\"], [1.0, \"#f0f921\"]], \"type\": \"histogram2d\"}], \"histogram2dcontour\": [{\"colorbar\": {\"outlinewidth\": 0, \"ticks\": \"\"}, \"colorscale\": [[0.0, \"#0d0887\"], [0.1111111111111111, \"#46039f\"], [0.2222222222222222, \"#7201a8\"], [0.3333333333333333, \"#9c179e\"], [0.4444444444444444, \"#bd3786\"], [0.5555555555555556, \"#d8576b\"], [0.6666666666666666, \"#ed7953\"], [0.7777777777777778, \"#fb9f3a\"], [0.8888888888888888, \"#fdca26\"], [1.0, \"#f0f921\"]], \"type\": \"histogram2dcontour\"}], \"mesh3d\": [{\"colorbar\": {\"outlinewidth\": 0, \"ticks\": \"\"}, \"type\": \"mesh3d\"}], \"parcoords\": [{\"line\": {\"colorbar\": {\"outlinewidth\": 0, \"ticks\": \"\"}}, \"type\": \"parcoords\"}], \"pie\": [{\"automargin\": true, \"type\": \"pie\"}], \"scatter\": [{\"marker\": {\"colorbar\": {\"outlinewidth\": 0, \"ticks\": \"\"}}, \"type\": \"scatter\"}], \"scatter3d\": [{\"line\": {\"colorbar\": {\"outlinewidth\": 0, \"ticks\": \"\"}}, \"marker\": {\"colorbar\": {\"outlinewidth\": 0, \"ticks\": \"\"}}, \"type\": \"scatter3d\"}], \"scattercarpet\": [{\"marker\": {\"colorbar\": {\"outlinewidth\": 0, \"ticks\": \"\"}}, \"type\": \"scattercarpet\"}], \"scattergeo\": [{\"marker\": {\"colorbar\": {\"outlinewidth\": 0, \"ticks\": \"\"}}, \"type\": \"scattergeo\"}], \"scattergl\": [{\"marker\": {\"colorbar\": {\"outlinewidth\": 0, \"ticks\": \"\"}}, \"type\": \"scattergl\"}], \"scattermapbox\": [{\"marker\": {\"colorbar\": {\"outlinewidth\": 0, \"ticks\": \"\"}}, \"type\": \"scattermapbox\"}], \"scatterpolar\": [{\"marker\": {\"colorbar\": {\"outlinewidth\": 0, \"ticks\": \"\"}}, \"type\": \"scatterpolar\"}], \"scatterpolargl\": [{\"marker\": {\"colorbar\": {\"outlinewidth\": 0, \"ticks\": \"\"}}, \"type\": \"scatterpolargl\"}], \"scatterternary\": [{\"marker\": {\"colorbar\": {\"outlinewidth\": 0, \"ticks\": \"\"}}, \"type\": \"scatterternary\"}], \"surface\": [{\"colorbar\": {\"outlinewidth\": 0, \"ticks\": \"\"}, \"colorscale\": [[0.0, \"#0d0887\"], [0.1111111111111111, \"#46039f\"], [0.2222222222222222, \"#7201a8\"], [0.3333333333333333, \"#9c179e\"], [0.4444444444444444, \"#bd3786\"], [0.5555555555555556, \"#d8576b\"], [0.6666666666666666, \"#ed7953\"], [0.7777777777777778, \"#fb9f3a\"], [0.8888888888888888, \"#fdca26\"], [1.0, \"#f0f921\"]], \"type\": \"surface\"}], \"table\": [{\"cells\": {\"fill\": {\"color\": \"#EBF0F8\"}, \"line\": {\"color\": \"white\"}}, \"header\": {\"fill\": {\"color\": \"#C8D4E3\"}, \"line\": {\"color\": \"white\"}}, \"type\": \"table\"}]}, \"layout\": {\"annotationdefaults\": {\"arrowcolor\": \"#2a3f5f\", \"arrowhead\": 0, \"arrowwidth\": 1}, \"coloraxis\": {\"colorbar\": {\"outlinewidth\": 0, \"ticks\": \"\"}}, \"colorscale\": {\"diverging\": [[0, \"#8e0152\"], [0.1, \"#c51b7d\"], [0.2, \"#de77ae\"], [0.3, \"#f1b6da\"], [0.4, \"#fde0ef\"], [0.5, \"#f7f7f7\"], [0.6, \"#e6f5d0\"], [0.7, \"#b8e186\"], [0.8, \"#7fbc41\"], [0.9, \"#4d9221\"], [1, \"#276419\"]], \"sequential\": [[0.0, \"#0d0887\"], [0.1111111111111111, \"#46039f\"], [0.2222222222222222, \"#7201a8\"], [0.3333333333333333, \"#9c179e\"], [0.4444444444444444, \"#bd3786\"], [0.5555555555555556, \"#d8576b\"], [0.6666666666666666, \"#ed7953\"], [0.7777777777777778, \"#fb9f3a\"], [0.8888888888888888, \"#fdca26\"], [1.0, \"#f0f921\"]], \"sequentialminus\": [[0.0, \"#0d0887\"], [0.1111111111111111, \"#46039f\"], [0.2222222222222222, \"#7201a8\"], [0.3333333333333333, \"#9c179e\"], [0.4444444444444444, \"#bd3786\"], [0.5555555555555556, \"#d8576b\"], [0.6666666666666666, \"#ed7953\"], [0.7777777777777778, \"#fb9f3a\"], [0.8888888888888888, \"#fdca26\"], [1.0, \"#f0f921\"]]}, \"colorway\": [\"#636efa\", \"#EF553B\", \"#00cc96\", \"#ab63fa\", \"#FFA15A\", \"#19d3f3\", \"#FF6692\", \"#B6E880\", \"#FF97FF\", \"#FECB52\"], \"font\": {\"color\": \"#2a3f5f\"}, \"geo\": {\"bgcolor\": \"white\", \"lakecolor\": \"white\", \"landcolor\": \"#E5ECF6\", \"showlakes\": true, \"showland\": true, \"subunitcolor\": \"white\"}, \"hoverlabel\": {\"align\": \"left\"}, \"hovermode\": \"closest\", \"mapbox\": {\"style\": \"light\"}, \"paper_bgcolor\": \"white\", \"plot_bgcolor\": \"#E5ECF6\", \"polar\": {\"angularaxis\": {\"gridcolor\": \"white\", \"linecolor\": \"white\", \"ticks\": \"\"}, \"bgcolor\": \"#E5ECF6\", \"radialaxis\": {\"gridcolor\": \"white\", \"linecolor\": \"white\", \"ticks\": \"\"}}, \"scene\": {\"xaxis\": {\"backgroundcolor\": \"#E5ECF6\", \"gridcolor\": \"white\", \"gridwidth\": 2, \"linecolor\": \"white\", \"showbackground\": true, \"ticks\": \"\", \"zerolinecolor\": \"white\"}, \"yaxis\": {\"backgroundcolor\": \"#E5ECF6\", \"gridcolor\": \"white\", \"gridwidth\": 2, \"linecolor\": \"white\", \"showbackground\": true, \"ticks\": \"\", \"zerolinecolor\": \"white\"}, \"zaxis\": {\"backgroundcolor\": \"#E5ECF6\", \"gridcolor\": \"white\", \"gridwidth\": 2, \"linecolor\": \"white\", \"showbackground\": true, \"ticks\": \"\", \"zerolinecolor\": \"white\"}}, \"shapedefaults\": {\"line\": {\"color\": \"#2a3f5f\"}}, \"ternary\": {\"aaxis\": {\"gridcolor\": \"white\", \"linecolor\": \"white\", \"ticks\": \"\"}, \"baxis\": {\"gridcolor\": \"white\", \"linecolor\": \"white\", \"ticks\": \"\"}, \"bgcolor\": \"#E5ECF6\", \"caxis\": {\"gridcolor\": \"white\", \"linecolor\": \"white\", \"ticks\": \"\"}}, \"title\": {\"x\": 0.05}, \"xaxis\": {\"automargin\": true, \"gridcolor\": \"white\", \"linecolor\": \"white\", \"ticks\": \"\", \"title\": {\"standoff\": 15}, \"zerolinecolor\": \"white\", \"zerolinewidth\": 2}, \"yaxis\": {\"automargin\": true, \"gridcolor\": \"white\", \"linecolor\": \"white\", \"ticks\": \"\", \"title\": {\"standoff\": 15}, \"zerolinecolor\": \"white\", \"zerolinewidth\": 2}}}, \"xaxis\": {\"anchor\": \"y\", \"domain\": [0.0, 1.0], \"title\": {\"text\": \"H:M\"}}, \"yaxis\": {\"anchor\": \"x\", \"domain\": [0.0, 1.0], \"title\": {\"text\": \"count\"}}},                        {\"responsive\": true}                    ).then(function(){\n",
       "                            \n",
       "var gd = document.getElementById('c229a121-cccf-45f0-9063-8026cdb20639');\n",
       "var x = new MutationObserver(function (mutations, observer) {{\n",
       "        var display = window.getComputedStyle(gd).display;\n",
       "        if (!display || display === 'none') {{\n",
       "            console.log([gd, 'removed!']);\n",
       "            Plotly.purge(gd);\n",
       "            observer.disconnect();\n",
       "        }}\n",
       "}});\n",
       "\n",
       "// Listen for the removal of the full notebook cells\n",
       "var notebookContainer = gd.closest('#notebook-container');\n",
       "if (notebookContainer) {{\n",
       "    x.observe(notebookContainer, {childList: true});\n",
       "}}\n",
       "\n",
       "// Listen for the clearing of the current output cell\n",
       "var outputEl = gd.closest('.output');\n",
       "if (outputEl) {{\n",
       "    x.observe(outputEl, {childList: true});\n",
       "}}\n",
       "\n",
       "                        })                };                });            </script>        </div>"
      ]
     },
     "metadata": {},
     "output_type": "display_data"
    }
   ],
   "source": [
    "fig = px.histogram(times.sort_values(by='H:M'), x=\"H:M\")\n",
    "fig.show()"
   ]
  },
  {
   "cell_type": "code",
   "execution_count": 18,
   "metadata": {},
   "outputs": [],
   "source": [
    "H = []\n",
    "for i, j in enumerate(times['H:M']):\n",
    "    H.append(j.hour)\n",
    "    \n",
    "times['H'] = H"
   ]
  },
  {
   "cell_type": "code",
   "execution_count": 19,
   "metadata": {},
   "outputs": [
    {
     "data": {
      "text/html": [
       "<div>\n",
       "<style scoped>\n",
       "    .dataframe tbody tr th:only-of-type {\n",
       "        vertical-align: middle;\n",
       "    }\n",
       "\n",
       "    .dataframe tbody tr th {\n",
       "        vertical-align: top;\n",
       "    }\n",
       "\n",
       "    .dataframe thead th {\n",
       "        text-align: right;\n",
       "    }\n",
       "</style>\n",
       "<table border=\"1\" class=\"dataframe\">\n",
       "  <thead>\n",
       "    <tr style=\"text-align: right;\">\n",
       "      <th></th>\n",
       "      <th>Time</th>\n",
       "      <th>Conv_time</th>\n",
       "      <th>count</th>\n",
       "      <th>H:M</th>\n",
       "      <th>H</th>\n",
       "    </tr>\n",
       "  </thead>\n",
       "  <tbody>\n",
       "    <tr>\n",
       "      <th>0</th>\n",
       "      <td>6</td>\n",
       "      <td>2021-01-29 06:00:00</td>\n",
       "      <td>1</td>\n",
       "      <td>06:00:00</td>\n",
       "      <td>6</td>\n",
       "    </tr>\n",
       "    <tr>\n",
       "      <th>1</th>\n",
       "      <td>8:45</td>\n",
       "      <td>2021-01-29 08:45:00</td>\n",
       "      <td>1</td>\n",
       "      <td>08:45:00</td>\n",
       "      <td>8</td>\n",
       "    </tr>\n",
       "    <tr>\n",
       "      <th>2</th>\n",
       "      <td>7:00 AM</td>\n",
       "      <td>2021-01-29 07:00:00</td>\n",
       "      <td>1</td>\n",
       "      <td>07:00:00</td>\n",
       "      <td>7</td>\n",
       "    </tr>\n",
       "    <tr>\n",
       "      <th>3</th>\n",
       "      <td>6</td>\n",
       "      <td>2021-01-29 06:00:00</td>\n",
       "      <td>1</td>\n",
       "      <td>06:00:00</td>\n",
       "      <td>6</td>\n",
       "    </tr>\n",
       "    <tr>\n",
       "      <th>4</th>\n",
       "      <td>7:30</td>\n",
       "      <td>2021-01-29 07:30:00</td>\n",
       "      <td>1</td>\n",
       "      <td>07:30:00</td>\n",
       "      <td>7</td>\n",
       "    </tr>\n",
       "  </tbody>\n",
       "</table>\n",
       "</div>"
      ],
      "text/plain": [
       "      Time           Conv_time  count       H:M  H\n",
       "0        6 2021-01-29 06:00:00      1  06:00:00  6\n",
       "1     8:45 2021-01-29 08:45:00      1  08:45:00  8\n",
       "2  7:00 AM 2021-01-29 07:00:00      1  07:00:00  7\n",
       "3        6 2021-01-29 06:00:00      1  06:00:00  6\n",
       "4     7:30 2021-01-29 07:30:00      1  07:30:00  7"
      ]
     },
     "execution_count": 19,
     "metadata": {},
     "output_type": "execute_result"
    }
   ],
   "source": [
    "times.head()"
   ]
  },
  {
   "cell_type": "code",
   "execution_count": 20,
   "metadata": {},
   "outputs": [
    {
     "data": {
      "image/png": "[encoded data removed]",
      "text/plain": [
       "<Figure size 576x432 with 1 Axes>"
      ]
     },
     "metadata": {
      "needs_background": "light"
     },
     "output_type": "display_data"
    }
   ],
   "source": [
    "fig, ax = plt.subplots(figsize=(8,6))\n",
    "\n",
    "ax.hist(times['H'], bins=20)\n",
    "\n",
    "plt.show()"
   ]
  },
  {
   "cell_type": "code",
   "execution_count": 21,
   "metadata": {},
   "outputs": [
    {
     "data": {
      "application/vnd.plotly.v1+json": {
       "config": {
        "plotlyServerURL": "https://plotly.com"
       },
       "data": [
        {
         "alignmentgroup": "True",
         "bingroup": "x",
         "hovertemplate": "H=%{x}<br>count=%{y}<extra></extra>",
         "legendgroup": "",
         "marker": {
          "color": "#636efa"
         },
         "name": "",
         "offsetgroup": "",
         "orientation": "v",
         "showlegend": false,
         "type": "histogram",
         "x": [
          0,
          0,
          0,
          0,
          0,
          0,
          0,
          0,
          0,
          0,
          0,
          1,
          1,
          1,
          1,
          2,
          2,
          2,
          3,
          4,
          4,
          4,
          4,
          4,
          4,
          4,
          4,
          4,
          4,
          4,
          4,
          4,
          4,
          4,
          4,
          5,
          5,
          5,
          5,
          5,
          5,
          5,
          5,
          5,
          5,
          5,
          5,
          5,
          5,
          5,
          5,
          5,
          5,
          5,
          5,
          5,
          5,
          5,
          5,
          5,
          5,
          5,
          5,
          5,
          5,
          5,
          5,
          5,
          5,
          5,
          5,
          5,
          5,
          5,
          5,
          5,
          5,
          5,
          5,
          5,
          5,
          5,
          5,
          5,
          5,
          5,
          5,
          5,
          5,
          5,
          5,
          5,
          5,
          5,
          5,
          5,
          5,
          5,
          5,
          5,
          5,
          5,
          5,
          5,
          5,
          5,
          5,
          5,
          5,
          5,
          5,
          5,
          5,
          5,
          5,
          5,
          5,
          5,
          5,
          5,
          5,
          5,
          5,
          5,
          6,
          6,
          6,
          6,
          6,
          6,
          6,
          6,
          6,
          6,
          6,
          6,
          6,
          6,
          6,
          6,
          6,
          6,
          6,
          6,
          6,
          6,
          6,
          6,
          6,
          6,
          6,
          6,
          6,
          6,
          6,
          6,
          6,
          6,
          6,
          6,
          6,
          6,
          6,
          6,
          6,
          6,
          6,
          6,
          6,
          6,
          6,
          6,
          6,
          6,
          6,
          6,
          6,
          6,
          6,
          6,
          6,
          6,
          6,
          6,
          6,
          6,
          6,
          6,
          6,
          6,
          6,
          6,
          6,
          6,
          6,
          6,
          6,
          6,
          6,
          6,
          6,
          6,
          6,
          6,
          6,
          6,
          6,
          6,
          6,
          6,
          6,
          6,
          6,
          6,
          6,
          6,
          6,
          6,
          6,
          6,
          6,
          6,
          6,
          6,
          6,
          6,
          6,
          6,
          6,
          6,
          6,
          6,
          6,
          6,
          6,
          6,
          6,
          6,
          6,
          6,
          6,
          6,
          6,
          6,
          6,
          6,
          6,
          6,
          6,
          6,
          6,
          6,
          6,
          6,
          6,
          6,
          6,
          6,
          6,
          6,
          6,
          6,
          6,
          6,
          6,
          6,
          6,
          6,
          6,
          6,
          6,
          6,
          6,
          6,
          6,
          6,
          7,
          7,
          7,
          7,
          7,
          7,
          7,
          7,
          7,
          7,
          7,
          7,
          7,
          7,
          7,
          7,
          7,
          7,
          7,
          7,
          7,
          7,
          7,
          7,
          7,
          7,
          7,
          7,
          7,
          7,
          7,
          7,
          7,
          7,
          7,
          7,
          7,
          7,
          7,
          7,
          7,
          7,
          7,
          7,
          7,
          7,
          7,
          7,
          7,
          7,
          7,
          7,
          7,
          7,
          7,
          7,
          7,
          7,
          7,
          7,
          7,
          7,
          7,
          7,
          7,
          7,
          7,
          7,
          7,
          7,
          7,
          7,
          7,
          7,
          7,
          7,
          7,
          7,
          7,
          7,
          7,
          7,
          7,
          7,
          7,
          7,
          7,
          7,
          7,
          7,
          7,
          7,
          7,
          7,
          7,
          7,
          7,
          7,
          7,
          7,
          7,
          7,
          7,
          7,
          7,
          7,
          7,
          7,
          7,
          7,
          7,
          7,
          7,
          7,
          7,
          7,
          7,
          7,
          7,
          7,
          7,
          7,
          7,
          7,
          7,
          7,
          7,
          7,
          7,
          7,
          7,
          7,
          7,
          7,
          7,
          7,
          7,
          7,
          7,
          7,
          7,
          7,
          7,
          7,
          7,
          7,
          7,
          7,
          7,
          7,
          7,
          7,
          7,
          7,
          7,
          7,
          7,
          7,
          7,
          7,
          7,
          7,
          7,
          7,
          7,
          7,
          7,
          7,
          7,
          7,
          7,
          7,
          7,
          7,
          7,
          7,
          7,
          7,
          7,
          7,
          7,
          7,
          7,
          7,
          7,
          7,
          7,
          7,
          7,
          7,
          7,
          7,
          7,
          7,
          7,
          7,
          7,
          7,
          7,
          7,
          7,
          7,
          7,
          7,
          7,
          7,
          7,
          7,
          7,
          7,
          7,
          7,
          7,
          7,
          7,
          7,
          7,
          7,
          7,
          7,
          7,
          7,
          7,
          7,
          7,
          7,
          7,
          7,
          7,
          7,
          7,
          7,
          7,
          8,
          8,
          8,
          8,
          8,
          8,
          8,
          8,
          8,
          8,
          8,
          8,
          8,
          8,
          8,
          8,
          8,
          8,
          8,
          8,
          8,
          8,
          8,
          8,
          8,
          8,
          8,
          8,
          8,
          8,
          8,
          8,
          8,
          8,
          8,
          8,
          8,
          8,
          8,
          8,
          8,
          8,
          8,
          8,
          8,
          8,
          8,
          8,
          8,
          8,
          8,
          8,
          8,
          8,
          8,
          8,
          8,
          8,
          8,
          8,
          8,
          8,
          8,
          8,
          8,
          8,
          8,
          8,
          8,
          8,
          8,
          8,
          8,
          8,
          8,
          8,
          8,
          8,
          8,
          8,
          8,
          8,
          8,
          8,
          8,
          8,
          8,
          8,
          8,
          8,
          8,
          8,
          8,
          8,
          8,
          8,
          8,
          8,
          8,
          8,
          8,
          9,
          9,
          9,
          9,
          9,
          9,
          9,
          9,
          9,
          9,
          9,
          9,
          9,
          9,
          9,
          10,
          10,
          10,
          10,
          10,
          10,
          10,
          10,
          11,
          11,
          11,
          12,
          12,
          12,
          12,
          18,
          18,
          19,
          20,
          21,
          21,
          22,
          23,
          23
         ],
         "xaxis": "x",
         "yaxis": "y"
        }
       ],
       "layout": {
        "barmode": "relative",
        "legend": {
         "tracegroupgap": 0
        },
        "margin": {
         "t": 60
        },
        "template": {
         "data": {
          "bar": [
           {
            "error_x": {
             "color": "#2a3f5f"
            },
            "error_y": {
             "color": "#2a3f5f"
            },
            "marker": {
             "line": {
              "color": "#E5ECF6",
              "width": 0.5
             }
            },
            "type": "bar"
           }
          ],
          "barpolar": [
           {
            "marker": {
             "line": {
              "color": "#E5ECF6",
              "width": 0.5
             }
            },
            "type": "barpolar"
           }
          ],
          "carpet": [
           {
            "aaxis": {
             "endlinecolor": "#2a3f5f",
             "gridcolor": "white",
             "linecolor": "white",
             "minorgridcolor": "white",
             "startlinecolor": "#2a3f5f"
            },
            "baxis": {
             "endlinecolor": "#2a3f5f",
             "gridcolor": "white",
             "linecolor": "white",
             "minorgridcolor": "white",
             "startlinecolor": "#2a3f5f"
            },
            "type": "carpet"
           }
          ],
          "choropleth": [
           {
            "colorbar": {
             "outlinewidth": 0,
             "ticks": ""
            },
            "type": "choropleth"
           }
          ],
          "contour": [
           {
            "colorbar": {
             "outlinewidth": 0,
             "ticks": ""
            },
            "colorscale": [
             [
              0,
              "#0d0887"
             ],
             [
              0.1111111111111111,
              "#46039f"
             ],
             [
              0.2222222222222222,
              "#7201a8"
             ],
             [
              0.3333333333333333,
              "#9c179e"
             ],
             [
              0.4444444444444444,
              "#bd3786"
             ],
             [
              0.5555555555555556,
              "#d8576b"
             ],
             [
              0.6666666666666666,
              "#ed7953"
             ],
             [
              0.7777777777777778,
              "#fb9f3a"
             ],
             [
              0.8888888888888888,
              "#fdca26"
             ],
             [
              1,
              "#f0f921"
             ]
            ],
            "type": "contour"
           }
          ],
          "contourcarpet": [
           {
            "colorbar": {
             "outlinewidth": 0,
             "ticks": ""
            },
            "type": "contourcarpet"
           }
          ],
          "heatmap": [
           {
            "colorbar": {
             "outlinewidth": 0,
             "ticks": ""
            },
            "colorscale": [
             [
              0,
              "#0d0887"
             ],
             [
              0.1111111111111111,
              "#46039f"
             ],
             [
              0.2222222222222222,
              "#7201a8"
             ],
             [
              0.3333333333333333,
              "#9c179e"
             ],
             [
              0.4444444444444444,
              "#bd3786"
             ],
             [
              0.5555555555555556,
              "#d8576b"
             ],
             [
              0.6666666666666666,
              "#ed7953"
             ],
             [
              0.7777777777777778,
              "#fb9f3a"
             ],
             [
              0.8888888888888888,
              "#fdca26"
             ],
             [
              1,
              "#f0f921"
             ]
            ],
            "type": "heatmap"
           }
          ],
          "heatmapgl": [
           {
            "colorbar": {
             "outlinewidth": 0,
             "ticks": ""
            },
            "colorscale": [
             [
              0,
              "#0d0887"
             ],
             [
              0.1111111111111111,
              "#46039f"
             ],
             [
              0.2222222222222222,
              "#7201a8"
             ],
             [
              0.3333333333333333,
              "#9c179e"
             ],
             [
              0.4444444444444444,
              "#bd3786"
             ],
             [
              0.5555555555555556,
              "#d8576b"
             ],
             [
              0.6666666666666666,
              "#ed7953"
             ],
             [
              0.7777777777777778,
              "#fb9f3a"
             ],
             [
              0.8888888888888888,
              "#fdca26"
             ],
             [
              1,
              "#f0f921"
             ]
            ],
            "type": "heatmapgl"
           }
          ],
          "histogram": [
           {
            "marker": {
             "colorbar": {
              "outlinewidth": 0,
              "ticks": ""
             }
            },
            "type": "histogram"
           }
          ],
          "histogram2d": [
           {
            "colorbar": {
             "outlinewidth": 0,
             "ticks": ""
            },
            "colorscale": [
             [
              0,
              "#0d0887"
             ],
             [
              0.1111111111111111,
              "#46039f"
             ],
             [
              0.2222222222222222,
              "#7201a8"
             ],
             [
              0.3333333333333333,
              "#9c179e"
             ],
             [
              0.4444444444444444,
              "#bd3786"
             ],
             [
              0.5555555555555556,
              "#d8576b"
             ],
             [
              0.6666666666666666,
              "#ed7953"
             ],
             [
              0.7777777777777778,
              "#fb9f3a"
             ],
             [
              0.8888888888888888,
              "#fdca26"
             ],
             [
              1,
              "#f0f921"
             ]
            ],
            "type": "histogram2d"
           }
          ],
          "histogram2dcontour": [
           {
            "colorbar": {
             "outlinewidth": 0,
             "ticks": ""
            },
            "colorscale": [
             [
              0,
              "#0d0887"
             ],
             [
              0.1111111111111111,
              "#46039f"
             ],
             [
              0.2222222222222222,
              "#7201a8"
             ],
             [
              0.3333333333333333,
              "#9c179e"
             ],
             [
              0.4444444444444444,
              "#bd3786"
             ],
             [
              0.5555555555555556,
              "#d8576b"
             ],
             [
              0.6666666666666666,
              "#ed7953"
             ],
             [
              0.7777777777777778,
              "#fb9f3a"
             ],
             [
              0.8888888888888888,
              "#fdca26"
             ],
             [
              1,
              "#f0f921"
             ]
            ],
            "type": "histogram2dcontour"
           }
          ],
          "mesh3d": [
           {
            "colorbar": {
             "outlinewidth": 0,
             "ticks": ""
            },
            "type": "mesh3d"
           }
          ],
          "parcoords": [
           {
            "line": {
             "colorbar": {
              "outlinewidth": 0,
              "ticks": ""
             }
            },
            "type": "parcoords"
           }
          ],
          "pie": [
           {
            "automargin": true,
            "type": "pie"
           }
          ],
          "scatter": [
           {
            "marker": {
             "colorbar": {
              "outlinewidth": 0,
              "ticks": ""
             }
            },
            "type": "scatter"
           }
          ],
          "scatter3d": [
           {
            "line": {
             "colorbar": {
              "outlinewidth": 0,
              "ticks": ""
             }
            },
            "marker": {
             "colorbar": {
              "outlinewidth": 0,
              "ticks": ""
             }
            },
            "type": "scatter3d"
           }
          ],
          "scattercarpet": [
           {
            "marker": {
             "colorbar": {
              "outlinewidth": 0,
              "ticks": ""
             }
            },
            "type": "scattercarpet"
           }
          ],
          "scattergeo": [
           {
            "marker": {
             "colorbar": {
              "outlinewidth": 0,
              "ticks": ""
             }
            },
            "type": "scattergeo"
           }
          ],
          "scattergl": [
           {
            "marker": {
             "colorbar": {
              "outlinewidth": 0,
              "ticks": ""
             }
            },
            "type": "scattergl"
           }
          ],
          "scattermapbox": [
           {
            "marker": {
             "colorbar": {
              "outlinewidth": 0,
              "ticks": ""
             }
            },
            "type": "scattermapbox"
           }
          ],
          "scatterpolar": [
           {
            "marker": {
             "colorbar": {
              "outlinewidth": 0,
              "ticks": ""
             }
            },
            "type": "scatterpolar"
           }
          ],
          "scatterpolargl": [
           {
            "marker": {
             "colorbar": {
              "outlinewidth": 0,
              "ticks": ""
             }
            },
            "type": "scatterpolargl"
           }
          ],
          "scatterternary": [
           {
            "marker": {
             "colorbar": {
              "outlinewidth": 0,
              "ticks": ""
             }
            },
            "type": "scatterternary"
           }
          ],
          "surface": [
           {
            "colorbar": {
             "outlinewidth": 0,
             "ticks": ""
            },
            "colorscale": [
             [
              0,
              "#0d0887"
             ],
             [
              0.1111111111111111,
              "#46039f"
             ],
             [
              0.2222222222222222,
              "#7201a8"
             ],
             [
              0.3333333333333333,
              "#9c179e"
             ],
             [
              0.4444444444444444,
              "#bd3786"
             ],
             [
              0.5555555555555556,
              "#d8576b"
             ],
             [
              0.6666666666666666,
              "#ed7953"
             ],
             [
              0.7777777777777778,
              "#fb9f3a"
             ],
             [
              0.8888888888888888,
              "#fdca26"
             ],
             [
              1,
              "#f0f921"
             ]
            ],
            "type": "surface"
           }
          ],
          "table": [
           {
            "cells": {
             "fill": {
              "color": "#EBF0F8"
             },
             "line": {
              "color": "white"
             }
            },
            "header": {
             "fill": {
              "color": "#C8D4E3"
             },
             "line": {
              "color": "white"
             }
            },
            "type": "table"
           }
          ]
         },
         "layout": {
          "annotationdefaults": {
           "arrowcolor": "#2a3f5f",
           "arrowhead": 0,
           "arrowwidth": 1
          },
          "coloraxis": {
           "colorbar": {
            "outlinewidth": 0,
            "ticks": ""
           }
          },
          "colorscale": {
           "diverging": [
            [
             0,
             "#8e0152"
            ],
            [
             0.1,
             "#c51b7d"
            ],
            [
             0.2,
             "#de77ae"
            ],
            [
             0.3,
             "#f1b6da"
            ],
            [
             0.4,
             "#fde0ef"
            ],
            [
             0.5,
             "#f7f7f7"
            ],
            [
             0.6,
             "#e6f5d0"
            ],
            [
             0.7,
             "#b8e186"
            ],
            [
             0.8,
             "#7fbc41"
            ],
            [
             0.9,
             "#4d9221"
            ],
            [
             1,
             "#276419"
            ]
           ],
           "sequential": [
            [
             0,
             "#0d0887"
            ],
            [
             0.1111111111111111,
             "#46039f"
            ],
            [
             0.2222222222222222,
             "#7201a8"
            ],
            [
             0.3333333333333333,
             "#9c179e"
            ],
            [
             0.4444444444444444,
             "#bd3786"
            ],
            [
             0.5555555555555556,
             "#d8576b"
            ],
            [
             0.6666666666666666,
             "#ed7953"
            ],
            [
             0.7777777777777778,
             "#fb9f3a"
            ],
            [
             0.8888888888888888,
             "#fdca26"
            ],
            [
             1,
             "#f0f921"
            ]
           ],
           "sequentialminus": [
            [
             0,
             "#0d0887"
            ],
            [
             0.1111111111111111,
             "#46039f"
            ],
            [
             0.2222222222222222,
             "#7201a8"
            ],
            [
             0.3333333333333333,
             "#9c179e"
            ],
            [
             0.4444444444444444,
             "#bd3786"
            ],
            [
             0.5555555555555556,
             "#d8576b"
            ],
            [
             0.6666666666666666,
             "#ed7953"
            ],
            [
             0.7777777777777778,
             "#fb9f3a"
            ],
            [
             0.8888888888888888,
             "#fdca26"
            ],
            [
             1,
             "#f0f921"
            ]
           ]
          },
          "colorway": [
           "#636efa",
           "#EF553B",
           "#00cc96",
           "#ab63fa",
           "#FFA15A",
           "#19d3f3",
           "#FF6692",
           "#B6E880",
           "#FF97FF",
           "#FECB52"
          ],
          "font": {
           "color": "#2a3f5f"
          },
          "geo": {
           "bgcolor": "white",
           "lakecolor": "white",
           "landcolor": "#E5ECF6",
           "showlakes": true,
           "showland": true,
           "subunitcolor": "white"
          },
          "hoverlabel": {
           "align": "left"
          },
          "hovermode": "closest",
          "mapbox": {
           "style": "light"
          },
          "paper_bgcolor": "white",
          "plot_bgcolor": "#E5ECF6",
          "polar": {
           "angularaxis": {
            "gridcolor": "white",
            "linecolor": "white",
            "ticks": ""
           },
           "bgcolor": "#E5ECF6",
           "radialaxis": {
            "gridcolor": "white",
            "linecolor": "white",
            "ticks": ""
           }
          },
          "scene": {
           "xaxis": {
            "backgroundcolor": "#E5ECF6",
            "gridcolor": "white",
            "gridwidth": 2,
            "linecolor": "white",
            "showbackground": true,
            "ticks": "",
            "zerolinecolor": "white"
           },
           "yaxis": {
            "backgroundcolor": "#E5ECF6",
            "gridcolor": "white",
            "gridwidth": 2,
            "linecolor": "white",
            "showbackground": true,
            "ticks": "",
            "zerolinecolor": "white"
           },
           "zaxis": {
            "backgroundcolor": "#E5ECF6",
            "gridcolor": "white",
            "gridwidth": 2,
            "linecolor": "white",
            "showbackground": true,
            "ticks": "",
            "zerolinecolor": "white"
           }
          },
          "shapedefaults": {
           "line": {
            "color": "#2a3f5f"
           }
          },
          "ternary": {
           "aaxis": {
            "gridcolor": "white",
            "linecolor": "white",
            "ticks": ""
           },
           "baxis": {
            "gridcolor": "white",
            "linecolor": "white",
            "ticks": ""
           },
           "bgcolor": "#E5ECF6",
           "caxis": {
            "gridcolor": "white",
            "linecolor": "white",
            "ticks": ""
           }
          },
          "title": {
           "x": 0.05
          },
          "xaxis": {
           "automargin": true,
           "gridcolor": "white",
           "linecolor": "white",
           "ticks": "",
           "title": {
            "standoff": 15
           },
           "zerolinecolor": "white",
           "zerolinewidth": 2
          },
          "yaxis": {
           "automargin": true,
           "gridcolor": "white",
           "linecolor": "white",
           "ticks": "",
           "title": {
            "standoff": 15
           },
           "zerolinecolor": "white",
           "zerolinewidth": 2
          }
         }
        },
        "xaxis": {
         "anchor": "y",
         "domain": [
          0,
          1
         ],
         "title": {
          "text": "H"
         }
        },
        "yaxis": {
         "anchor": "x",
         "domain": [
          0,
          1
         ],
         "title": {
          "text": "count"
         }
        }
       }
      },
      "text/html": [
       "<div>                            <div id=\"8d134477-c899-4601-89a3-f02c813e4136\" class=\"plotly-graph-div\" style=\"height:525px; width:100%;\"></div>            <script type=\"text/javascript\">                require([\"plotly\"], function(Plotly) {                    window.PLOTLYENV=window.PLOTLYENV || {};                                    if (document.getElementById(\"8d134477-c899-4601-89a3-f02c813e4136\")) {                    Plotly.newPlot(                        \"8d134477-c899-4601-89a3-f02c813e4136\",                        [{\"alignmentgroup\": \"True\", \"bingroup\": \"x\", \"hovertemplate\": \"H=%{x}<br>count=%{y}<extra></extra>\", \"legendgroup\": \"\", \"marker\": {\"color\": \"#636efa\"}, \"name\": \"\", \"offsetgroup\": \"\", \"orientation\": \"v\", \"showlegend\": false, \"type\": \"histogram\", \"x\": [0, 0, 0, 0, 0, 0, 0, 0, 0, 0, 0, 1, 1, 1, 1, 2, 2, 2, 3, 4, 4, 4, 4, 4, 4, 4, 4, 4, 4, 4, 4, 4, 4, 4, 4, 5, 5, 5, 5, 5, 5, 5, 5, 5, 5, 5, 5, 5, 5, 5, 5, 5, 5, 5, 5, 5, 5, 5, 5, 5, 5, 5, 5, 5, 5, 5, 5, 5, 5, 5, 5, 5, 5, 5, 5, 5, 5, 5, 5, 5, 5, 5, 5, 5, 5, 5, 5, 5, 5, 5, 5, 5, 5, 5, 5, 5, 5, 5, 5, 5, 5, 5, 5, 5, 5, 5, 5, 5, 5, 5, 5, 5, 5, 5, 5, 5, 5, 5, 5, 5, 5, 5, 5, 5, 6, 6, 6, 6, 6, 6, 6, 6, 6, 6, 6, 6, 6, 6, 6, 6, 6, 6, 6, 6, 6, 6, 6, 6, 6, 6, 6, 6, 6, 6, 6, 6, 6, 6, 6, 6, 6, 6, 6, 6, 6, 6, 6, 6, 6, 6, 6, 6, 6, 6, 6, 6, 6, 6, 6, 6, 6, 6, 6, 6, 6, 6, 6, 6, 6, 6, 6, 6, 6, 6, 6, 6, 6, 6, 6, 6, 6, 6, 6, 6, 6, 6, 6, 6, 6, 6, 6, 6, 6, 6, 6, 6, 6, 6, 6, 6, 6, 6, 6, 6, 6, 6, 6, 6, 6, 6, 6, 6, 6, 6, 6, 6, 6, 6, 6, 6, 6, 6, 6, 6, 6, 6, 6, 6, 6, 6, 6, 6, 6, 6, 6, 6, 6, 6, 6, 6, 6, 6, 6, 6, 6, 6, 6, 6, 6, 6, 6, 6, 6, 6, 6, 6, 7, 7, 7, 7, 7, 7, 7, 7, 7, 7, 7, 7, 7, 7, 7, 7, 7, 7, 7, 7, 7, 7, 7, 7, 7, 7, 7, 7, 7, 7, 7, 7, 7, 7, 7, 7, 7, 7, 7, 7, 7, 7, 7, 7, 7, 7, 7, 7, 7, 7, 7, 7, 7, 7, 7, 7, 7, 7, 7, 7, 7, 7, 7, 7, 7, 7, 7, 7, 7, 7, 7, 7, 7, 7, 7, 7, 7, 7, 7, 7, 7, 7, 7, 7, 7, 7, 7, 7, 7, 7, 7, 7, 7, 7, 7, 7, 7, 7, 7, 7, 7, 7, 7, 7, 7, 7, 7, 7, 7, 7, 7, 7, 7, 7, 7, 7, 7, 7, 7, 7, 7, 7, 7, 7, 7, 7, 7, 7, 7, 7, 7, 7, 7, 7, 7, 7, 7, 7, 7, 7, 7, 7, 7, 7, 7, 7, 7, 7, 7, 7, 7, 7, 7, 7, 7, 7, 7, 7, 7, 7, 7, 7, 7, 7, 7, 7, 7, 7, 7, 7, 7, 7, 7, 7, 7, 7, 7, 7, 7, 7, 7, 7, 7, 7, 7, 7, 7, 7, 7, 7, 7, 7, 7, 7, 7, 7, 7, 7, 7, 7, 7, 7, 7, 7, 7, 7, 7, 7, 7, 7, 7, 7, 7, 7, 7, 7, 7, 7, 7, 7, 7, 7, 7, 7, 7, 7, 7, 7, 7, 7, 7, 7, 7, 8, 8, 8, 8, 8, 8, 8, 8, 8, 8, 8, 8, 8, 8, 8, 8, 8, 8, 8, 8, 8, 8, 8, 8, 8, 8, 8, 8, 8, 8, 8, 8, 8, 8, 8, 8, 8, 8, 8, 8, 8, 8, 8, 8, 8, 8, 8, 8, 8, 8, 8, 8, 8, 8, 8, 8, 8, 8, 8, 8, 8, 8, 8, 8, 8, 8, 8, 8, 8, 8, 8, 8, 8, 8, 8, 8, 8, 8, 8, 8, 8, 8, 8, 8, 8, 8, 8, 8, 8, 8, 8, 8, 8, 8, 8, 8, 8, 8, 8, 8, 8, 9, 9, 9, 9, 9, 9, 9, 9, 9, 9, 9, 9, 9, 9, 9, 10, 10, 10, 10, 10, 10, 10, 10, 11, 11, 11, 12, 12, 12, 12, 18, 18, 19, 20, 21, 21, 22, 23, 23], \"xaxis\": \"x\", \"yaxis\": \"y\"}],                        {\"barmode\": \"relative\", \"legend\": {\"tracegroupgap\": 0}, \"margin\": {\"t\": 60}, \"template\": {\"data\": {\"bar\": [{\"error_x\": {\"color\": \"#2a3f5f\"}, \"error_y\": {\"color\": \"#2a3f5f\"}, \"marker\": {\"line\": {\"color\": \"#E5ECF6\", \"width\": 0.5}}, \"type\": \"bar\"}], \"barpolar\": [{\"marker\": {\"line\": {\"color\": \"#E5ECF6\", \"width\": 0.5}}, \"type\": \"barpolar\"}], \"carpet\": [{\"aaxis\": {\"endlinecolor\": \"#2a3f5f\", \"gridcolor\": \"white\", \"linecolor\": \"white\", \"minorgridcolor\": \"white\", \"startlinecolor\": \"#2a3f5f\"}, \"baxis\": {\"endlinecolor\": \"#2a3f5f\", \"gridcolor\": \"white\", \"linecolor\": \"white\", \"minorgridcolor\": \"white\", \"startlinecolor\": \"#2a3f5f\"}, \"type\": \"carpet\"}], \"choropleth\": [{\"colorbar\": {\"outlinewidth\": 0, \"ticks\": \"\"}, \"type\": \"choropleth\"}], \"contour\": [{\"colorbar\": {\"outlinewidth\": 0, \"ticks\": \"\"}, \"colorscale\": [[0.0, \"#0d0887\"], [0.1111111111111111, \"#46039f\"], [0.2222222222222222, \"#7201a8\"], [0.3333333333333333, \"#9c179e\"], [0.4444444444444444, \"#bd3786\"], [0.5555555555555556, \"#d8576b\"], [0.6666666666666666, \"#ed7953\"], [0.7777777777777778, \"#fb9f3a\"], [0.8888888888888888, \"#fdca26\"], [1.0, \"#f0f921\"]], \"type\": \"contour\"}], \"contourcarpet\": [{\"colorbar\": {\"outlinewidth\": 0, \"ticks\": \"\"}, \"type\": \"contourcarpet\"}], \"heatmap\": [{\"colorbar\": {\"outlinewidth\": 0, \"ticks\": \"\"}, \"colorscale\": [[0.0, \"#0d0887\"], [0.1111111111111111, \"#46039f\"], [0.2222222222222222, \"#7201a8\"], [0.3333333333333333, \"#9c179e\"], [0.4444444444444444, \"#bd3786\"], [0.5555555555555556, \"#d8576b\"], [0.6666666666666666, \"#ed7953\"], [0.7777777777777778, \"#fb9f3a\"], [0.8888888888888888, \"#fdca26\"], [1.0, \"#f0f921\"]], \"type\": \"heatmap\"}], \"heatmapgl\": [{\"colorbar\": {\"outlinewidth\": 0, \"ticks\": \"\"}, \"colorscale\": [[0.0, \"#0d0887\"], [0.1111111111111111, \"#46039f\"], [0.2222222222222222, \"#7201a8\"], [0.3333333333333333, \"#9c179e\"], [0.4444444444444444, \"#bd3786\"], [0.5555555555555556, \"#d8576b\"], [0.6666666666666666, \"#ed7953\"], [0.7777777777777778, \"#fb9f3a\"], [0.8888888888888888, \"#fdca26\"], [1.0, \"#f0f921\"]], \"type\": \"heatmapgl\"}], \"histogram\": [{\"marker\": {\"colorbar\": {\"outlinewidth\": 0, \"ticks\": \"\"}}, \"type\": \"histogram\"}], \"histogram2d\": [{\"colorbar\": {\"outlinewidth\": 0, \"ticks\": \"\"}, \"colorscale\": [[0.0, \"#0d0887\"], [0.1111111111111111, \"#46039f\"], [0.2222222222222222, \"#7201a8\"], [0.3333333333333333, \"#9c179e\"], [0.4444444444444444, \"#bd3786\"], [0.5555555555555556, \"#d8576b\"], [0.6666666666666666, \"#ed7953\"], [0.7777777777777778, \"#fb9f3a\"], [0.8888888888888888, \"#fdca26\"], [1.0, \"#f0f921\"]], \"type\": \"histogram2d\"}], \"histogram2dcontour\": [{\"colorbar\": {\"outlinewidth\": 0, \"ticks\": \"\"}, \"colorscale\": [[0.0, \"#0d0887\"], [0.1111111111111111, \"#46039f\"], [0.2222222222222222, \"#7201a8\"], [0.3333333333333333, \"#9c179e\"], [0.4444444444444444, \"#bd3786\"], [0.5555555555555556, \"#d8576b\"], [0.6666666666666666, \"#ed7953\"], [0.7777777777777778, \"#fb9f3a\"], [0.8888888888888888, \"#fdca26\"], [1.0, \"#f0f921\"]], \"type\": \"histogram2dcontour\"}], \"mesh3d\": [{\"colorbar\": {\"outlinewidth\": 0, \"ticks\": \"\"}, \"type\": \"mesh3d\"}], \"parcoords\": [{\"line\": {\"colorbar\": {\"outlinewidth\": 0, \"ticks\": \"\"}}, \"type\": \"parcoords\"}], \"pie\": [{\"automargin\": true, \"type\": \"pie\"}], \"scatter\": [{\"marker\": {\"colorbar\": {\"outlinewidth\": 0, \"ticks\": \"\"}}, \"type\": \"scatter\"}], \"scatter3d\": [{\"line\": {\"colorbar\": {\"outlinewidth\": 0, \"ticks\": \"\"}}, \"marker\": {\"colorbar\": {\"outlinewidth\": 0, \"ticks\": \"\"}}, \"type\": \"scatter3d\"}], \"scattercarpet\": [{\"marker\": {\"colorbar\": {\"outlinewidth\": 0, \"ticks\": \"\"}}, \"type\": \"scattercarpet\"}], \"scattergeo\": [{\"marker\": {\"colorbar\": {\"outlinewidth\": 0, \"ticks\": \"\"}}, \"type\": \"scattergeo\"}], \"scattergl\": [{\"marker\": {\"colorbar\": {\"outlinewidth\": 0, \"ticks\": \"\"}}, \"type\": \"scattergl\"}], \"scattermapbox\": [{\"marker\": {\"colorbar\": {\"outlinewidth\": 0, \"ticks\": \"\"}}, \"type\": \"scattermapbox\"}], \"scatterpolar\": [{\"marker\": {\"colorbar\": {\"outlinewidth\": 0, \"ticks\": \"\"}}, \"type\": \"scatterpolar\"}], \"scatterpolargl\": [{\"marker\": {\"colorbar\": {\"outlinewidth\": 0, \"ticks\": \"\"}}, \"type\": \"scatterpolargl\"}], \"scatterternary\": [{\"marker\": {\"colorbar\": {\"outlinewidth\": 0, \"ticks\": \"\"}}, \"type\": \"scatterternary\"}], \"surface\": [{\"colorbar\": {\"outlinewidth\": 0, \"ticks\": \"\"}, \"colorscale\": [[0.0, \"#0d0887\"], [0.1111111111111111, \"#46039f\"], [0.2222222222222222, \"#7201a8\"], [0.3333333333333333, \"#9c179e\"], [0.4444444444444444, \"#bd3786\"], [0.5555555555555556, \"#d8576b\"], [0.6666666666666666, \"#ed7953\"], [0.7777777777777778, \"#fb9f3a\"], [0.8888888888888888, \"#fdca26\"], [1.0, \"#f0f921\"]], \"type\": \"surface\"}], \"table\": [{\"cells\": {\"fill\": {\"color\": \"#EBF0F8\"}, \"line\": {\"color\": \"white\"}}, \"header\": {\"fill\": {\"color\": \"#C8D4E3\"}, \"line\": {\"color\": \"white\"}}, \"type\": \"table\"}]}, \"layout\": {\"annotationdefaults\": {\"arrowcolor\": \"#2a3f5f\", \"arrowhead\": 0, \"arrowwidth\": 1}, \"coloraxis\": {\"colorbar\": {\"outlinewidth\": 0, \"ticks\": \"\"}}, \"colorscale\": {\"diverging\": [[0, \"#8e0152\"], [0.1, \"#c51b7d\"], [0.2, \"#de77ae\"], [0.3, \"#f1b6da\"], [0.4, \"#fde0ef\"], [0.5, \"#f7f7f7\"], [0.6, \"#e6f5d0\"], [0.7, \"#b8e186\"], [0.8, \"#7fbc41\"], [0.9, \"#4d9221\"], [1, \"#276419\"]], \"sequential\": [[0.0, \"#0d0887\"], [0.1111111111111111, \"#46039f\"], [0.2222222222222222, \"#7201a8\"], [0.3333333333333333, \"#9c179e\"], [0.4444444444444444, \"#bd3786\"], [0.5555555555555556, \"#d8576b\"], [0.6666666666666666, \"#ed7953\"], [0.7777777777777778, \"#fb9f3a\"], [0.8888888888888888, \"#fdca26\"], [1.0, \"#f0f921\"]], \"sequentialminus\": [[0.0, \"#0d0887\"], [0.1111111111111111, \"#46039f\"], [0.2222222222222222, \"#7201a8\"], [0.3333333333333333, \"#9c179e\"], [0.4444444444444444, \"#bd3786\"], [0.5555555555555556, \"#d8576b\"], [0.6666666666666666, \"#ed7953\"], [0.7777777777777778, \"#fb9f3a\"], [0.8888888888888888, \"#fdca26\"], [1.0, \"#f0f921\"]]}, \"colorway\": [\"#636efa\", \"#EF553B\", \"#00cc96\", \"#ab63fa\", \"#FFA15A\", \"#19d3f3\", \"#FF6692\", \"#B6E880\", \"#FF97FF\", \"#FECB52\"], \"font\": {\"color\": \"#2a3f5f\"}, \"geo\": {\"bgcolor\": \"white\", \"lakecolor\": \"white\", \"landcolor\": \"#E5ECF6\", \"showlakes\": true, \"showland\": true, \"subunitcolor\": \"white\"}, \"hoverlabel\": {\"align\": \"left\"}, \"hovermode\": \"closest\", \"mapbox\": {\"style\": \"light\"}, \"paper_bgcolor\": \"white\", \"plot_bgcolor\": \"#E5ECF6\", \"polar\": {\"angularaxis\": {\"gridcolor\": \"white\", \"linecolor\": \"white\", \"ticks\": \"\"}, \"bgcolor\": \"#E5ECF6\", \"radialaxis\": {\"gridcolor\": \"white\", \"linecolor\": \"white\", \"ticks\": \"\"}}, \"scene\": {\"xaxis\": {\"backgroundcolor\": \"#E5ECF6\", \"gridcolor\": \"white\", \"gridwidth\": 2, \"linecolor\": \"white\", \"showbackground\": true, \"ticks\": \"\", \"zerolinecolor\": \"white\"}, \"yaxis\": {\"backgroundcolor\": \"#E5ECF6\", \"gridcolor\": \"white\", \"gridwidth\": 2, \"linecolor\": \"white\", \"showbackground\": true, \"ticks\": \"\", \"zerolinecolor\": \"white\"}, \"zaxis\": {\"backgroundcolor\": \"#E5ECF6\", \"gridcolor\": \"white\", \"gridwidth\": 2, \"linecolor\": \"white\", \"showbackground\": true, \"ticks\": \"\", \"zerolinecolor\": \"white\"}}, \"shapedefaults\": {\"line\": {\"color\": \"#2a3f5f\"}}, \"ternary\": {\"aaxis\": {\"gridcolor\": \"white\", \"linecolor\": \"white\", \"ticks\": \"\"}, \"baxis\": {\"gridcolor\": \"white\", \"linecolor\": \"white\", \"ticks\": \"\"}, \"bgcolor\": \"#E5ECF6\", \"caxis\": {\"gridcolor\": \"white\", \"linecolor\": \"white\", \"ticks\": \"\"}}, \"title\": {\"x\": 0.05}, \"xaxis\": {\"automargin\": true, \"gridcolor\": \"white\", \"linecolor\": \"white\", \"ticks\": \"\", \"title\": {\"standoff\": 15}, \"zerolinecolor\": \"white\", \"zerolinewidth\": 2}, \"yaxis\": {\"automargin\": true, \"gridcolor\": \"white\", \"linecolor\": \"white\", \"ticks\": \"\", \"title\": {\"standoff\": 15}, \"zerolinecolor\": \"white\", \"zerolinewidth\": 2}}}, \"xaxis\": {\"anchor\": \"y\", \"domain\": [0.0, 1.0], \"title\": {\"text\": \"H\"}}, \"yaxis\": {\"anchor\": \"x\", \"domain\": [0.0, 1.0], \"title\": {\"text\": \"count\"}}},                        {\"responsive\": true}                    ).then(function(){\n",
       "                            \n",
       "var gd = document.getElementById('8d134477-c899-4601-89a3-f02c813e4136');\n",
       "var x = new MutationObserver(function (mutations, observer) {{\n",
       "        var display = window.getComputedStyle(gd).display;\n",
       "        if (!display || display === 'none') {{\n",
       "            console.log([gd, 'removed!']);\n",
       "            Plotly.purge(gd);\n",
       "            observer.disconnect();\n",
       "        }}\n",
       "}});\n",
       "\n",
       "// Listen for the removal of the full notebook cells\n",
       "var notebookContainer = gd.closest('#notebook-container');\n",
       "if (notebookContainer) {{\n",
       "    x.observe(notebookContainer, {childList: true});\n",
       "}}\n",
       "\n",
       "// Listen for the clearing of the current output cell\n",
       "var outputEl = gd.closest('.output');\n",
       "if (outputEl) {{\n",
       "    x.observe(outputEl, {childList: true});\n",
       "}}\n",
       "\n",
       "                        })                };                });            </script>        </div>"
      ]
     },
     "metadata": {},
     "output_type": "display_data"
    }
   ],
   "source": [
    "fig = px.histogram(times.sort_values(by='H'), x=\"H\")\n",
    "fig.show()"
   ]
  },
  {
   "cell_type": "code",
   "execution_count": 22,
   "metadata": {},
   "outputs": [
    {
     "data": {
      "application/vnd.plotly.v1+json": {
       "config": {
        "plotlyServerURL": "https://plotly.com"
       },
       "data": [
        {
         "alignmentgroup": "True",
         "hovertemplate": "H:M=%{x}<extra></extra>",
         "legendgroup": "",
         "marker": {
          "color": "#636efa"
         },
         "name": "",
         "notched": false,
         "offsetgroup": "",
         "orientation": "h",
         "showlegend": false,
         "type": "box",
         "x": [
          "00:00:00",
          "00:00:00",
          "00:00:00",
          "00:00:00",
          "00:00:00",
          "00:00:00",
          "00:00:00",
          "00:00:00",
          "00:00:00",
          "00:00:00",
          "00:00:00",
          "01:00:00",
          "01:00:00",
          "01:00:00",
          "01:00:00",
          "02:00:00",
          "02:00:00",
          "02:00:00",
          "03:00:00",
          "04:00:00",
          "04:00:00",
          "04:00:00",
          "04:00:00",
          "04:00:00",
          "04:00:00",
          "04:00:00",
          "04:00:00",
          "04:00:00",
          "04:00:00",
          "04:30:00",
          "04:30:00",
          "04:30:00",
          "04:36:00",
          "04:45:00",
          "04:45:00",
          "05:00:00",
          "05:00:00",
          "05:00:00",
          "05:00:00",
          "05:00:00",
          "05:00:00",
          "05:00:00",
          "05:00:00",
          "05:00:00",
          "05:00:00",
          "05:00:00",
          "05:00:00",
          "05:00:00",
          "05:00:00",
          "05:00:00",
          "05:00:00",
          "05:00:00",
          "05:00:00",
          "05:00:00",
          "05:00:00",
          "05:00:00",
          "05:00:00",
          "05:00:00",
          "05:00:00",
          "05:00:00",
          "05:00:00",
          "05:00:00",
          "05:00:00",
          "05:00:00",
          "05:00:00",
          "05:00:00",
          "05:00:00",
          "05:00:00",
          "05:00:00",
          "05:00:00",
          "05:00:00",
          "05:00:00",
          "05:00:00",
          "05:00:00",
          "05:00:00",
          "05:00:00",
          "05:00:00",
          "05:00:00",
          "05:00:00",
          "05:00:00",
          "05:00:00",
          "05:00:00",
          "05:00:00",
          "05:00:00",
          "05:00:00",
          "05:00:00",
          "05:00:00",
          "05:00:00",
          "05:00:00",
          "05:00:00",
          "05:00:00",
          "05:15:00",
          "05:15:00",
          "05:15:00",
          "05:20:00",
          "05:20:00",
          "05:28:00",
          "05:28:00",
          "05:30:00",
          "05:30:00",
          "05:30:00",
          "05:30:00",
          "05:30:00",
          "05:30:00",
          "05:30:00",
          "05:30:00",
          "05:30:00",
          "05:30:00",
          "05:30:00",
          "05:30:00",
          "05:30:00",
          "05:30:00",
          "05:30:00",
          "05:30:00",
          "05:35:00",
          "05:45:00",
          "05:45:00",
          "05:45:00",
          "05:45:00",
          "05:45:00",
          "05:45:00",
          "05:45:00",
          "05:45:00",
          "05:50:00",
          "06:00:00",
          "06:00:00",
          "06:00:00",
          "06:00:00",
          "06:00:00",
          "06:00:00",
          "06:00:00",
          "06:00:00",
          "06:00:00",
          "06:00:00",
          "06:00:00",
          "06:00:00",
          "06:00:00",
          "06:00:00",
          "06:00:00",
          "06:00:00",
          "06:00:00",
          "06:00:00",
          "06:00:00",
          "06:00:00",
          "06:00:00",
          "06:00:00",
          "06:00:00",
          "06:00:00",
          "06:00:00",
          "06:00:00",
          "06:00:00",
          "06:00:00",
          "06:00:00",
          "06:00:00",
          "06:00:00",
          "06:00:00",
          "06:00:00",
          "06:00:00",
          "06:00:00",
          "06:00:00",
          "06:00:00",
          "06:00:00",
          "06:00:00",
          "06:00:00",
          "06:00:00",
          "06:00:00",
          "06:00:00",
          "06:00:00",
          "06:00:00",
          "06:00:00",
          "06:00:00",
          "06:00:00",
          "06:00:00",
          "06:00:00",
          "06:00:00",
          "06:00:00",
          "06:00:00",
          "06:00:00",
          "06:00:00",
          "06:00:00",
          "06:00:00",
          "06:00:00",
          "06:00:00",
          "06:00:00",
          "06:00:00",
          "06:00:00",
          "06:00:00",
          "06:00:00",
          "06:00:00",
          "06:00:00",
          "06:00:00",
          "06:00:00",
          "06:00:00",
          "06:00:00",
          "06:00:00",
          "06:00:00",
          "06:00:00",
          "06:00:00",
          "06:00:00",
          "06:00:00",
          "06:00:00",
          "06:00:00",
          "06:00:00",
          "06:00:00",
          "06:00:00",
          "06:00:00",
          "06:00:00",
          "06:00:00",
          "06:00:00",
          "06:00:00",
          "06:00:00",
          "06:00:00",
          "06:00:00",
          "06:00:00",
          "06:00:00",
          "06:00:00",
          "06:00:00",
          "06:00:00",
          "06:00:00",
          "06:00:00",
          "06:00:00",
          "06:00:00",
          "06:10:00",
          "06:15:00",
          "06:15:00",
          "06:15:00",
          "06:15:00",
          "06:20:00",
          "06:20:00",
          "06:25:00",
          "06:30:00",
          "06:30:00",
          "06:30:00",
          "06:30:00",
          "06:30:00",
          "06:30:00",
          "06:30:00",
          "06:30:00",
          "06:30:00",
          "06:30:00",
          "06:30:00",
          "06:30:00",
          "06:30:00",
          "06:30:00",
          "06:30:00",
          "06:30:00",
          "06:30:00",
          "06:30:00",
          "06:30:00",
          "06:30:00",
          "06:30:00",
          "06:30:00",
          "06:30:00",
          "06:30:00",
          "06:30:00",
          "06:30:00",
          "06:30:00",
          "06:30:00",
          "06:30:00",
          "06:30:00",
          "06:30:00",
          "06:30:00",
          "06:30:00",
          "06:30:00",
          "06:40:00",
          "06:40:00",
          "06:45:00",
          "06:45:00",
          "06:45:00",
          "06:45:00",
          "06:45:00",
          "06:45:00",
          "06:50:00",
          "06:50:00",
          "06:50:00",
          "06:52:00",
          "07:00:00",
          "07:00:00",
          "07:00:00",
          "07:00:00",
          "07:00:00",
          "07:00:00",
          "07:00:00",
          "07:00:00",
          "07:00:00",
          "07:00:00",
          "07:00:00",
          "07:00:00",
          "07:00:00",
          "07:00:00",
          "07:00:00",
          "07:00:00",
          "07:00:00",
          "07:00:00",
          "07:00:00",
          "07:00:00",
          "07:00:00",
          "07:00:00",
          "07:00:00",
          "07:00:00",
          "07:00:00",
          "07:00:00",
          "07:00:00",
          "07:00:00",
          "07:00:00",
          "07:00:00",
          "07:00:00",
          "07:00:00",
          "07:00:00",
          "07:00:00",
          "07:00:00",
          "07:00:00",
          "07:00:00",
          "07:00:00",
          "07:00:00",
          "07:00:00",
          "07:00:00",
          "07:00:00",
          "07:00:00",
          "07:00:00",
          "07:00:00",
          "07:00:00",
          "07:00:00",
          "07:00:00",
          "07:00:00",
          "07:00:00",
          "07:00:00",
          "07:00:00",
          "07:00:00",
          "07:00:00",
          "07:00:00",
          "07:00:00",
          "07:00:00",
          "07:00:00",
          "07:00:00",
          "07:00:00",
          "07:00:00",
          "07:00:00",
          "07:00:00",
          "07:00:00",
          "07:00:00",
          "07:00:00",
          "07:00:00",
          "07:00:00",
          "07:00:00",
          "07:00:00",
          "07:00:00",
          "07:00:00",
          "07:00:00",
          "07:00:00",
          "07:00:00",
          "07:00:00",
          "07:00:00",
          "07:00:00",
          "07:00:00",
          "07:00:00",
          "07:00:00",
          "07:00:00",
          "07:00:00",
          "07:00:00",
          "07:00:00",
          "07:00:00",
          "07:00:00",
          "07:00:00",
          "07:00:00",
          "07:00:00",
          "07:00:00",
          "07:00:00",
          "07:00:00",
          "07:00:00",
          "07:00:00",
          "07:00:00",
          "07:00:00",
          "07:00:00",
          "07:00:00",
          "07:00:00",
          "07:00:00",
          "07:00:00",
          "07:00:00",
          "07:00:00",
          "07:00:00",
          "07:00:00",
          "07:00:00",
          "07:00:00",
          "07:00:00",
          "07:00:00",
          "07:00:00",
          "07:00:00",
          "07:00:00",
          "07:00:00",
          "07:00:00",
          "07:00:00",
          "07:00:00",
          "07:00:00",
          "07:00:00",
          "07:00:00",
          "07:00:00",
          "07:00:00",
          "07:00:00",
          "07:00:00",
          "07:00:00",
          "07:00:00",
          "07:00:00",
          "07:00:00",
          "07:00:00",
          "07:00:00",
          "07:00:00",
          "07:00:00",
          "07:00:00",
          "07:00:00",
          "07:00:00",
          "07:00:00",
          "07:00:00",
          "07:00:00",
          "07:00:00",
          "07:00:00",
          "07:00:00",
          "07:00:00",
          "07:00:00",
          "07:00:00",
          "07:00:00",
          "07:00:00",
          "07:00:00",
          "07:00:00",
          "07:00:00",
          "07:00:00",
          "07:00:00",
          "07:00:00",
          "07:00:00",
          "07:00:00",
          "07:00:00",
          "07:00:00",
          "07:00:00",
          "07:00:00",
          "07:00:00",
          "07:00:00",
          "07:00:00",
          "07:00:00",
          "07:00:00",
          "07:00:00",
          "07:00:00",
          "07:05:00",
          "07:10:00",
          "07:10:00",
          "07:10:00",
          "07:15:00",
          "07:15:00",
          "07:15:00",
          "07:15:00",
          "07:15:00",
          "07:15:00",
          "07:15:00",
          "07:15:00",
          "07:15:00",
          "07:15:00",
          "07:20:00",
          "07:20:00",
          "07:23:00",
          "07:30:00",
          "07:30:00",
          "07:30:00",
          "07:30:00",
          "07:30:00",
          "07:30:00",
          "07:30:00",
          "07:30:00",
          "07:30:00",
          "07:30:00",
          "07:30:00",
          "07:30:00",
          "07:30:00",
          "07:30:00",
          "07:30:00",
          "07:30:00",
          "07:30:00",
          "07:30:00",
          "07:30:00",
          "07:30:00",
          "07:30:00",
          "07:30:00",
          "07:30:00",
          "07:30:00",
          "07:30:00",
          "07:30:00",
          "07:30:00",
          "07:30:00",
          "07:30:00",
          "07:30:00",
          "07:30:00",
          "07:30:00",
          "07:30:00",
          "07:30:00",
          "07:30:00",
          "07:30:00",
          "07:30:00",
          "07:30:00",
          "07:30:00",
          "07:40:00",
          "07:40:00",
          "07:45:00",
          "07:45:00",
          "07:45:00",
          "07:45:00",
          "07:45:00",
          "07:45:00",
          "07:50:00",
          "07:50:00",
          "07:55:00",
          "07:56:00",
          "08:00:00",
          "08:00:00",
          "08:00:00",
          "08:00:00",
          "08:00:00",
          "08:00:00",
          "08:00:00",
          "08:00:00",
          "08:00:00",
          "08:00:00",
          "08:00:00",
          "08:00:00",
          "08:00:00",
          "08:00:00",
          "08:00:00",
          "08:00:00",
          "08:00:00",
          "08:00:00",
          "08:00:00",
          "08:00:00",
          "08:00:00",
          "08:00:00",
          "08:00:00",
          "08:00:00",
          "08:00:00",
          "08:00:00",
          "08:00:00",
          "08:00:00",
          "08:00:00",
          "08:00:00",
          "08:00:00",
          "08:00:00",
          "08:00:00",
          "08:00:00",
          "08:00:00",
          "08:00:00",
          "08:00:00",
          "08:00:00",
          "08:00:00",
          "08:00:00",
          "08:00:00",
          "08:00:00",
          "08:00:00",
          "08:00:00",
          "08:00:00",
          "08:00:00",
          "08:00:00",
          "08:00:00",
          "08:00:00",
          "08:00:00",
          "08:00:00",
          "08:00:00",
          "08:00:00",
          "08:00:00",
          "08:00:00",
          "08:00:00",
          "08:00:00",
          "08:00:00",
          "08:00:00",
          "08:00:00",
          "08:00:00",
          "08:00:00",
          "08:00:00",
          "08:00:00",
          "08:00:00",
          "08:00:00",
          "08:00:00",
          "08:00:00",
          "08:00:00",
          "08:00:00",
          "08:00:00",
          "08:00:00",
          "08:00:00",
          "08:00:00",
          "08:00:00",
          "08:00:00",
          "08:00:00",
          "08:00:00",
          "08:10:00",
          "08:10:00",
          "08:15:00",
          "08:15:00",
          "08:15:00",
          "08:20:00",
          "08:25:00",
          "08:30:00",
          "08:30:00",
          "08:30:00",
          "08:30:00",
          "08:30:00",
          "08:30:00",
          "08:30:00",
          "08:30:00",
          "08:30:00",
          "08:30:00",
          "08:30:00",
          "08:30:00",
          "08:30:00",
          "08:30:00",
          "08:45:00",
          "08:50:00",
          "09:00:00",
          "09:00:00",
          "09:00:00",
          "09:00:00",
          "09:00:00",
          "09:00:00",
          "09:00:00",
          "09:00:00",
          "09:00:00",
          "09:00:00",
          "09:00:00",
          "09:00:00",
          "09:30:00",
          "09:30:00",
          "09:40:00",
          "10:00:00",
          "10:00:00",
          "10:00:00",
          "10:00:00",
          "10:00:00",
          "10:00:00",
          "10:00:00",
          "10:00:00",
          "11:00:00",
          "11:00:00",
          "11:30:00",
          "12:00:00",
          "12:00:00",
          "12:00:00",
          "12:00:00",
          "18:00:00",
          "18:00:00",
          "19:00:00",
          "20:00:00",
          "21:00:00",
          "21:00:00",
          "22:00:00",
          "23:00:00",
          "23:30:00"
         ],
         "x0": " ",
         "xaxis": "x",
         "y0": " ",
         "yaxis": "y"
        }
       ],
       "layout": {
        "boxmode": "group",
        "legend": {
         "tracegroupgap": 0
        },
        "margin": {
         "t": 60
        },
        "template": {
         "data": {
          "bar": [
           {
            "error_x": {
             "color": "#2a3f5f"
            },
            "error_y": {
             "color": "#2a3f5f"
            },
            "marker": {
             "line": {
              "color": "#E5ECF6",
              "width": 0.5
             }
            },
            "type": "bar"
           }
          ],
          "barpolar": [
           {
            "marker": {
             "line": {
              "color": "#E5ECF6",
              "width": 0.5
             }
            },
            "type": "barpolar"
           }
          ],
          "carpet": [
           {
            "aaxis": {
             "endlinecolor": "#2a3f5f",
             "gridcolor": "white",
             "linecolor": "white",
             "minorgridcolor": "white",
             "startlinecolor": "#2a3f5f"
            },
            "baxis": {
             "endlinecolor": "#2a3f5f",
             "gridcolor": "white",
             "linecolor": "white",
             "minorgridcolor": "white",
             "startlinecolor": "#2a3f5f"
            },
            "type": "carpet"
           }
          ],
          "choropleth": [
           {
            "colorbar": {
             "outlinewidth": 0,
             "ticks": ""
            },
            "type": "choropleth"
           }
          ],
          "contour": [
           {
            "colorbar": {
             "outlinewidth": 0,
             "ticks": ""
            },
            "colorscale": [
             [
              0,
              "#0d0887"
             ],
             [
              0.1111111111111111,
              "#46039f"
             ],
             [
              0.2222222222222222,
              "#7201a8"
             ],
             [
              0.3333333333333333,
              "#9c179e"
             ],
             [
              0.4444444444444444,
              "#bd3786"
             ],
             [
              0.5555555555555556,
              "#d8576b"
             ],
             [
              0.6666666666666666,
              "#ed7953"
             ],
             [
              0.7777777777777778,
              "#fb9f3a"
             ],
             [
              0.8888888888888888,
              "#fdca26"
             ],
             [
              1,
              "#f0f921"
             ]
            ],
            "type": "contour"
           }
          ],
          "contourcarpet": [
           {
            "colorbar": {
             "outlinewidth": 0,
             "ticks": ""
            },
            "type": "contourcarpet"
           }
          ],
          "heatmap": [
           {
            "colorbar": {
             "outlinewidth": 0,
             "ticks": ""
            },
            "colorscale": [
             [
              0,
              "#0d0887"
             ],
             [
              0.1111111111111111,
              "#46039f"
             ],
             [
              0.2222222222222222,
              "#7201a8"
             ],
             [
              0.3333333333333333,
              "#9c179e"
             ],
             [
              0.4444444444444444,
              "#bd3786"
             ],
             [
              0.5555555555555556,
              "#d8576b"
             ],
             [
              0.6666666666666666,
              "#ed7953"
             ],
             [
              0.7777777777777778,
              "#fb9f3a"
             ],
             [
              0.8888888888888888,
              "#fdca26"
             ],
             [
              1,
              "#f0f921"
             ]
            ],
            "type": "heatmap"
           }
          ],
          "heatmapgl": [
           {
            "colorbar": {
             "outlinewidth": 0,
             "ticks": ""
            },
            "colorscale": [
             [
              0,
              "#0d0887"
             ],
             [
              0.1111111111111111,
              "#46039f"
             ],
             [
              0.2222222222222222,
              "#7201a8"
             ],
             [
              0.3333333333333333,
              "#9c179e"
             ],
             [
              0.4444444444444444,
              "#bd3786"
             ],
             [
              0.5555555555555556,
              "#d8576b"
             ],
             [
              0.6666666666666666,
              "#ed7953"
             ],
             [
              0.7777777777777778,
              "#fb9f3a"
             ],
             [
              0.8888888888888888,
              "#fdca26"
             ],
             [
              1,
              "#f0f921"
             ]
            ],
            "type": "heatmapgl"
           }
          ],
          "histogram": [
           {
            "marker": {
             "colorbar": {
              "outlinewidth": 0,
              "ticks": ""
             }
            },
            "type": "histogram"
           }
          ],
          "histogram2d": [
           {
            "colorbar": {
             "outlinewidth": 0,
             "ticks": ""
            },
            "colorscale": [
             [
              0,
              "#0d0887"
             ],
             [
              0.1111111111111111,
              "#46039f"
             ],
             [
              0.2222222222222222,
              "#7201a8"
             ],
             [
              0.3333333333333333,
              "#9c179e"
             ],
             [
              0.4444444444444444,
              "#bd3786"
             ],
             [
              0.5555555555555556,
              "#d8576b"
             ],
             [
              0.6666666666666666,
              "#ed7953"
             ],
             [
              0.7777777777777778,
              "#fb9f3a"
             ],
             [
              0.8888888888888888,
              "#fdca26"
             ],
             [
              1,
              "#f0f921"
             ]
            ],
            "type": "histogram2d"
           }
          ],
          "histogram2dcontour": [
           {
            "colorbar": {
             "outlinewidth": 0,
             "ticks": ""
            },
            "colorscale": [
             [
              0,
              "#0d0887"
             ],
             [
              0.1111111111111111,
              "#46039f"
             ],
             [
              0.2222222222222222,
              "#7201a8"
             ],
             [
              0.3333333333333333,
              "#9c179e"
             ],
             [
              0.4444444444444444,
              "#bd3786"
             ],
             [
              0.5555555555555556,
              "#d8576b"
             ],
             [
              0.6666666666666666,
              "#ed7953"
             ],
             [
              0.7777777777777778,
              "#fb9f3a"
             ],
             [
              0.8888888888888888,
              "#fdca26"
             ],
             [
              1,
              "#f0f921"
             ]
            ],
            "type": "histogram2dcontour"
           }
          ],
          "mesh3d": [
           {
            "colorbar": {
             "outlinewidth": 0,
             "ticks": ""
            },
            "type": "mesh3d"
           }
          ],
          "parcoords": [
           {
            "line": {
             "colorbar": {
              "outlinewidth": 0,
              "ticks": ""
             }
            },
            "type": "parcoords"
           }
          ],
          "pie": [
           {
            "automargin": true,
            "type": "pie"
           }
          ],
          "scatter": [
           {
            "marker": {
             "colorbar": {
              "outlinewidth": 0,
              "ticks": ""
             }
            },
            "type": "scatter"
           }
          ],
          "scatter3d": [
           {
            "line": {
             "colorbar": {
              "outlinewidth": 0,
              "ticks": ""
             }
            },
            "marker": {
             "colorbar": {
              "outlinewidth": 0,
              "ticks": ""
             }
            },
            "type": "scatter3d"
           }
          ],
          "scattercarpet": [
           {
            "marker": {
             "colorbar": {
              "outlinewidth": 0,
              "ticks": ""
             }
            },
            "type": "scattercarpet"
           }
          ],
          "scattergeo": [
           {
            "marker": {
             "colorbar": {
              "outlinewidth": 0,
              "ticks": ""
             }
            },
            "type": "scattergeo"
           }
          ],
          "scattergl": [
           {
            "marker": {
             "colorbar": {
              "outlinewidth": 0,
              "ticks": ""
             }
            },
            "type": "scattergl"
           }
          ],
          "scattermapbox": [
           {
            "marker": {
             "colorbar": {
              "outlinewidth": 0,
              "ticks": ""
             }
            },
            "type": "scattermapbox"
           }
          ],
          "scatterpolar": [
           {
            "marker": {
             "colorbar": {
              "outlinewidth": 0,
              "ticks": ""
             }
            },
            "type": "scatterpolar"
           }
          ],
          "scatterpolargl": [
           {
            "marker": {
             "colorbar": {
              "outlinewidth": 0,
              "ticks": ""
             }
            },
            "type": "scatterpolargl"
           }
          ],
          "scatterternary": [
           {
            "marker": {
             "colorbar": {
              "outlinewidth": 0,
              "ticks": ""
             }
            },
            "type": "scatterternary"
           }
          ],
          "surface": [
           {
            "colorbar": {
             "outlinewidth": 0,
             "ticks": ""
            },
            "colorscale": [
             [
              0,
              "#0d0887"
             ],
             [
              0.1111111111111111,
              "#46039f"
             ],
             [
              0.2222222222222222,
              "#7201a8"
             ],
             [
              0.3333333333333333,
              "#9c179e"
             ],
             [
              0.4444444444444444,
              "#bd3786"
             ],
             [
              0.5555555555555556,
              "#d8576b"
             ],
             [
              0.6666666666666666,
              "#ed7953"
             ],
             [
              0.7777777777777778,
              "#fb9f3a"
             ],
             [
              0.8888888888888888,
              "#fdca26"
             ],
             [
              1,
              "#f0f921"
             ]
            ],
            "type": "surface"
           }
          ],
          "table": [
           {
            "cells": {
             "fill": {
              "color": "#EBF0F8"
             },
             "line": {
              "color": "white"
             }
            },
            "header": {
             "fill": {
              "color": "#C8D4E3"
             },
             "line": {
              "color": "white"
             }
            },
            "type": "table"
           }
          ]
         },
         "layout": {
          "annotationdefaults": {
           "arrowcolor": "#2a3f5f",
           "arrowhead": 0,
           "arrowwidth": 1
          },
          "coloraxis": {
           "colorbar": {
            "outlinewidth": 0,
            "ticks": ""
           }
          },
          "colorscale": {
           "diverging": [
            [
             0,
             "#8e0152"
            ],
            [
             0.1,
             "#c51b7d"
            ],
            [
             0.2,
             "#de77ae"
            ],
            [
             0.3,
             "#f1b6da"
            ],
            [
             0.4,
             "#fde0ef"
            ],
            [
             0.5,
             "#f7f7f7"
            ],
            [
             0.6,
             "#e6f5d0"
            ],
            [
             0.7,
             "#b8e186"
            ],
            [
             0.8,
             "#7fbc41"
            ],
            [
             0.9,
             "#4d9221"
            ],
            [
             1,
             "#276419"
            ]
           ],
           "sequential": [
            [
             0,
             "#0d0887"
            ],
            [
             0.1111111111111111,
             "#46039f"
            ],
            [
             0.2222222222222222,
             "#7201a8"
            ],
            [
             0.3333333333333333,
             "#9c179e"
            ],
            [
             0.4444444444444444,
             "#bd3786"
            ],
            [
             0.5555555555555556,
             "#d8576b"
            ],
            [
             0.6666666666666666,
             "#ed7953"
            ],
            [
             0.7777777777777778,
             "#fb9f3a"
            ],
            [
             0.8888888888888888,
             "#fdca26"
            ],
            [
             1,
             "#f0f921"
            ]
           ],
           "sequentialminus": [
            [
             0,
             "#0d0887"
            ],
            [
             0.1111111111111111,
             "#46039f"
            ],
            [
             0.2222222222222222,
             "#7201a8"
            ],
            [
             0.3333333333333333,
             "#9c179e"
            ],
            [
             0.4444444444444444,
             "#bd3786"
            ],
            [
             0.5555555555555556,
             "#d8576b"
            ],
            [
             0.6666666666666666,
             "#ed7953"
            ],
            [
             0.7777777777777778,
             "#fb9f3a"
            ],
            [
             0.8888888888888888,
             "#fdca26"
            ],
            [
             1,
             "#f0f921"
            ]
           ]
          },
          "colorway": [
           "#636efa",
           "#EF553B",
           "#00cc96",
           "#ab63fa",
           "#FFA15A",
           "#19d3f3",
           "#FF6692",
           "#B6E880",
           "#FF97FF",
           "#FECB52"
          ],
          "font": {
           "color": "#2a3f5f"
          },
          "geo": {
           "bgcolor": "white",
           "lakecolor": "white",
           "landcolor": "#E5ECF6",
           "showlakes": true,
           "showland": true,
           "subunitcolor": "white"
          },
          "hoverlabel": {
           "align": "left"
          },
          "hovermode": "closest",
          "mapbox": {
           "style": "light"
          },
          "paper_bgcolor": "white",
          "plot_bgcolor": "#E5ECF6",
          "polar": {
           "angularaxis": {
            "gridcolor": "white",
            "linecolor": "white",
            "ticks": ""
           },
           "bgcolor": "#E5ECF6",
           "radialaxis": {
            "gridcolor": "white",
            "linecolor": "white",
            "ticks": ""
           }
          },
          "scene": {
           "xaxis": {
            "backgroundcolor": "#E5ECF6",
            "gridcolor": "white",
            "gridwidth": 2,
            "linecolor": "white",
            "showbackground": true,
            "ticks": "",
            "zerolinecolor": "white"
           },
           "yaxis": {
            "backgroundcolor": "#E5ECF6",
            "gridcolor": "white",
            "gridwidth": 2,
            "linecolor": "white",
            "showbackground": true,
            "ticks": "",
            "zerolinecolor": "white"
           },
           "zaxis": {
            "backgroundcolor": "#E5ECF6",
            "gridcolor": "white",
            "gridwidth": 2,
            "linecolor": "white",
            "showbackground": true,
            "ticks": "",
            "zerolinecolor": "white"
           }
          },
          "shapedefaults": {
           "line": {
            "color": "#2a3f5f"
           }
          },
          "ternary": {
           "aaxis": {
            "gridcolor": "white",
            "linecolor": "white",
            "ticks": ""
           },
           "baxis": {
            "gridcolor": "white",
            "linecolor": "white",
            "ticks": ""
           },
           "bgcolor": "#E5ECF6",
           "caxis": {
            "gridcolor": "white",
            "linecolor": "white",
            "ticks": ""
           }
          },
          "title": {
           "x": 0.05
          },
          "xaxis": {
           "automargin": true,
           "gridcolor": "white",
           "linecolor": "white",
           "ticks": "",
           "title": {
            "standoff": 15
           },
           "zerolinecolor": "white",
           "zerolinewidth": 2
          },
          "yaxis": {
           "automargin": true,
           "gridcolor": "white",
           "linecolor": "white",
           "ticks": "",
           "title": {
            "standoff": 15
           },
           "zerolinecolor": "white",
           "zerolinewidth": 2
          }
         }
        },
        "xaxis": {
         "anchor": "y",
         "domain": [
          0,
          1
         ],
         "title": {
          "text": "H:M"
         }
        },
        "yaxis": {
         "anchor": "x",
         "domain": [
          0,
          1
         ]
        }
       }
      },
      "text/html": [
       "<div>                            <div id=\"34c5d6a0-a199-4df7-90ae-ea6c9a331c7a\" class=\"plotly-graph-div\" style=\"height:525px; width:100%;\"></div>            <script type=\"text/javascript\">                require([\"plotly\"], function(Plotly) {                    window.PLOTLYENV=window.PLOTLYENV || {};                                    if (document.getElementById(\"34c5d6a0-a199-4df7-90ae-ea6c9a331c7a\")) {                    Plotly.newPlot(                        \"34c5d6a0-a199-4df7-90ae-ea6c9a331c7a\",                        [{\"alignmentgroup\": \"True\", \"hovertemplate\": \"H:M=%{x}<extra></extra>\", \"legendgroup\": \"\", \"marker\": {\"color\": \"#636efa\"}, \"name\": \"\", \"notched\": false, \"offsetgroup\": \"\", \"orientation\": \"h\", \"showlegend\": false, \"type\": \"box\", \"x\": [\"00:00:00\", \"00:00:00\", \"00:00:00\", \"00:00:00\", \"00:00:00\", \"00:00:00\", \"00:00:00\", \"00:00:00\", \"00:00:00\", \"00:00:00\", \"00:00:00\", \"01:00:00\", \"01:00:00\", \"01:00:00\", \"01:00:00\", \"02:00:00\", \"02:00:00\", \"02:00:00\", \"03:00:00\", \"04:00:00\", \"04:00:00\", \"04:00:00\", \"04:00:00\", \"04:00:00\", \"04:00:00\", \"04:00:00\", \"04:00:00\", \"04:00:00\", \"04:00:00\", \"04:30:00\", \"04:30:00\", \"04:30:00\", \"04:36:00\", \"04:45:00\", \"04:45:00\", \"05:00:00\", \"05:00:00\", \"05:00:00\", \"05:00:00\", \"05:00:00\", \"05:00:00\", \"05:00:00\", \"05:00:00\", \"05:00:00\", \"05:00:00\", \"05:00:00\", \"05:00:00\", \"05:00:00\", \"05:00:00\", \"05:00:00\", \"05:00:00\", \"05:00:00\", \"05:00:00\", \"05:00:00\", \"05:00:00\", \"05:00:00\", \"05:00:00\", \"05:00:00\", \"05:00:00\", \"05:00:00\", \"05:00:00\", \"05:00:00\", \"05:00:00\", \"05:00:00\", \"05:00:00\", \"05:00:00\", \"05:00:00\", \"05:00:00\", \"05:00:00\", \"05:00:00\", \"05:00:00\", \"05:00:00\", \"05:00:00\", \"05:00:00\", \"05:00:00\", \"05:00:00\", \"05:00:00\", \"05:00:00\", \"05:00:00\", \"05:00:00\", \"05:00:00\", \"05:00:00\", \"05:00:00\", \"05:00:00\", \"05:00:00\", \"05:00:00\", \"05:00:00\", \"05:00:00\", \"05:00:00\", \"05:00:00\", \"05:00:00\", \"05:15:00\", \"05:15:00\", \"05:15:00\", \"05:20:00\", \"05:20:00\", \"05:28:00\", \"05:28:00\", \"05:30:00\", \"05:30:00\", \"05:30:00\", \"05:30:00\", \"05:30:00\", \"05:30:00\", \"05:30:00\", \"05:30:00\", \"05:30:00\", \"05:30:00\", \"05:30:00\", \"05:30:00\", \"05:30:00\", \"05:30:00\", \"05:30:00\", \"05:30:00\", \"05:35:00\", \"05:45:00\", \"05:45:00\", \"05:45:00\", \"05:45:00\", \"05:45:00\", \"05:45:00\", \"05:45:00\", \"05:45:00\", \"05:50:00\", \"06:00:00\", \"06:00:00\", \"06:00:00\", \"06:00:00\", \"06:00:00\", \"06:00:00\", \"06:00:00\", \"06:00:00\", \"06:00:00\", \"06:00:00\", \"06:00:00\", \"06:00:00\", \"06:00:00\", \"06:00:00\", \"06:00:00\", \"06:00:00\", \"06:00:00\", \"06:00:00\", \"06:00:00\", \"06:00:00\", \"06:00:00\", \"06:00:00\", \"06:00:00\", \"06:00:00\", \"06:00:00\", \"06:00:00\", \"06:00:00\", \"06:00:00\", \"06:00:00\", \"06:00:00\", \"06:00:00\", \"06:00:00\", \"06:00:00\", \"06:00:00\", \"06:00:00\", \"06:00:00\", \"06:00:00\", \"06:00:00\", \"06:00:00\", \"06:00:00\", \"06:00:00\", \"06:00:00\", \"06:00:00\", \"06:00:00\", \"06:00:00\", \"06:00:00\", \"06:00:00\", \"06:00:00\", \"06:00:00\", \"06:00:00\", \"06:00:00\", \"06:00:00\", \"06:00:00\", \"06:00:00\", \"06:00:00\", \"06:00:00\", \"06:00:00\", \"06:00:00\", \"06:00:00\", \"06:00:00\", \"06:00:00\", \"06:00:00\", \"06:00:00\", \"06:00:00\", \"06:00:00\", \"06:00:00\", \"06:00:00\", \"06:00:00\", \"06:00:00\", \"06:00:00\", \"06:00:00\", \"06:00:00\", \"06:00:00\", \"06:00:00\", \"06:00:00\", \"06:00:00\", \"06:00:00\", \"06:00:00\", \"06:00:00\", \"06:00:00\", \"06:00:00\", \"06:00:00\", \"06:00:00\", \"06:00:00\", \"06:00:00\", \"06:00:00\", \"06:00:00\", \"06:00:00\", \"06:00:00\", \"06:00:00\", \"06:00:00\", \"06:00:00\", \"06:00:00\", \"06:00:00\", \"06:00:00\", \"06:00:00\", \"06:00:00\", \"06:00:00\", \"06:10:00\", \"06:15:00\", \"06:15:00\", \"06:15:00\", \"06:15:00\", \"06:20:00\", \"06:20:00\", \"06:25:00\", \"06:30:00\", \"06:30:00\", \"06:30:00\", \"06:30:00\", \"06:30:00\", \"06:30:00\", \"06:30:00\", \"06:30:00\", \"06:30:00\", \"06:30:00\", \"06:30:00\", \"06:30:00\", \"06:30:00\", \"06:30:00\", \"06:30:00\", \"06:30:00\", \"06:30:00\", \"06:30:00\", \"06:30:00\", \"06:30:00\", \"06:30:00\", \"06:30:00\", \"06:30:00\", \"06:30:00\", \"06:30:00\", \"06:30:00\", \"06:30:00\", \"06:30:00\", \"06:30:00\", \"06:30:00\", \"06:30:00\", \"06:30:00\", \"06:30:00\", \"06:30:00\", \"06:40:00\", \"06:40:00\", \"06:45:00\", \"06:45:00\", \"06:45:00\", \"06:45:00\", \"06:45:00\", \"06:45:00\", \"06:50:00\", \"06:50:00\", \"06:50:00\", \"06:52:00\", \"07:00:00\", \"07:00:00\", \"07:00:00\", \"07:00:00\", \"07:00:00\", \"07:00:00\", \"07:00:00\", \"07:00:00\", \"07:00:00\", \"07:00:00\", \"07:00:00\", \"07:00:00\", \"07:00:00\", \"07:00:00\", \"07:00:00\", \"07:00:00\", \"07:00:00\", \"07:00:00\", \"07:00:00\", \"07:00:00\", \"07:00:00\", \"07:00:00\", \"07:00:00\", \"07:00:00\", \"07:00:00\", \"07:00:00\", \"07:00:00\", \"07:00:00\", \"07:00:00\", \"07:00:00\", \"07:00:00\", \"07:00:00\", \"07:00:00\", \"07:00:00\", \"07:00:00\", \"07:00:00\", \"07:00:00\", \"07:00:00\", \"07:00:00\", \"07:00:00\", \"07:00:00\", \"07:00:00\", \"07:00:00\", \"07:00:00\", \"07:00:00\", \"07:00:00\", \"07:00:00\", \"07:00:00\", \"07:00:00\", \"07:00:00\", \"07:00:00\", \"07:00:00\", \"07:00:00\", \"07:00:00\", \"07:00:00\", \"07:00:00\", \"07:00:00\", \"07:00:00\", \"07:00:00\", \"07:00:00\", \"07:00:00\", \"07:00:00\", \"07:00:00\", \"07:00:00\", \"07:00:00\", \"07:00:00\", \"07:00:00\", \"07:00:00\", \"07:00:00\", \"07:00:00\", \"07:00:00\", \"07:00:00\", \"07:00:00\", \"07:00:00\", \"07:00:00\", \"07:00:00\", \"07:00:00\", \"07:00:00\", \"07:00:00\", \"07:00:00\", \"07:00:00\", \"07:00:00\", \"07:00:00\", \"07:00:00\", \"07:00:00\", \"07:00:00\", \"07:00:00\", \"07:00:00\", \"07:00:00\", \"07:00:00\", \"07:00:00\", \"07:00:00\", \"07:00:00\", \"07:00:00\", \"07:00:00\", \"07:00:00\", \"07:00:00\", \"07:00:00\", \"07:00:00\", \"07:00:00\", \"07:00:00\", \"07:00:00\", \"07:00:00\", \"07:00:00\", \"07:00:00\", \"07:00:00\", \"07:00:00\", \"07:00:00\", \"07:00:00\", \"07:00:00\", \"07:00:00\", \"07:00:00\", \"07:00:00\", \"07:00:00\", \"07:00:00\", \"07:00:00\", \"07:00:00\", \"07:00:00\", \"07:00:00\", \"07:00:00\", \"07:00:00\", \"07:00:00\", \"07:00:00\", \"07:00:00\", \"07:00:00\", \"07:00:00\", \"07:00:00\", \"07:00:00\", \"07:00:00\", \"07:00:00\", \"07:00:00\", \"07:00:00\", \"07:00:00\", \"07:00:00\", \"07:00:00\", \"07:00:00\", \"07:00:00\", \"07:00:00\", \"07:00:00\", \"07:00:00\", \"07:00:00\", \"07:00:00\", \"07:00:00\", \"07:00:00\", \"07:00:00\", \"07:00:00\", \"07:00:00\", \"07:00:00\", \"07:00:00\", \"07:00:00\", \"07:00:00\", \"07:00:00\", \"07:00:00\", \"07:00:00\", \"07:00:00\", \"07:00:00\", \"07:00:00\", \"07:00:00\", \"07:00:00\", \"07:00:00\", \"07:00:00\", \"07:00:00\", \"07:00:00\", \"07:00:00\", \"07:00:00\", \"07:05:00\", \"07:10:00\", \"07:10:00\", \"07:10:00\", \"07:15:00\", \"07:15:00\", \"07:15:00\", \"07:15:00\", \"07:15:00\", \"07:15:00\", \"07:15:00\", \"07:15:00\", \"07:15:00\", \"07:15:00\", \"07:20:00\", \"07:20:00\", \"07:23:00\", \"07:30:00\", \"07:30:00\", \"07:30:00\", \"07:30:00\", \"07:30:00\", \"07:30:00\", \"07:30:00\", \"07:30:00\", \"07:30:00\", \"07:30:00\", \"07:30:00\", \"07:30:00\", \"07:30:00\", \"07:30:00\", \"07:30:00\", \"07:30:00\", \"07:30:00\", \"07:30:00\", \"07:30:00\", \"07:30:00\", \"07:30:00\", \"07:30:00\", \"07:30:00\", \"07:30:00\", \"07:30:00\", \"07:30:00\", \"07:30:00\", \"07:30:00\", \"07:30:00\", \"07:30:00\", \"07:30:00\", \"07:30:00\", \"07:30:00\", \"07:30:00\", \"07:30:00\", \"07:30:00\", \"07:30:00\", \"07:30:00\", \"07:30:00\", \"07:40:00\", \"07:40:00\", \"07:45:00\", \"07:45:00\", \"07:45:00\", \"07:45:00\", \"07:45:00\", \"07:45:00\", \"07:50:00\", \"07:50:00\", \"07:55:00\", \"07:56:00\", \"08:00:00\", \"08:00:00\", \"08:00:00\", \"08:00:00\", \"08:00:00\", \"08:00:00\", \"08:00:00\", \"08:00:00\", \"08:00:00\", \"08:00:00\", \"08:00:00\", \"08:00:00\", \"08:00:00\", \"08:00:00\", \"08:00:00\", \"08:00:00\", \"08:00:00\", \"08:00:00\", \"08:00:00\", \"08:00:00\", \"08:00:00\", \"08:00:00\", \"08:00:00\", \"08:00:00\", \"08:00:00\", \"08:00:00\", \"08:00:00\", \"08:00:00\", \"08:00:00\", \"08:00:00\", \"08:00:00\", \"08:00:00\", \"08:00:00\", \"08:00:00\", \"08:00:00\", \"08:00:00\", \"08:00:00\", \"08:00:00\", \"08:00:00\", \"08:00:00\", \"08:00:00\", \"08:00:00\", \"08:00:00\", \"08:00:00\", \"08:00:00\", \"08:00:00\", \"08:00:00\", \"08:00:00\", \"08:00:00\", \"08:00:00\", \"08:00:00\", \"08:00:00\", \"08:00:00\", \"08:00:00\", \"08:00:00\", \"08:00:00\", \"08:00:00\", \"08:00:00\", \"08:00:00\", \"08:00:00\", \"08:00:00\", \"08:00:00\", \"08:00:00\", \"08:00:00\", \"08:00:00\", \"08:00:00\", \"08:00:00\", \"08:00:00\", \"08:00:00\", \"08:00:00\", \"08:00:00\", \"08:00:00\", \"08:00:00\", \"08:00:00\", \"08:00:00\", \"08:00:00\", \"08:00:00\", \"08:00:00\", \"08:10:00\", \"08:10:00\", \"08:15:00\", \"08:15:00\", \"08:15:00\", \"08:20:00\", \"08:25:00\", \"08:30:00\", \"08:30:00\", \"08:30:00\", \"08:30:00\", \"08:30:00\", \"08:30:00\", \"08:30:00\", \"08:30:00\", \"08:30:00\", \"08:30:00\", \"08:30:00\", \"08:30:00\", \"08:30:00\", \"08:30:00\", \"08:45:00\", \"08:50:00\", \"09:00:00\", \"09:00:00\", \"09:00:00\", \"09:00:00\", \"09:00:00\", \"09:00:00\", \"09:00:00\", \"09:00:00\", \"09:00:00\", \"09:00:00\", \"09:00:00\", \"09:00:00\", \"09:30:00\", \"09:30:00\", \"09:40:00\", \"10:00:00\", \"10:00:00\", \"10:00:00\", \"10:00:00\", \"10:00:00\", \"10:00:00\", \"10:00:00\", \"10:00:00\", \"11:00:00\", \"11:00:00\", \"11:30:00\", \"12:00:00\", \"12:00:00\", \"12:00:00\", \"12:00:00\", \"18:00:00\", \"18:00:00\", \"19:00:00\", \"20:00:00\", \"21:00:00\", \"21:00:00\", \"22:00:00\", \"23:00:00\", \"23:30:00\"], \"x0\": \" \", \"xaxis\": \"x\", \"y0\": \" \", \"yaxis\": \"y\"}],                        {\"boxmode\": \"group\", \"legend\": {\"tracegroupgap\": 0}, \"margin\": {\"t\": 60}, \"template\": {\"data\": {\"bar\": [{\"error_x\": {\"color\": \"#2a3f5f\"}, \"error_y\": {\"color\": \"#2a3f5f\"}, \"marker\": {\"line\": {\"color\": \"#E5ECF6\", \"width\": 0.5}}, \"type\": \"bar\"}], \"barpolar\": [{\"marker\": {\"line\": {\"color\": \"#E5ECF6\", \"width\": 0.5}}, \"type\": \"barpolar\"}], \"carpet\": [{\"aaxis\": {\"endlinecolor\": \"#2a3f5f\", \"gridcolor\": \"white\", \"linecolor\": \"white\", \"minorgridcolor\": \"white\", \"startlinecolor\": \"#2a3f5f\"}, \"baxis\": {\"endlinecolor\": \"#2a3f5f\", \"gridcolor\": \"white\", \"linecolor\": \"white\", \"minorgridcolor\": \"white\", \"startlinecolor\": \"#2a3f5f\"}, \"type\": \"carpet\"}], \"choropleth\": [{\"colorbar\": {\"outlinewidth\": 0, \"ticks\": \"\"}, \"type\": \"choropleth\"}], \"contour\": [{\"colorbar\": {\"outlinewidth\": 0, \"ticks\": \"\"}, \"colorscale\": [[0.0, \"#0d0887\"], [0.1111111111111111, \"#46039f\"], [0.2222222222222222, \"#7201a8\"], [0.3333333333333333, \"#9c179e\"], [0.4444444444444444, \"#bd3786\"], [0.5555555555555556, \"#d8576b\"], [0.6666666666666666, \"#ed7953\"], [0.7777777777777778, \"#fb9f3a\"], [0.8888888888888888, \"#fdca26\"], [1.0, \"#f0f921\"]], \"type\": \"contour\"}], \"contourcarpet\": [{\"colorbar\": {\"outlinewidth\": 0, \"ticks\": \"\"}, \"type\": \"contourcarpet\"}], \"heatmap\": [{\"colorbar\": {\"outlinewidth\": 0, \"ticks\": \"\"}, \"colorscale\": [[0.0, \"#0d0887\"], [0.1111111111111111, \"#46039f\"], [0.2222222222222222, \"#7201a8\"], [0.3333333333333333, \"#9c179e\"], [0.4444444444444444, \"#bd3786\"], [0.5555555555555556, \"#d8576b\"], [0.6666666666666666, \"#ed7953\"], [0.7777777777777778, \"#fb9f3a\"], [0.8888888888888888, \"#fdca26\"], [1.0, \"#f0f921\"]], \"type\": \"heatmap\"}], \"heatmapgl\": [{\"colorbar\": {\"outlinewidth\": 0, \"ticks\": \"\"}, \"colorscale\": [[0.0, \"#0d0887\"], [0.1111111111111111, \"#46039f\"], [0.2222222222222222, \"#7201a8\"], [0.3333333333333333, \"#9c179e\"], [0.4444444444444444, \"#bd3786\"], [0.5555555555555556, \"#d8576b\"], [0.6666666666666666, \"#ed7953\"], [0.7777777777777778, \"#fb9f3a\"], [0.8888888888888888, \"#fdca26\"], [1.0, \"#f0f921\"]], \"type\": \"heatmapgl\"}], \"histogram\": [{\"marker\": {\"colorbar\": {\"outlinewidth\": 0, \"ticks\": \"\"}}, \"type\": \"histogram\"}], \"histogram2d\": [{\"colorbar\": {\"outlinewidth\": 0, \"ticks\": \"\"}, \"colorscale\": [[0.0, \"#0d0887\"], [0.1111111111111111, \"#46039f\"], [0.2222222222222222, \"#7201a8\"], [0.3333333333333333, \"#9c179e\"], [0.4444444444444444, \"#bd3786\"], [0.5555555555555556, \"#d8576b\"], [0.6666666666666666, \"#ed7953\"], [0.7777777777777778, \"#fb9f3a\"], [0.8888888888888888, \"#fdca26\"], [1.0, \"#f0f921\"]], \"type\": \"histogram2d\"}], \"histogram2dcontour\": [{\"colorbar\": {\"outlinewidth\": 0, \"ticks\": \"\"}, \"colorscale\": [[0.0, \"#0d0887\"], [0.1111111111111111, \"#46039f\"], [0.2222222222222222, \"#7201a8\"], [0.3333333333333333, \"#9c179e\"], [0.4444444444444444, \"#bd3786\"], [0.5555555555555556, \"#d8576b\"], [0.6666666666666666, \"#ed7953\"], [0.7777777777777778, \"#fb9f3a\"], [0.8888888888888888, \"#fdca26\"], [1.0, \"#f0f921\"]], \"type\": \"histogram2dcontour\"}], \"mesh3d\": [{\"colorbar\": {\"outlinewidth\": 0, \"ticks\": \"\"}, \"type\": \"mesh3d\"}], \"parcoords\": [{\"line\": {\"colorbar\": {\"outlinewidth\": 0, \"ticks\": \"\"}}, \"type\": \"parcoords\"}], \"pie\": [{\"automargin\": true, \"type\": \"pie\"}], \"scatter\": [{\"marker\": {\"colorbar\": {\"outlinewidth\": 0, \"ticks\": \"\"}}, \"type\": \"scatter\"}], \"scatter3d\": [{\"line\": {\"colorbar\": {\"outlinewidth\": 0, \"ticks\": \"\"}}, \"marker\": {\"colorbar\": {\"outlinewidth\": 0, \"ticks\": \"\"}}, \"type\": \"scatter3d\"}], \"scattercarpet\": [{\"marker\": {\"colorbar\": {\"outlinewidth\": 0, \"ticks\": \"\"}}, \"type\": \"scattercarpet\"}], \"scattergeo\": [{\"marker\": {\"colorbar\": {\"outlinewidth\": 0, \"ticks\": \"\"}}, \"type\": \"scattergeo\"}], \"scattergl\": [{\"marker\": {\"colorbar\": {\"outlinewidth\": 0, \"ticks\": \"\"}}, \"type\": \"scattergl\"}], \"scattermapbox\": [{\"marker\": {\"colorbar\": {\"outlinewidth\": 0, \"ticks\": \"\"}}, \"type\": \"scattermapbox\"}], \"scatterpolar\": [{\"marker\": {\"colorbar\": {\"outlinewidth\": 0, \"ticks\": \"\"}}, \"type\": \"scatterpolar\"}], \"scatterpolargl\": [{\"marker\": {\"colorbar\": {\"outlinewidth\": 0, \"ticks\": \"\"}}, \"type\": \"scatterpolargl\"}], \"scatterternary\": [{\"marker\": {\"colorbar\": {\"outlinewidth\": 0, \"ticks\": \"\"}}, \"type\": \"scatterternary\"}], \"surface\": [{\"colorbar\": {\"outlinewidth\": 0, \"ticks\": \"\"}, \"colorscale\": [[0.0, \"#0d0887\"], [0.1111111111111111, \"#46039f\"], [0.2222222222222222, \"#7201a8\"], [0.3333333333333333, \"#9c179e\"], [0.4444444444444444, \"#bd3786\"], [0.5555555555555556, \"#d8576b\"], [0.6666666666666666, \"#ed7953\"], [0.7777777777777778, \"#fb9f3a\"], [0.8888888888888888, \"#fdca26\"], [1.0, \"#f0f921\"]], \"type\": \"surface\"}], \"table\": [{\"cells\": {\"fill\": {\"color\": \"#EBF0F8\"}, \"line\": {\"color\": \"white\"}}, \"header\": {\"fill\": {\"color\": \"#C8D4E3\"}, \"line\": {\"color\": \"white\"}}, \"type\": \"table\"}]}, \"layout\": {\"annotationdefaults\": {\"arrowcolor\": \"#2a3f5f\", \"arrowhead\": 0, \"arrowwidth\": 1}, \"coloraxis\": {\"colorbar\": {\"outlinewidth\": 0, \"ticks\": \"\"}}, \"colorscale\": {\"diverging\": [[0, \"#8e0152\"], [0.1, \"#c51b7d\"], [0.2, \"#de77ae\"], [0.3, \"#f1b6da\"], [0.4, \"#fde0ef\"], [0.5, \"#f7f7f7\"], [0.6, \"#e6f5d0\"], [0.7, \"#b8e186\"], [0.8, \"#7fbc41\"], [0.9, \"#4d9221\"], [1, \"#276419\"]], \"sequential\": [[0.0, \"#0d0887\"], [0.1111111111111111, \"#46039f\"], [0.2222222222222222, \"#7201a8\"], [0.3333333333333333, \"#9c179e\"], [0.4444444444444444, \"#bd3786\"], [0.5555555555555556, \"#d8576b\"], [0.6666666666666666, \"#ed7953\"], [0.7777777777777778, \"#fb9f3a\"], [0.8888888888888888, \"#fdca26\"], [1.0, \"#f0f921\"]], \"sequentialminus\": [[0.0, \"#0d0887\"], [0.1111111111111111, \"#46039f\"], [0.2222222222222222, \"#7201a8\"], [0.3333333333333333, \"#9c179e\"], [0.4444444444444444, \"#bd3786\"], [0.5555555555555556, \"#d8576b\"], [0.6666666666666666, \"#ed7953\"], [0.7777777777777778, \"#fb9f3a\"], [0.8888888888888888, \"#fdca26\"], [1.0, \"#f0f921\"]]}, \"colorway\": [\"#636efa\", \"#EF553B\", \"#00cc96\", \"#ab63fa\", \"#FFA15A\", \"#19d3f3\", \"#FF6692\", \"#B6E880\", \"#FF97FF\", \"#FECB52\"], \"font\": {\"color\": \"#2a3f5f\"}, \"geo\": {\"bgcolor\": \"white\", \"lakecolor\": \"white\", \"landcolor\": \"#E5ECF6\", \"showlakes\": true, \"showland\": true, \"subunitcolor\": \"white\"}, \"hoverlabel\": {\"align\": \"left\"}, \"hovermode\": \"closest\", \"mapbox\": {\"style\": \"light\"}, \"paper_bgcolor\": \"white\", \"plot_bgcolor\": \"#E5ECF6\", \"polar\": {\"angularaxis\": {\"gridcolor\": \"white\", \"linecolor\": \"white\", \"ticks\": \"\"}, \"bgcolor\": \"#E5ECF6\", \"radialaxis\": {\"gridcolor\": \"white\", \"linecolor\": \"white\", \"ticks\": \"\"}}, \"scene\": {\"xaxis\": {\"backgroundcolor\": \"#E5ECF6\", \"gridcolor\": \"white\", \"gridwidth\": 2, \"linecolor\": \"white\", \"showbackground\": true, \"ticks\": \"\", \"zerolinecolor\": \"white\"}, \"yaxis\": {\"backgroundcolor\": \"#E5ECF6\", \"gridcolor\": \"white\", \"gridwidth\": 2, \"linecolor\": \"white\", \"showbackground\": true, \"ticks\": \"\", \"zerolinecolor\": \"white\"}, \"zaxis\": {\"backgroundcolor\": \"#E5ECF6\", \"gridcolor\": \"white\", \"gridwidth\": 2, \"linecolor\": \"white\", \"showbackground\": true, \"ticks\": \"\", \"zerolinecolor\": \"white\"}}, \"shapedefaults\": {\"line\": {\"color\": \"#2a3f5f\"}}, \"ternary\": {\"aaxis\": {\"gridcolor\": \"white\", \"linecolor\": \"white\", \"ticks\": \"\"}, \"baxis\": {\"gridcolor\": \"white\", \"linecolor\": \"white\", \"ticks\": \"\"}, \"bgcolor\": \"#E5ECF6\", \"caxis\": {\"gridcolor\": \"white\", \"linecolor\": \"white\", \"ticks\": \"\"}}, \"title\": {\"x\": 0.05}, \"xaxis\": {\"automargin\": true, \"gridcolor\": \"white\", \"linecolor\": \"white\", \"ticks\": \"\", \"title\": {\"standoff\": 15}, \"zerolinecolor\": \"white\", \"zerolinewidth\": 2}, \"yaxis\": {\"automargin\": true, \"gridcolor\": \"white\", \"linecolor\": \"white\", \"ticks\": \"\", \"title\": {\"standoff\": 15}, \"zerolinecolor\": \"white\", \"zerolinewidth\": 2}}}, \"xaxis\": {\"anchor\": \"y\", \"domain\": [0.0, 1.0], \"title\": {\"text\": \"H:M\"}}, \"yaxis\": {\"anchor\": \"x\", \"domain\": [0.0, 1.0]}},                        {\"responsive\": true}                    ).then(function(){\n",
       "                            \n",
       "var gd = document.getElementById('34c5d6a0-a199-4df7-90ae-ea6c9a331c7a');\n",
       "var x = new MutationObserver(function (mutations, observer) {{\n",
       "        var display = window.getComputedStyle(gd).display;\n",
       "        if (!display || display === 'none') {{\n",
       "            console.log([gd, 'removed!']);\n",
       "            Plotly.purge(gd);\n",
       "            observer.disconnect();\n",
       "        }}\n",
       "}});\n",
       "\n",
       "// Listen for the removal of the full notebook cells\n",
       "var notebookContainer = gd.closest('#notebook-container');\n",
       "if (notebookContainer) {{\n",
       "    x.observe(notebookContainer, {childList: true});\n",
       "}}\n",
       "\n",
       "// Listen for the clearing of the current output cell\n",
       "var outputEl = gd.closest('.output');\n",
       "if (outputEl) {{\n",
       "    x.observe(outputEl, {childList: true});\n",
       "}}\n",
       "\n",
       "                        })                };                });            </script>        </div>"
      ]
     },
     "metadata": {},
     "output_type": "display_data"
    }
   ],
   "source": [
    "fig = px.box(times.sort_values(by='H:M'), x=\"H:M\")\n",
    "fig.show()"
   ]
  },
  {
   "cell_type": "code",
   "execution_count": null,
   "metadata": {},
   "outputs": [],
   "source": []
  }
 ],
 "metadata": {
  "kernelspec": {
   "display_name": "Python 3",
   "language": "python",
   "name": "python3"
  },
  "language_info": {
   "codemirror_mode": {
    "name": "ipython",
    "version": 3
   },
   "file_extension": ".py",
   "mimetype": "text/x-python",
   "name": "python",
   "nbconvert_exporter": "python",
   "pygments_lexer": "ipython3",
   "version": "3.8.3"
  }
 },
 "nbformat": 4,
 "nbformat_minor": 4
}
